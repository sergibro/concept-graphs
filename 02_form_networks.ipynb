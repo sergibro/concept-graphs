{
 "cells": [
  {
   "cell_type": "markdown",
   "metadata": {},
   "source": [
    "### define"
   ]
  },
  {
   "cell_type": "code",
   "execution_count": 1,
   "metadata": {
    "ExecuteTime": {
     "end_time": "2020-01-05T02:38:57.434797Z",
     "start_time": "2020-01-05T02:38:57.343915Z"
    }
   },
   "outputs": [],
   "source": [
    "import igraph\n",
    "\n",
    "EDGELIST_FULL = './data/concepts_full.edgelist'\n",
    "EDGELIST_2015_CUM = './data/concepts_2015_cum.edgelist'\n",
    "EDGELIST_2015 = './data/concepts_2015.edgelist'\n",
    "EDGELIST_2013_CUM = './data/concepts_2013_cum.edgelist'\n",
    "EDGELIST_2013 = './data/concepts_2013.edgelist'"
   ]
  },
  {
   "cell_type": "markdown",
   "metadata": {},
   "source": [
    "Disparity filter for link significance:\n",
    "\n",
    "[www.pnas.org/content/106/16/6483](https://www.pnas.org/content/106/16/6483)"
   ]
  },
  {
   "cell_type": "code",
   "execution_count": 2,
   "metadata": {
    "ExecuteTime": {
     "end_time": "2020-01-05T02:38:57.454670Z",
     "start_time": "2020-01-05T02:38:57.436272Z"
    }
   },
   "outputs": [],
   "source": [
    "def disparity_integral(x, k):\n",
    "    \"\"\"\n",
    "    calculate the definite integral in the disparity filter\n",
    "    \"\"\"\n",
    "    return ((1.0 - x)**k) / ((k - 1.0) * (x - 1.0))\n",
    "\n",
    "def get_disparity_significance(norm_weight, degree):\n",
    "    \"\"\"\n",
    "    calculate the significance (alpha) for the disparity filter\n",
    "    \"\"\"\n",
    "    return 1.0 - ((degree - 1.0) * (disparity_integral(norm_weight, degree) - disparity_integral(0.0, degree)))"
   ]
  },
  {
   "cell_type": "markdown",
   "metadata": {
    "heading_collapsed": true
   },
   "source": [
    "## form"
   ]
  },
  {
   "cell_type": "code",
   "execution_count": 2,
   "metadata": {
    "ExecuteTime": {
     "end_time": "2020-01-05T01:37:12.891795Z",
     "start_time": "2020-01-05T01:30:21.618664Z"
    },
    "hidden": true
   },
   "outputs": [
    {
     "data": {
      "application/vnd.jupyter.widget-view+json": {
       "model_id": "867705869cc34572855e79b18057d509",
       "version_major": 2,
       "version_minor": 0
      },
      "text/plain": [
       "HBox(children=(IntProgress(value=0, max=1114761), HTML(value='')))"
      ]
     },
     "metadata": {},
     "output_type": "display_data"
    },
    {
     "name": "stdout",
     "output_type": "stream",
     "text": [
      "\n"
     ]
    },
    {
     "data": {
      "text/plain": [
       "(0, 0, 0, 12658007, 11139356)"
      ]
     },
     "execution_count": 2,
     "metadata": {},
     "output_type": "execute_result"
    }
   ],
   "source": [
    "d_full = defaultdict(int)\n",
    "d_2015_cum = defaultdict(int)\n",
    "d_2015 = defaultdict(int)\n",
    "d_2013_cum = defaultdict(int)\n",
    "d_2013 = defaultdict(int)\n",
    "\n",
    "find = mc['sw']['articles'].find({'concepts_len': {'$gte': 2}}, ['arxiv_id', 'concepts'])\n",
    "\n",
    "for a in tn(find, total=mc['sw']['articles'].count_documents({'concepts_len': {'$gte': 2}})):\n",
    "    year = int(a['arxiv_id'][:2])\n",
    "    concepts = sorted(a['concepts'])\n",
    "    for i in range(len(concepts) - 1):\n",
    "        c = concepts[i]\n",
    "        for cc in concepts[i + 1:]:\n",
    "#             d_full[(c, cc)] += 1\n",
    "            if year <= 15:\n",
    "#                 d_2015_cum[(c, cc)] += 1\n",
    "                if year == 15:\n",
    "                    d_2015[(c, cc)] += 1\n",
    "                if year <= 13:\n",
    "#                     d_2013_cum[(c, cc)] += 1\n",
    "                    if year == 13:\n",
    "                        d_2013[(c, cc)] += 1\n",
    "len(d_full), len(d_2015_cum), len(d_2015), len(d_2013_cum), len(d_2013)"
   ]
  },
  {
   "cell_type": "code",
   "execution_count": null,
   "metadata": {
    "hidden": true
   },
   "outputs": [],
   "source": [
    "with open(EDGELIST_FULL, 'w') as f:\n",
    "    for e, w in tn(d_full.items()):\n",
    "        f.write(f\"{e[0]} {e[1]} {w}\\n\")"
   ]
  },
  {
   "cell_type": "code",
   "execution_count": null,
   "metadata": {
    "hidden": true
   },
   "outputs": [],
   "source": [
    "with open(EDGELIST_2015_CUM, 'w') as f:\n",
    "    for e, w in tn(d_2015_cum.items()):\n",
    "        f.write(f\"{e[0]} {e[1]} {w}\\n\")"
   ]
  },
  {
   "cell_type": "code",
   "execution_count": null,
   "metadata": {
    "hidden": true
   },
   "outputs": [],
   "source": [
    "with open(EDGELIST_2015, 'w') as f:\n",
    "    for e, w in tn(d_2015.items()):\n",
    "        f.write(f\"{e[0]} {e[1]} {w}\\n\")"
   ]
  },
  {
   "cell_type": "code",
   "execution_count": null,
   "metadata": {
    "hidden": true
   },
   "outputs": [],
   "source": [
    "with open(EDGELIST_2013_CUM, 'w') as f:\n",
    "    for e, w in tn(d_2013_cum.items()):\n",
    "        f.write(f\"{e[0]} {e[1]} {w}\\n\")"
   ]
  },
  {
   "cell_type": "code",
   "execution_count": null,
   "metadata": {
    "hidden": true
   },
   "outputs": [],
   "source": [
    "with open(EDGELIST_2013, 'w') as f:\n",
    "    for e, w in tn(d_2013.items()):\n",
    "        f.write(f\"{e[0]} {e[1]} {w}\\n\")"
   ]
  },
  {
   "cell_type": "markdown",
   "metadata": {
    "heading_collapsed": true,
    "hidden": true
   },
   "source": [
    "### 2013"
   ]
  },
  {
   "cell_type": "code",
   "execution_count": 7,
   "metadata": {
    "ExecuteTime": {
     "end_time": "2020-01-05T01:40:32.647282Z",
     "start_time": "2020-01-05T01:40:32.624473Z"
    },
    "hidden": true
   },
   "outputs": [
    {
     "data": {
      "text/plain": [
       "(16229, 11139356)"
      ]
     },
     "execution_count": 7,
     "metadata": {},
     "output_type": "execute_result"
    }
   ],
   "source": [
    "g_2013 = igraph.Graph.Read_Ncol(EDGELIST_2013, directed=False)\n",
    "g_2013.vs['strength'] = g_2013.strength(weights='weight')\n",
    "g_2013.vcount(), g_2013.ecount()"
   ]
  },
  {
   "cell_type": "code",
   "execution_count": 87,
   "metadata": {
    "ExecuteTime": {
     "end_time": "2020-01-05T02:37:13.429845Z",
     "start_time": "2020-01-05T02:34:28.580071Z"
    },
    "hidden": true
   },
   "outputs": [
    {
     "data": {
      "application/vnd.jupyter.widget-view+json": {
       "model_id": "",
       "version_major": 2,
       "version_minor": 0
      },
      "text/plain": [
       "HBox(children=(IntProgress(value=0, max=11139356), HTML(value='')))"
      ]
     },
     "metadata": {},
     "output_type": "display_data"
    },
    {
     "name": "stdout",
     "output_type": "stream",
     "text": [
      "\n"
     ]
    }
   ],
   "source": [
    "for v in tn(g_2013.vs):\n",
    "    degree = v.degree()\n",
    "    strength = v['strength']  # just .strength() is simple degree !!!\n",
    "    for e in g_2013.es[g_2013.incident(v)]:\n",
    "        norm_weight = e['weight'] / strength\n",
    "        e['norm_weight'] = norm_weight\n",
    "        if degree > 1:\n",
    "            try:\n",
    "                if norm_weight == 1.0:\n",
    "                    norm_weight -= 0.0001\n",
    "                alpha = get_disparity_significance(norm_weight, degree)\n",
    "            old_alpha = e.attributes().get('alpha')\n",
    "            if old_alpha is None:\n",
    "                old_alpha = 100\n",
    "            e['alpha'] = min(old_alpha, alpha)\n",
    "            old_norm_weight = e.attributes().get('norm_weight')\n",
    "            if old_norm_weight is None:\n",
    "                old_norm_weight = 100\n",
    "            e['norm_weight'] = max(old_norm_weight, norm_weight)\n",
    "        else:\n",
    "            e['alpha'] = 0.0\n",
    "\n",
    "alpha_s = pd.Series(g_2013.es['alpha']).sort_values().reset_index()[[0]]\n",
    "alpha_to_p_value = 1 - alpha_s.groupby(0).apply(lambda x: min(x.index)) / len(alpha_s)\n",
    "for e in tn(g_2013.es()):\n",
    "    e['alpha_p_value'] = alpha_to_p_value[e['alpha']]\n",
    "pd.to_pickle(g_2013, './data/g_2013.pkl')"
   ]
  },
  {
   "cell_type": "markdown",
   "metadata": {
    "heading_collapsed": true,
    "hidden": true
   },
   "source": [
    "### 2015"
   ]
  },
  {
   "cell_type": "code",
   "execution_count": 3,
   "metadata": {
    "ExecuteTime": {
     "end_time": "2020-01-05T02:39:24.345143Z",
     "start_time": "2020-01-05T02:39:01.117796Z"
    },
    "hidden": true
   },
   "outputs": [
    {
     "data": {
      "text/plain": [
       "(16660, 12658007)"
      ]
     },
     "execution_count": 3,
     "metadata": {},
     "output_type": "execute_result"
    }
   ],
   "source": [
    "g_2015 = igraph.Graph.Read_Ncol(EDGELIST_2015, directed=False)\n",
    "g_2015.vs['strength'] = g_2015.strength(weights='weight')\n",
    "g_2015.vcount(), g_2015.ecount()"
   ]
  },
  {
   "cell_type": "code",
   "execution_count": 4,
   "metadata": {
    "ExecuteTime": {
     "end_time": "2020-01-05T02:58:37.329038Z",
     "start_time": "2020-01-05T02:39:24.347096Z"
    },
    "hidden": true
   },
   "outputs": [
    {
     "data": {
      "application/vnd.jupyter.widget-view+json": {
       "model_id": "84b507c148a34428b7374c2ee3975025",
       "version_major": 2,
       "version_minor": 0
      },
      "text/plain": [
       "HBox(children=(IntProgress(value=0, max=16660), HTML(value='')))"
      ]
     },
     "metadata": {},
     "output_type": "display_data"
    },
    {
     "name": "stdout",
     "output_type": "stream",
     "text": [
      "\n"
     ]
    },
    {
     "data": {
      "application/vnd.jupyter.widget-view+json": {
       "model_id": "ac219b1385944eda86b745434e4352b3",
       "version_major": 2,
       "version_minor": 0
      },
      "text/plain": [
       "HBox(children=(IntProgress(value=0, max=12658007), HTML(value='')))"
      ]
     },
     "metadata": {},
     "output_type": "display_data"
    },
    {
     "name": "stdout",
     "output_type": "stream",
     "text": [
      "\n"
     ]
    }
   ],
   "source": [
    "for v in tn(g_2015.vs):\n",
    "    degree = v.degree()\n",
    "    strength = v['strength']  # just .strength() is simple degree !!!\n",
    "    for e in g_2015.es[g_2015.incident(v)]:\n",
    "        norm_weight = e['weight'] / strength\n",
    "        e['norm_weight'] = norm_weight\n",
    "        if degree > 1:\n",
    "            try:\n",
    "                if norm_weight == 1.0:\n",
    "                    norm_weight -= 0.0001\n",
    "                alpha = get_disparity_significance(norm_weight, degree)\n",
    "            old_alpha = e.attributes().get('alpha')\n",
    "            if old_alpha is None:\n",
    "                old_alpha = 100\n",
    "            e['alpha'] = min(old_alpha, alpha)\n",
    "            old_norm_weight = e.attributes().get('norm_weight')\n",
    "            if old_norm_weight is None:\n",
    "                old_norm_weight = 100\n",
    "            e['norm_weight'] = max(old_norm_weight, norm_weight)\n",
    "        else:\n",
    "            e['alpha'] = 0.0\n",
    "\n",
    "alpha_s = pd.Series(g_2015.es['alpha']).sort_values().reset_index()[[0]]\n",
    "alpha_to_p_value = 1 - alpha_s.groupby(0).apply(lambda x: min(x.index)) / len(alpha_s)\n",
    "for e in tn(g_2015.es()):\n",
    "    e['alpha_p_value'] = alpha_to_p_value[e['alpha']]\n",
    "pd.to_pickle(g_2015, './data/g_2015.pkl')"
   ]
  }
 ],
 "metadata": {
  "kernelspec": {
   "display_name": "Python 3",
   "language": "python",
   "name": "python3"
  },
  "language_info": {
   "codemirror_mode": {
    "name": "ipython",
    "version": 3
   },
   "file_extension": ".py",
   "mimetype": "text/x-python",
   "name": "python",
   "nbconvert_exporter": "python",
   "pygments_lexer": "ipython3",
   "version": "3.7.3"
  },
  "toc": {
   "base_numbering": 1,
   "nav_menu": {},
   "number_sections": true,
   "sideBar": true,
   "skip_h1_title": false,
   "title_cell": "Table of Contents",
   "title_sidebar": "Contents",
   "toc_cell": false,
   "toc_position": {},
   "toc_section_display": true,
   "toc_window_display": false
  }
 },
 "nbformat": 4,
 "nbformat_minor": 2
}
