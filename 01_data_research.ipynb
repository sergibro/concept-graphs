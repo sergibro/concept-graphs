{
 "cells": [
  {
   "cell_type": "code",
   "execution_count": 1,
   "metadata": {
    "ExecuteTime": {
     "end_time": "2019-08-29T09:52:27.898375Z",
     "start_time": "2019-08-29T09:52:27.816331Z"
    }
   },
   "outputs": [],
   "source": [
    "import re\n",
    "from bs4 import BeautifulSoup\n",
    "\n",
    "from utils import *\n",
    "\n",
    "s = Session()"
   ]
  },
  {
   "cell_type": "code",
   "execution_count": 2,
   "metadata": {
    "ExecuteTime": {
     "end_time": "2019-08-29T09:52:28.910478Z",
     "start_time": "2019-08-29T09:52:28.887280Z"
    }
   },
   "outputs": [],
   "source": [
    "# ARXIV_ID = '1707.04830'\n",
    "ARXIV_ID = '1711.07064'\n",
    "\n",
    "ARXIV_URL = f'https://arxiv.org/abs/{ARXIV_ID}'\n",
    "SW_URL = f'http://sciencewise.info/articles/{ARXIV_ID}'"
   ]
  },
  {
   "cell_type": "markdown",
   "metadata": {
    "heading_collapsed": true
   },
   "source": [
    "## arXiv"
   ]
  },
  {
   "cell_type": "code",
   "execution_count": 331,
   "metadata": {
    "ExecuteTime": {
     "end_time": "2019-08-21T10:17:16.108190Z",
     "start_time": "2019-08-21T10:17:15.512394Z"
    },
    "hidden": true
   },
   "outputs": [
    {
     "data": {
      "text/html": [
       "<div>\n",
       "<style scoped>\n",
       "    .dataframe tbody tr th:only-of-type {\n",
       "        vertical-align: middle;\n",
       "    }\n",
       "\n",
       "    .dataframe tbody tr th {\n",
       "        vertical-align: top;\n",
       "    }\n",
       "\n",
       "    .dataframe thead th {\n",
       "        text-align: right;\n",
       "    }\n",
       "</style>\n",
       "<table border=\"1\" class=\"dataframe\">\n",
       "  <thead>\n",
       "    <tr style=\"text-align: right;\">\n",
       "      <th></th>\n",
       "      <th>0</th>\n",
       "      <th>1</th>\n",
       "    </tr>\n",
       "  </thead>\n",
       "  <tbody>\n",
       "    <tr>\n",
       "      <th>0</th>\n",
       "      <td>Comments:</td>\n",
       "      <td>CVPR 2018 camera-ready</td>\n",
       "    </tr>\n",
       "    <tr>\n",
       "      <th>1</th>\n",
       "      <td>Subjects:</td>\n",
       "      <td>Computer Vision and Pattern Recognition (cs.CV)</td>\n",
       "    </tr>\n",
       "    <tr>\n",
       "      <th>2</th>\n",
       "      <td>Cite as:</td>\n",
       "      <td>arXiv:1711.07064 [cs.CV]</td>\n",
       "    </tr>\n",
       "    <tr>\n",
       "      <th>3</th>\n",
       "      <td>NaN</td>\n",
       "      <td>(or arXiv:1711.07064v4 [cs.CV] for this version)</td>\n",
       "    </tr>\n",
       "  </tbody>\n",
       "</table>\n",
       "</div>"
      ],
      "text/plain": [
       "           0                                                 1\n",
       "0  Comments:                            CVPR 2018 camera-ready\n",
       "1  Subjects:   Computer Vision and Pattern Recognition (cs.CV)\n",
       "2   Cite as:                          arXiv:1711.07064 [cs.CV]\n",
       "3        NaN  (or arXiv:1711.07064v4 [cs.CV] for this version)"
      ]
     },
     "execution_count": 331,
     "metadata": {},
     "output_type": "execute_result"
    }
   ],
   "source": [
    "pd.read_html(ARXIV_URL)[0]"
   ]
  },
  {
   "cell_type": "code",
   "execution_count": 83,
   "metadata": {
    "ExecuteTime": {
     "end_time": "2019-08-16T10:55:51.331532Z",
     "start_time": "2019-08-16T10:55:50.489886Z"
    },
    "hidden": true
   },
   "outputs": [
    {
     "data": {
      "text/html": [
       "<div>\n",
       "<style scoped>\n",
       "    .dataframe tbody tr th:only-of-type {\n",
       "        vertical-align: middle;\n",
       "    }\n",
       "\n",
       "    .dataframe tbody tr th {\n",
       "        vertical-align: top;\n",
       "    }\n",
       "\n",
       "    .dataframe thead th {\n",
       "        text-align: right;\n",
       "    }\n",
       "</style>\n",
       "<table border=\"1\" class=\"dataframe\">\n",
       "  <thead>\n",
       "    <tr style=\"text-align: right;\">\n",
       "      <th></th>\n",
       "      <th>0</th>\n",
       "      <th>1</th>\n",
       "    </tr>\n",
       "  </thead>\n",
       "  <tbody>\n",
       "    <tr>\n",
       "      <th>0</th>\n",
       "      <td>Subjects:</td>\n",
       "      <td>Metric Geometry (math.MG)</td>\n",
       "    </tr>\n",
       "    <tr>\n",
       "      <th>1</th>\n",
       "      <td>MSC classes:</td>\n",
       "      <td>52A10, 52A27, 52A40</td>\n",
       "    </tr>\n",
       "    <tr>\n",
       "      <th>2</th>\n",
       "      <td>Journal reference:</td>\n",
       "      <td>Aequat. Math. 92 (2018), 993-1000</td>\n",
       "    </tr>\n",
       "    <tr>\n",
       "      <th>3</th>\n",
       "      <td>DOI:</td>\n",
       "      <td>10.1007/s00010-018-0565-4</td>\n",
       "    </tr>\n",
       "    <tr>\n",
       "      <th>4</th>\n",
       "      <td>Cite as:</td>\n",
       "      <td>arXiv:1707.04830 [math.MG]</td>\n",
       "    </tr>\n",
       "    <tr>\n",
       "      <th>5</th>\n",
       "      <td>NaN</td>\n",
       "      <td>(or arXiv:1707.04830v4 [math.MG] for this vers...</td>\n",
       "    </tr>\n",
       "  </tbody>\n",
       "</table>\n",
       "</div>"
      ],
      "text/plain": [
       "                    0                                                  1\n",
       "0           Subjects:                          Metric Geometry (math.MG)\n",
       "1        MSC classes:                                52A10, 52A27, 52A40\n",
       "2  Journal reference:                  Aequat. Math. 92 (2018), 993-1000\n",
       "3                DOI:                          10.1007/s00010-018-0565-4\n",
       "4            Cite as:                         arXiv:1707.04830 [math.MG]\n",
       "5                 NaN  (or arXiv:1707.04830v4 [math.MG] for this vers..."
      ]
     },
     "execution_count": 83,
     "metadata": {},
     "output_type": "execute_result"
    }
   ],
   "source": [
    "pd.read_html(ARXIV_URL)[0]"
   ]
  },
  {
   "cell_type": "code",
   "execution_count": 339,
   "metadata": {
    "ExecuteTime": {
     "end_time": "2019-08-21T10:19:08.578769Z",
     "start_time": "2019-08-21T10:19:07.989378Z"
    },
    "hidden": true
   },
   "outputs": [
    {
     "data": {
      "text/plain": [
       "'<?xml version=\"1.0\" encoding=\"UTF-8\"?>\\n<!DOCTYPE html PUBLIC \"-//W3C//DTD XHTML 1.0 Transitional//EN\" \"http://www.w3.org/TR/xhtml1/DTD/xhtml1-transitional.dtd\">\\n<html lang=\"en\" xmlns=\"http://www.w3.org/1999/xhtml\">\\n <head>\\n  <title>\\n   [1711.07064] DeblurGAN: Blind Motion Deblurring Using Conditional Adversarial Networks\\n  </title>\\n  <link href=\"https://static.arxiv.org/static/browse/0.2.5/images/icons/favicon.ico\" rel=\"shortcut icon\" type=\"image/x-icon\"/>\\n  <link href=\"https://static.arxiv.org/static/browse/0.2.5/css/arXiv.css?v=20190307\" media=\"screen\" rel=\"stylesheet\" type=\"text/css\"/>\\n  <link href=\"https://static.arxiv.org/static/browse/0.2.5/css/browse_search.css\" media=\"screen\" rel=\"stylesheet\" type=\"text/css\"/>\\n  <!-- Matomo -->\\n  <script type=\"text/javascript\">\\n   var _paq = window._paq || [];\\n    /* tracker methods like \"setCustomDimension\" should be called before \"trackPageView\" */\\n    _paq.push([\"setCookieDomain\", \"*.arxiv.org\"]);\\n    _paq.push([\\'trackPageView\\']);\\n    _paq.push([\\'enableLinkTracking\\']);\\n    (function() {\\n      var u=\"https://webstats.arxiv.org/\";\\n      _paq.push([\\'setTrackerUrl\\', u+\\'matomo.php\\']);\\n      _paq.push([\\'setSiteId\\', \\'1\\']);\\n      var d=document, g=d.createElement(\\'script\\'), s=d.getElementsByTagName(\\'script\\')[0];\\n      g.type=\\'text/javascript\\'; g.async=true; g.defer=true; g.src=u+\\'matomo.js\\'; s.parentNode.insertBefore(g,s);\\n    })();\\n  </script>\\n  <!-- End Matomo Code -->\\n  <link href=\"https://maxcdn.bootstrapcdn.com/font-awesome/4.7.0/css/font-awesome.min.css\" rel=\"stylesheet\"/>\\n  <link href=\"/bibex/bibex.css?20181010\" media=\"screen\" rel=\"stylesheet\" type=\"text/css\">\\n   <script src=\"https://static.arxiv.org/static/browse/0.2.5/js/mathjaxToggle.min.js\" type=\"text/javascript\">\\n   </script>\\n   <script src=\"https://arxiv-org.atlassian.net/s/d41d8cd98f00b204e9800998ecf8427e-T/zca7yc/b/13/a44af77267a987a660377e5c46e0fb64/_/download/batch/com.atlassian.jira.collector.plugin.jira-issue-collector-plugin:issuecollector/com.atlassian.jira.c'"
      ]
     },
     "execution_count": 339,
     "metadata": {},
     "output_type": "execute_result"
    }
   ],
   "source": [
    "html_doc = s.get(ARXIV_URL).text\n",
    "soup = BeautifulSoup(html_doc, 'html.parser')\n",
    "print(soup.prettify()[:2000])"
   ]
  },
  {
   "cell_type": "code",
   "execution_count": 340,
   "metadata": {
    "ExecuteTime": {
     "end_time": "2019-08-21T10:19:18.390724Z",
     "start_time": "2019-08-21T10:19:18.370356Z"
    },
    "hidden": true
   },
   "outputs": [
    {
     "name": "stdout",
     "output_type": "stream",
     "text": [
      "\n",
      "\n",
      "\n",
      "\n",
      "[1711.07064] DeblurGAN: Blind Motion Deblurring Using Conditional Adversarial Networks\n",
      "\n",
      "\n",
      "\n",
      "\n",
      "\n",
      "    var _paq = window._paq || [];\n",
      "    /* tracker methods like \"setCustomDimension\" should be called before \"trackPageView\" */\n",
      "    _paq.push([\"setCookieDomain\", \"*.arxiv.org\"]);\n",
      "    _paq.push(['trackPageView']);\n",
      "    _paq.push(['enableLinkTracking']);\n",
      "    (function() {\n",
      "      var u=\"https://webstats.arxiv.org/\";\n",
      "      _paq.push(['setTrackerUrl', u+'matomo.php']);\n",
      "      _paq.push(['setSiteId', '1']);\n",
      "      var d=document, g=d.createElement('script'), s=d.getElementsByTagName('script')[0];\n",
      "      g.type='text/javascript'; g.async=true; g.defer=true; g.src=u+'matomo.js'; s.parentNode.insertBefore(g,s);\n",
      "    })();\n",
      "  \n",
      "\n",
      "\n",
      "\n",
      "\n",
      "window.ATL_JQ_PAGE_PROPS =  {\n",
      "  \"triggerFunction\": function(showCollectorDialog) {\n",
      "    //Requires that jQuery is available!\n",
      "    jQuery(\"#feedback-button\").click(function(e) {\n",
      "      e.preventDefault();\n",
      "      showCollectorDialog();\n",
      "    });\n",
      "  },\n",
      "  fieldValues: {\n",
      "    \"components\": [\"15700\"],  // Jira ID for browse component\n",
      "    \"versions\": [\"14153\"],    // Jira ID for browse-0.2.1 release\n",
      "    \"customfield_11401\": window.location.href\n",
      "  }\n",
      "  };\n",
      "\n",
      "\n",
      "\n",
      "\n",
      "\n",
      "\n",
      "\n",
      "\n",
      "\n",
      "\n",
      "\n",
      "\n",
      "\n",
      "\n",
      "\n",
      "\n",
      "\n",
      "\n",
      "\n",
      "\n",
      "\n",
      "\n",
      "\n",
      "\n",
      "\n",
      "We gratefully acknowledge support fromthe Simons Foundation and member institutions.\n",
      "\n",
      "\n",
      "\n",
      "\n",
      "arXiv.org > cs > arXiv:1711.07064\n",
      "\n",
      "\n",
      "\n",
      "\n",
      "\n",
      "Help | Advanced Search\n",
      "\n",
      "\n",
      "\n",
      "\n",
      "All fields\n",
      "Title\n",
      "Author\n",
      "Abstract\n",
      "Comments\n",
      "Journal reference\n",
      "ACM classification\n",
      "MSC classification\n",
      "Report number\n",
      "arXiv identifier\n",
      "DOI\n",
      "ORCID\n",
      "arXiv author ID\n",
      "Help pages\n",
      "Full text\n",
      "\n",
      "\n",
      "\n",
      "\n",
      "Search\n",
      "\n",
      "\n",
      "\n",
      "\n",
      "\n",
      "\n",
      "\n",
      "\n",
      "\n",
      "Full-text links:\n",
      "Download:\n",
      "\n",
      "PDF\n",
      "Other formats\n",
      "(license)\n",
      "\n",
      "\n",
      "\n",
      "Current browse context:\n",
      "cs.CV\n",
      "\n",
      "\n",
      "< prev\n",
      " | \n",
      "\n",
      "  \n",
      "  \n",
      "next >\n",
      "\n",
      "\n",
      "new |\n",
      "    recent |\n",
      "    1711\n",
      "Change to browse by:\n",
      "\n",
      "cs\n",
      "\n",
      "\n",
      "\n",
      "\n",
      "References & Citations\n",
      "\n",
      "NASA ADS\n",
      "\n",
      "\n",
      "\n",
      "DBLP - CS Bibliography\n",
      "\n",
      "listing | bibtex\n",
      "\n",
      "\n",
      "Orest KupynVolodymyr BudzanMykola MykhailychDmytro MishkinJiri Matas\n",
      "\n",
      "\n",
      "Bookmark\n",
      "\n",
      "\n",
      "\n",
      "\n",
      "\n",
      "\n",
      "\n",
      "\n",
      "\n",
      "\n",
      "\n",
      "\n",
      "\n",
      "\n",
      "\n",
      "\n",
      "Computer Science > Computer Vision and Pattern Recognition\n",
      "\n",
      "\n",
      "\n",
      "Title:DeblurGAN: Blind Motion Deblurring Using Condit\n"
     ]
    }
   ],
   "source": [
    "print(soup.get_text()[:2000])"
   ]
  },
  {
   "cell_type": "markdown",
   "metadata": {
    "heading_collapsed": true,
    "hidden": true
   },
   "source": [
    "### Stats"
   ]
  },
  {
   "cell_type": "markdown",
   "metadata": {
    "heading_collapsed": true,
    "hidden": true
   },
   "source": [
    "#### Submissions"
   ]
  },
  {
   "cell_type": "code",
   "execution_count": 9,
   "metadata": {
    "ExecuteTime": {
     "end_time": "2019-08-21T14:45:07.482165Z",
     "start_time": "2019-08-21T14:45:06.603234Z"
    },
    "hidden": true
   },
   "outputs": [
    {
     "data": {
      "text/html": [
       "<div>\n",
       "<style scoped>\n",
       "    .dataframe tbody tr th:only-of-type {\n",
       "        vertical-align: middle;\n",
       "    }\n",
       "\n",
       "    .dataframe tbody tr th {\n",
       "        vertical-align: top;\n",
       "    }\n",
       "\n",
       "    .dataframe thead th {\n",
       "        text-align: right;\n",
       "    }\n",
       "</style>\n",
       "<table border=\"1\" class=\"dataframe\">\n",
       "  <thead>\n",
       "    <tr style=\"text-align: right;\">\n",
       "      <th></th>\n",
       "      <th>submissions</th>\n",
       "      <th>historical_delta</th>\n",
       "    </tr>\n",
       "    <tr>\n",
       "      <th>month</th>\n",
       "      <th></th>\n",
       "      <th></th>\n",
       "    </tr>\n",
       "  </thead>\n",
       "  <tbody>\n",
       "    <tr>\n",
       "      <th>1991-07</th>\n",
       "      <td>2</td>\n",
       "      <td>-2</td>\n",
       "    </tr>\n",
       "    <tr>\n",
       "      <th>1991-08</th>\n",
       "      <td>28</td>\n",
       "      <td>-1</td>\n",
       "    </tr>\n",
       "    <tr>\n",
       "      <th>1991-09</th>\n",
       "      <td>58</td>\n",
       "      <td>0</td>\n",
       "    </tr>\n",
       "    <tr>\n",
       "      <th>1991-10</th>\n",
       "      <td>76</td>\n",
       "      <td>0</td>\n",
       "    </tr>\n",
       "    <tr>\n",
       "      <th>1991-11</th>\n",
       "      <td>64</td>\n",
       "      <td>0</td>\n",
       "    </tr>\n",
       "    <tr>\n",
       "      <th>1991-12</th>\n",
       "      <td>78</td>\n",
       "      <td>0</td>\n",
       "    </tr>\n",
       "    <tr>\n",
       "      <th>1992-01</th>\n",
       "      <td>193</td>\n",
       "      <td>-105</td>\n",
       "    </tr>\n",
       "    <tr>\n",
       "      <th>1992-02</th>\n",
       "      <td>134</td>\n",
       "      <td>-10</td>\n",
       "    </tr>\n",
       "    <tr>\n",
       "      <th>1992-03</th>\n",
       "      <td>120</td>\n",
       "      <td>-3</td>\n",
       "    </tr>\n",
       "    <tr>\n",
       "      <th>1992-04</th>\n",
       "      <td>225</td>\n",
       "      <td>-41</td>\n",
       "    </tr>\n",
       "    <tr>\n",
       "      <th>2018-11</th>\n",
       "      <td>12941</td>\n",
       "      <td>0</td>\n",
       "    </tr>\n",
       "    <tr>\n",
       "      <th>2018-12</th>\n",
       "      <td>11973</td>\n",
       "      <td>0</td>\n",
       "    </tr>\n",
       "    <tr>\n",
       "      <th>2019-01</th>\n",
       "      <td>11537</td>\n",
       "      <td>0</td>\n",
       "    </tr>\n",
       "    <tr>\n",
       "      <th>2019-02</th>\n",
       "      <td>11302</td>\n",
       "      <td>0</td>\n",
       "    </tr>\n",
       "    <tr>\n",
       "      <th>2019-03</th>\n",
       "      <td>12654</td>\n",
       "      <td>0</td>\n",
       "    </tr>\n",
       "    <tr>\n",
       "      <th>2019-04</th>\n",
       "      <td>13396</td>\n",
       "      <td>0</td>\n",
       "    </tr>\n",
       "    <tr>\n",
       "      <th>2019-05</th>\n",
       "      <td>13750</td>\n",
       "      <td>0</td>\n",
       "    </tr>\n",
       "    <tr>\n",
       "      <th>2019-06</th>\n",
       "      <td>12350</td>\n",
       "      <td>0</td>\n",
       "    </tr>\n",
       "    <tr>\n",
       "      <th>2019-07</th>\n",
       "      <td>13634</td>\n",
       "      <td>0</td>\n",
       "    </tr>\n",
       "    <tr>\n",
       "      <th>2019-08</th>\n",
       "      <td>7512</td>\n",
       "      <td>0</td>\n",
       "    </tr>\n",
       "  </tbody>\n",
       "</table>\n",
       "</div>"
      ],
      "text/plain": [
       "         submissions  historical_delta\n",
       "month                                 \n",
       "1991-07            2                -2\n",
       "1991-08           28                -1\n",
       "1991-09           58                 0\n",
       "1991-10           76                 0\n",
       "1991-11           64                 0\n",
       "1991-12           78                 0\n",
       "1992-01          193              -105\n",
       "1992-02          134               -10\n",
       "1992-03          120                -3\n",
       "1992-04          225               -41\n",
       "2018-11        12941                 0\n",
       "2018-12        11973                 0\n",
       "2019-01        11537                 0\n",
       "2019-02        11302                 0\n",
       "2019-03        12654                 0\n",
       "2019-04        13396                 0\n",
       "2019-05        13750                 0\n",
       "2019-06        12350                 0\n",
       "2019-07        13634                 0\n",
       "2019-08         7512                 0"
      ]
     },
     "execution_count": 9,
     "metadata": {},
     "output_type": "execute_result"
    }
   ],
   "source": [
    "submissions_df = pd.read_csv('https://arxiv.org/stats/get_monthly_submissions').set_index('month')\n",
    "pd.concat([submissions_df.head(10), submissions_df.tail(10)])"
   ]
  },
  {
   "cell_type": "code",
   "execution_count": 10,
   "metadata": {
    "ExecuteTime": {
     "end_time": "2019-08-21T14:45:10.163693Z",
     "start_time": "2019-08-21T14:45:10.136118Z"
    },
    "hidden": true
   },
   "outputs": [
    {
     "data": {
      "text/plain": [
       "submissions         1579952\n",
       "historical_delta      -2431\n",
       "dtype: int64"
      ]
     },
     "execution_count": 10,
     "metadata": {},
     "output_type": "execute_result"
    }
   ],
   "source": [
    "submissions_df.sum()"
   ]
  },
  {
   "cell_type": "code",
   "execution_count": 299,
   "metadata": {
    "ExecuteTime": {
     "end_time": "2019-08-21T09:45:06.072129Z",
     "start_time": "2019-08-21T09:45:05.744426Z"
    },
    "hidden": true
   },
   "outputs": [
    {
     "data": {
      "image/png": "[encoded data removed]",
      "text/plain": [
       "<Figure size 1296x504 with 1 Axes>"
      ]
     },
     "metadata": {},
     "output_type": "display_data"
    }
   ],
   "source": [
    "submissions_df['submissions'].plot(style='--.');"
   ]
  },
  {
   "cell_type": "code",
   "execution_count": 300,
   "metadata": {
    "ExecuteTime": {
     "end_time": "2019-08-21T09:45:09.904529Z",
     "start_time": "2019-08-21T09:45:09.590581Z"
    },
    "hidden": true
   },
   "outputs": [
    {
     "data": {
      "image/png": "[encoded data removed]",
      "text/plain": [
       "<Figure size 1296x504 with 1 Axes>"
      ]
     },
     "metadata": {},
     "output_type": "display_data"
    }
   ],
   "source": [
    "tmp_df = submissions_df.reset_index()\n",
    "tmp_df['month'] = tmp_df['month'].map(lambda x: int(x.split('-')[-1]))\n",
    "tmp_df = tmp_df.groupby('month')['submissions'].sum()\n",
    "tmp_df.plot(style='--o', ylim=(0, tmp_df.max() * 1.01));#.sort_values(ascending=False)"
   ]
  },
  {
   "cell_type": "markdown",
   "metadata": {
    "heading_collapsed": true,
    "hidden": true
   },
   "source": [
    "#### Downloads"
   ]
  },
  {
   "cell_type": "code",
   "execution_count": 344,
   "metadata": {
    "ExecuteTime": {
     "end_time": "2019-08-21T10:21:33.433702Z",
     "start_time": "2019-08-21T10:21:32.904156Z"
    },
    "hidden": true
   },
   "outputs": [
    {
     "data": {
      "text/plain": [
       "month\n",
       "1994-01           0\n",
       "1994-02        1863\n",
       "1994-03        7048\n",
       "1994-04        6814\n",
       "1994-05        9601\n",
       "1994-06       11007\n",
       "1994-07        9488\n",
       "1994-08       10789\n",
       "1994-09       12872\n",
       "1994-10       16260\n",
       "2018-10    19443085\n",
       "2018-11    23040835\n",
       "2018-12    18694165\n",
       "2019-01    19281479\n",
       "2019-02    18464161\n",
       "2019-03    23035822\n",
       "2019-04    24714027\n",
       "2019-05    28369333\n",
       "2019-06    26431370\n",
       "2019-07    24649611\n",
       "Name: downloads, dtype: int64"
      ]
     },
     "execution_count": 344,
     "metadata": {},
     "output_type": "execute_result"
    }
   ],
   "source": [
    "downloads_s = pd.read_csv('https://arxiv.org/stats/get_monthly_downloads').set_index('month')['downloads']\n",
    "pd.concat([downloads_s.head(10), downloads_s.tail(10)])"
   ]
  },
  {
   "cell_type": "code",
   "execution_count": 345,
   "metadata": {
    "ExecuteTime": {
     "end_time": "2019-08-21T10:21:48.420866Z",
     "start_time": "2019-08-21T10:21:48.401846Z"
    },
    "hidden": true
   },
   "outputs": [
    {
     "data": {
      "text/plain": [
       "1433001780"
      ]
     },
     "execution_count": 345,
     "metadata": {},
     "output_type": "execute_result"
    }
   ],
   "source": [
    "downloads_s.sum()"
   ]
  },
  {
   "cell_type": "code",
   "execution_count": 302,
   "metadata": {
    "ExecuteTime": {
     "end_time": "2019-08-21T09:45:14.286959Z",
     "start_time": "2019-08-21T09:45:13.961367Z"
    },
    "hidden": true
   },
   "outputs": [
    {
     "data": {
      "image/png": "[encoded data removed]",
      "text/plain": [
       "<Figure size 1296x504 with 1 Axes>"
      ]
     },
     "metadata": {},
     "output_type": "display_data"
    }
   ],
   "source": [
    "downloads_s.plot(style='--.');"
   ]
  },
  {
   "cell_type": "markdown",
   "metadata": {
    "heading_collapsed": true,
    "hidden": true
   },
   "source": [
    "### Dump (third-side, not used)"
   ]
  },
  {
   "cell_type": "code",
   "execution_count": 1,
   "metadata": {
    "ExecuteTime": {
     "end_time": "2019-08-19T15:41:06.676916Z",
     "start_time": "2019-08-19T15:41:06.652422Z"
    },
    "hidden": true
   },
   "outputs": [],
   "source": [
    "from ast import literal_eval"
   ]
  },
  {
   "cell_type": "code",
   "execution_count": 2,
   "metadata": {
    "ExecuteTime": {
     "end_time": "2019-08-19T15:41:10.472965Z",
     "start_time": "2019-08-19T15:41:07.334436Z"
    },
    "hidden": true
   },
   "outputs": [
    {
     "data": {
      "text/plain": [
       "(41000, 9)"
      ]
     },
     "execution_count": 2,
     "metadata": {},
     "output_type": "execute_result"
    }
   ],
   "source": [
    "df = pd.read_json('./data/arxivData.json')\n",
    "for field in ['author', 'link', 'tag']:\n",
    "    df[field] = df[field].map(literal_eval)\n",
    "df.shape"
   ]
  },
  {
   "cell_type": "code",
   "execution_count": 3,
   "metadata": {
    "ExecuteTime": {
     "end_time": "2019-08-19T15:41:12.813473Z",
     "start_time": "2019-08-19T15:41:12.777623Z"
    },
    "hidden": true
   },
   "outputs": [
    {
     "data": {
      "text/html": [
       "<div>\n",
       "<style scoped>\n",
       "    .dataframe tbody tr th:only-of-type {\n",
       "        vertical-align: middle;\n",
       "    }\n",
       "\n",
       "    .dataframe tbody tr th {\n",
       "        vertical-align: top;\n",
       "    }\n",
       "\n",
       "    .dataframe thead th {\n",
       "        text-align: right;\n",
       "    }\n",
       "</style>\n",
       "<table border=\"1\" class=\"dataframe\">\n",
       "  <thead>\n",
       "    <tr style=\"text-align: right;\">\n",
       "      <th></th>\n",
       "      <th>author</th>\n",
       "      <th>day</th>\n",
       "      <th>id</th>\n",
       "      <th>link</th>\n",
       "      <th>month</th>\n",
       "      <th>summary</th>\n",
       "      <th>tag</th>\n",
       "      <th>title</th>\n",
       "      <th>year</th>\n",
       "    </tr>\n",
       "  </thead>\n",
       "  <tbody>\n",
       "    <tr>\n",
       "      <th>13568</th>\n",
       "      <td>[{'name': 'Tamal Datta Chaudhuri'}, {'name': '...</td>\n",
       "      <td>18</td>\n",
       "      <td>1604.05008v1</td>\n",
       "      <td>[{'rel': 'related', 'href': 'http://dx.doi.org...</td>\n",
       "      <td>4</td>\n",
       "      <td>Volatility in stock markets has been extensive...</td>\n",
       "      <td>[{'term': 'cs.NE', 'scheme': 'http://arxiv.org...</td>\n",
       "      <td>Forecasting Volatility in Indian Stock Market ...</td>\n",
       "      <td>2016</td>\n",
       "    </tr>\n",
       "    <tr>\n",
       "      <th>37230</th>\n",
       "      <td>[{'name': 'Anagha Kulkarni'}, {'name': 'Yantia...</td>\n",
       "      <td>16</td>\n",
       "      <td>1611.05497v2</td>\n",
       "      <td>[{'rel': 'alternate', 'href': 'http://arxiv.or...</td>\n",
       "      <td>11</td>\n",
       "      <td>In order to have effective human AI collaborat...</td>\n",
       "      <td>[{'term': 'cs.AI', 'scheme': 'http://arxiv.org...</td>\n",
       "      <td>Explicablility as Minimizing Distance from Exp...</td>\n",
       "      <td>2016</td>\n",
       "    </tr>\n",
       "    <tr>\n",
       "      <th>19453</th>\n",
       "      <td>[{'name': 'N. L. Zhang'}, {'name': 'W. Zhang'}]</td>\n",
       "      <td>30</td>\n",
       "      <td>1107.0042v1</td>\n",
       "      <td>[{'rel': 'related', 'href': 'http://dx.doi.org...</td>\n",
       "      <td>6</td>\n",
       "      <td>Value iteration is a popular algorithm for fin...</td>\n",
       "      <td>[{'term': 'cs.AI', 'scheme': 'http://arxiv.org...</td>\n",
       "      <td>Restricted Value Iteration: Theory and Algorithms</td>\n",
       "      <td>2011</td>\n",
       "    </tr>\n",
       "    <tr>\n",
       "      <th>15673</th>\n",
       "      <td>[{'name': 'Valentin Kassarnig'}]</td>\n",
       "      <td>13</td>\n",
       "      <td>1601.03313v2</td>\n",
       "      <td>[{'rel': 'alternate', 'href': 'http://arxiv.or...</td>\n",
       "      <td>1</td>\n",
       "      <td>In this report we present a system that can ge...</td>\n",
       "      <td>[{'term': 'cs.CL', 'scheme': 'http://arxiv.org...</td>\n",
       "      <td>Political Speech Generation</td>\n",
       "      <td>2016</td>\n",
       "    </tr>\n",
       "    <tr>\n",
       "      <th>24986</th>\n",
       "      <td>[{'name': 'Marc Niethammer'}, {'name': 'Kilian...</td>\n",
       "      <td>22</td>\n",
       "      <td>1501.05680v2</td>\n",
       "      <td>[{'rel': 'alternate', 'href': 'http://arxiv.or...</td>\n",
       "      <td>1</td>\n",
       "      <td>Segmentation is a fundamental task for extract...</td>\n",
       "      <td>[{'term': 'cs.CV', 'scheme': 'http://arxiv.org...</td>\n",
       "      <td>Active Mean Fields for Probabilistic Image Seg...</td>\n",
       "      <td>2015</td>\n",
       "    </tr>\n",
       "  </tbody>\n",
       "</table>\n",
       "</div>"
      ],
      "text/plain": [
       "                                                  author  day            id  \\\n",
       "13568  [{'name': 'Tamal Datta Chaudhuri'}, {'name': '...   18  1604.05008v1   \n",
       "37230  [{'name': 'Anagha Kulkarni'}, {'name': 'Yantia...   16  1611.05497v2   \n",
       "19453    [{'name': 'N. L. Zhang'}, {'name': 'W. Zhang'}]   30   1107.0042v1   \n",
       "15673                   [{'name': 'Valentin Kassarnig'}]   13  1601.03313v2   \n",
       "24986  [{'name': 'Marc Niethammer'}, {'name': 'Kilian...   22  1501.05680v2   \n",
       "\n",
       "                                                    link  month  \\\n",
       "13568  [{'rel': 'related', 'href': 'http://dx.doi.org...      4   \n",
       "37230  [{'rel': 'alternate', 'href': 'http://arxiv.or...     11   \n",
       "19453  [{'rel': 'related', 'href': 'http://dx.doi.org...      6   \n",
       "15673  [{'rel': 'alternate', 'href': 'http://arxiv.or...      1   \n",
       "24986  [{'rel': 'alternate', 'href': 'http://arxiv.or...      1   \n",
       "\n",
       "                                                 summary  \\\n",
       "13568  Volatility in stock markets has been extensive...   \n",
       "37230  In order to have effective human AI collaborat...   \n",
       "19453  Value iteration is a popular algorithm for fin...   \n",
       "15673  In this report we present a system that can ge...   \n",
       "24986  Segmentation is a fundamental task for extract...   \n",
       "\n",
       "                                                     tag  \\\n",
       "13568  [{'term': 'cs.NE', 'scheme': 'http://arxiv.org...   \n",
       "37230  [{'term': 'cs.AI', 'scheme': 'http://arxiv.org...   \n",
       "19453  [{'term': 'cs.AI', 'scheme': 'http://arxiv.org...   \n",
       "15673  [{'term': 'cs.CL', 'scheme': 'http://arxiv.org...   \n",
       "24986  [{'term': 'cs.CV', 'scheme': 'http://arxiv.org...   \n",
       "\n",
       "                                                   title  year  \n",
       "13568  Forecasting Volatility in Indian Stock Market ...  2016  \n",
       "37230  Explicablility as Minimizing Distance from Exp...  2016  \n",
       "19453  Restricted Value Iteration: Theory and Algorithms  2011  \n",
       "15673                        Political Speech Generation  2016  \n",
       "24986  Active Mean Fields for Probabilistic Image Seg...  2015  "
      ]
     },
     "execution_count": 3,
     "metadata": {},
     "output_type": "execute_result"
    }
   ],
   "source": [
    "df.sample(5)"
   ]
  },
  {
   "cell_type": "code",
   "execution_count": 4,
   "metadata": {
    "ExecuteTime": {
     "end_time": "2019-08-19T15:41:14.888353Z",
     "start_time": "2019-08-19T15:41:14.841483Z"
    },
    "hidden": true
   },
   "outputs": [
    {
     "name": "stdout",
     "output_type": "stream",
     "text": [
      "<class 'pandas.core.frame.DataFrame'>\n",
      "RangeIndex: 41000 entries, 0 to 40999\n",
      "Data columns (total 9 columns):\n",
      "author     41000 non-null object\n",
      "day        41000 non-null int64\n",
      "id         41000 non-null object\n",
      "link       41000 non-null object\n",
      "month      41000 non-null int64\n",
      "summary    41000 non-null object\n",
      "tag        41000 non-null object\n",
      "title      41000 non-null object\n",
      "year       41000 non-null int64\n",
      "dtypes: int64(3), object(6)\n",
      "memory usage: 2.8+ MB\n"
     ]
    }
   ],
   "source": [
    "df.info()"
   ]
  },
  {
   "cell_type": "code",
   "execution_count": 5,
   "metadata": {
    "ExecuteTime": {
     "end_time": "2019-08-19T15:41:17.418260Z",
     "start_time": "2019-08-19T15:41:17.376582Z"
    },
    "hidden": true
   },
   "outputs": [
    {
     "data": {
      "text/html": [
       "<div>\n",
       "<style scoped>\n",
       "    .dataframe tbody tr th:only-of-type {\n",
       "        vertical-align: middle;\n",
       "    }\n",
       "\n",
       "    .dataframe tbody tr th {\n",
       "        vertical-align: top;\n",
       "    }\n",
       "\n",
       "    .dataframe thead th {\n",
       "        text-align: right;\n",
       "    }\n",
       "</style>\n",
       "<table border=\"1\" class=\"dataframe\">\n",
       "  <thead>\n",
       "    <tr style=\"text-align: right;\">\n",
       "      <th></th>\n",
       "      <th>day</th>\n",
       "      <th>month</th>\n",
       "      <th>year</th>\n",
       "    </tr>\n",
       "  </thead>\n",
       "  <tbody>\n",
       "    <tr>\n",
       "      <th>count</th>\n",
       "      <td>41000.000000</td>\n",
       "      <td>41000.000000</td>\n",
       "      <td>41000.000000</td>\n",
       "    </tr>\n",
       "    <tr>\n",
       "      <th>mean</th>\n",
       "      <td>15.833293</td>\n",
       "      <td>6.547488</td>\n",
       "      <td>2014.484073</td>\n",
       "    </tr>\n",
       "    <tr>\n",
       "      <th>std</th>\n",
       "      <td>8.699371</td>\n",
       "      <td>3.525254</td>\n",
       "      <td>3.685414</td>\n",
       "    </tr>\n",
       "    <tr>\n",
       "      <th>min</th>\n",
       "      <td>1.000000</td>\n",
       "      <td>1.000000</td>\n",
       "      <td>1993.000000</td>\n",
       "    </tr>\n",
       "    <tr>\n",
       "      <th>25%</th>\n",
       "      <td>8.000000</td>\n",
       "      <td>3.000000</td>\n",
       "      <td>2013.000000</td>\n",
       "    </tr>\n",
       "    <tr>\n",
       "      <th>50%</th>\n",
       "      <td>16.000000</td>\n",
       "      <td>6.000000</td>\n",
       "      <td>2016.000000</td>\n",
       "    </tr>\n",
       "    <tr>\n",
       "      <th>75%</th>\n",
       "      <td>23.000000</td>\n",
       "      <td>10.000000</td>\n",
       "      <td>2017.000000</td>\n",
       "    </tr>\n",
       "    <tr>\n",
       "      <th>max</th>\n",
       "      <td>31.000000</td>\n",
       "      <td>12.000000</td>\n",
       "      <td>2018.000000</td>\n",
       "    </tr>\n",
       "  </tbody>\n",
       "</table>\n",
       "</div>"
      ],
      "text/plain": [
       "                day         month          year\n",
       "count  41000.000000  41000.000000  41000.000000\n",
       "mean      15.833293      6.547488   2014.484073\n",
       "std        8.699371      3.525254      3.685414\n",
       "min        1.000000      1.000000   1993.000000\n",
       "25%        8.000000      3.000000   2013.000000\n",
       "50%       16.000000      6.000000   2016.000000\n",
       "75%       23.000000     10.000000   2017.000000\n",
       "max       31.000000     12.000000   2018.000000"
      ]
     },
     "execution_count": 5,
     "metadata": {},
     "output_type": "execute_result"
    }
   ],
   "source": [
    "df.describe()"
   ]
  },
  {
   "cell_type": "code",
   "execution_count": 6,
   "metadata": {
    "ExecuteTime": {
     "end_time": "2019-08-19T15:41:20.054502Z",
     "start_time": "2019-08-19T15:41:19.419246Z"
    },
    "hidden": true
   },
   "outputs": [
    {
     "data": {
      "text/plain": [
       "True     40999\n",
       "False        1\n",
       "Name: match, dtype: int64"
      ]
     },
     "execution_count": 6,
     "metadata": {},
     "output_type": "execute_result"
    }
   ],
   "source": [
    "df['new_id'] = df.apply(lambda x: f\"{x['year']}{x['month']:02d}\"[-4:], 1)\n",
    "df['match'] = df['new_id'].astype(int) <= df['id'].str.split('/').map(lambda x: x[-1]).str[:4].astype(int)\n",
    "# df['match'] = df.apply(lambda x: (int(x['new_id']) + 1 == int(x['id'].split('/')[-1][:4])) if not x['match'] else x['match'], 1)\n",
    "df['match'].value_counts()"
   ]
  },
  {
   "cell_type": "code",
   "execution_count": 7,
   "metadata": {
    "ExecuteTime": {
     "end_time": "2019-08-19T15:41:20.089949Z",
     "start_time": "2019-08-19T15:41:20.055695Z"
    },
    "hidden": true
   },
   "outputs": [
    {
     "data": {
      "text/html": [
       "<div>\n",
       "<style scoped>\n",
       "    .dataframe tbody tr th:only-of-type {\n",
       "        vertical-align: middle;\n",
       "    }\n",
       "\n",
       "    .dataframe tbody tr th {\n",
       "        vertical-align: top;\n",
       "    }\n",
       "\n",
       "    .dataframe thead th {\n",
       "        text-align: right;\n",
       "    }\n",
       "</style>\n",
       "<table border=\"1\" class=\"dataframe\">\n",
       "  <thead>\n",
       "    <tr style=\"text-align: right;\">\n",
       "      <th></th>\n",
       "      <th>author</th>\n",
       "      <th>day</th>\n",
       "      <th>id</th>\n",
       "      <th>link</th>\n",
       "      <th>month</th>\n",
       "      <th>summary</th>\n",
       "      <th>tag</th>\n",
       "      <th>title</th>\n",
       "      <th>year</th>\n",
       "      <th>new_id</th>\n",
       "      <th>match</th>\n",
       "    </tr>\n",
       "  </thead>\n",
       "  <tbody>\n",
       "    <tr>\n",
       "      <th>33936</th>\n",
       "      <td>[{'name': 'Kuang-hua Chen'}, {'name': 'Hsin-Hs...</td>\n",
       "      <td>1</td>\n",
       "      <td>cmp-lg/9405034v1</td>\n",
       "      <td>[{'rel': 'alternate', 'href': 'http://arxiv.or...</td>\n",
       "      <td>6</td>\n",
       "      <td>To acquire noun phrases from running texts is ...</td>\n",
       "      <td>[{'term': 'cmp-lg', 'scheme': 'http://arxiv.or...</td>\n",
       "      <td>Extracting Noun Phrases from Large-Scale Texts...</td>\n",
       "      <td>1994</td>\n",
       "      <td>9406</td>\n",
       "      <td>False</td>\n",
       "    </tr>\n",
       "  </tbody>\n",
       "</table>\n",
       "</div>"
      ],
      "text/plain": [
       "                                                  author  day  \\\n",
       "33936  [{'name': 'Kuang-hua Chen'}, {'name': 'Hsin-Hs...    1   \n",
       "\n",
       "                     id                                               link  \\\n",
       "33936  cmp-lg/9405034v1  [{'rel': 'alternate', 'href': 'http://arxiv.or...   \n",
       "\n",
       "       month                                            summary  \\\n",
       "33936      6  To acquire noun phrases from running texts is ...   \n",
       "\n",
       "                                                     tag  \\\n",
       "33936  [{'term': 'cmp-lg', 'scheme': 'http://arxiv.or...   \n",
       "\n",
       "                                                   title  year new_id  match  \n",
       "33936  Extracting Noun Phrases from Large-Scale Texts...  1994   9406  False  "
      ]
     },
     "execution_count": 7,
     "metadata": {},
     "output_type": "execute_result"
    }
   ],
   "source": [
    "df[~df['match']]"
   ]
  },
  {
   "cell_type": "code",
   "execution_count": 8,
   "metadata": {
    "ExecuteTime": {
     "end_time": "2019-08-19T15:41:22.532094Z",
     "start_time": "2019-08-19T15:41:21.472617Z"
    },
    "hidden": true
   },
   "outputs": [
    {
     "name": "stderr",
     "output_type": "stream",
     "text": [
      "/opt/conda/lib/python3.7/site-packages/pandas/plotting/_converter.py:129: FutureWarning:\n",
      "\n",
      "Using an implicitly registered datetime converter for a matplotlib plotting method. The converter was registered by pandas on import. Future versions of pandas will require you to explicitly register matplotlib converters.\n",
      "\n",
      "To register the converters:\n",
      "\t>>> from pandas.plotting import register_matplotlib_converters\n",
      "\t>>> register_matplotlib_converters()\n",
      "\n"
     ]
    },
    {
     "data": {
      "image/png": "[encoded data removed]",
      "text/plain": [
       "<Figure size 1296x504 with 1 Axes>"
      ]
     },
     "metadata": {},
     "output_type": "display_data"
    }
   ],
   "source": [
    "df.apply(lambda x: pd.datetime(x['year'], x['month'], 1), 1).hist(bins='auto');"
   ]
  },
  {
   "cell_type": "code",
   "execution_count": 9,
   "metadata": {
    "ExecuteTime": {
     "end_time": "2019-08-19T15:41:22.585743Z",
     "start_time": "2019-08-19T15:41:22.560967Z"
    },
    "hidden": true
   },
   "outputs": [
    {
     "data": {
      "text/plain": [
       "3     10622\n",
       "2     10478\n",
       "4      7335\n",
       "1      5130\n",
       "5      3818\n",
       "6      1854\n",
       "7       830\n",
       "8       392\n",
       "9       195\n",
       "10      109\n",
       "11       68\n",
       "12       47\n",
       "13       32\n",
       "14       21\n",
       "15       13\n",
       "17        9\n",
       "16        9\n",
       "18        9\n",
       "25        4\n",
       "19        3\n",
       "22        3\n",
       "50        2\n",
       "30        2\n",
       "24        2\n",
       "36        1\n",
       "67        1\n",
       "34        1\n",
       "31        1\n",
       "74        1\n",
       "75        1\n",
       "51        1\n",
       "20        1\n",
       "21        1\n",
       "23        1\n",
       "29        1\n",
       "61        1\n",
       "32        1\n",
       "Name: author, dtype: int64"
      ]
     },
     "execution_count": 9,
     "metadata": {},
     "output_type": "execute_result"
    }
   ],
   "source": [
    "df['author'].map(len).value_counts()"
   ]
  },
  {
   "cell_type": "code",
   "execution_count": 10,
   "metadata": {
    "ExecuteTime": {
     "end_time": "2019-08-19T15:41:23.496007Z",
     "start_time": "2019-08-19T15:41:23.466839Z"
    },
    "hidden": true
   },
   "outputs": [
    {
     "data": {
      "text/plain": [
       "2    36020\n",
       "3     4975\n",
       "5        2\n",
       "9        1\n",
       "8        1\n",
       "7        1\n",
       "Name: link, dtype: int64"
      ]
     },
     "execution_count": 10,
     "metadata": {},
     "output_type": "execute_result"
    }
   ],
   "source": [
    "df['link'].map(len).value_counts()"
   ]
  },
  {
   "cell_type": "code",
   "execution_count": 11,
   "metadata": {
    "ExecuteTime": {
     "end_time": "2019-08-19T15:41:24.573920Z",
     "start_time": "2019-08-19T15:41:24.546320Z"
    },
    "hidden": true
   },
   "outputs": [
    {
     "data": {
      "text/plain": [
       "1     18120\n",
       "2     11744\n",
       "3      7320\n",
       "4      2568\n",
       "5       874\n",
       "6       275\n",
       "7        83\n",
       "8        10\n",
       "9         3\n",
       "10        2\n",
       "11        1\n",
       "Name: tag, dtype: int64"
      ]
     },
     "execution_count": 11,
     "metadata": {},
     "output_type": "execute_result"
    }
   ],
   "source": [
    "df['tag'].map(len).value_counts()"
   ]
  },
  {
   "cell_type": "markdown",
   "metadata": {
    "heading_collapsed": true
   },
   "source": [
    "## SW"
   ]
  },
  {
   "cell_type": "markdown",
   "metadata": {
    "hidden": true
   },
   "source": [
    "If user is registered in SW - no view of papers then from authors side"
   ]
  },
  {
   "cell_type": "markdown",
   "metadata": {
    "heading_collapsed": true,
    "hidden": true
   },
   "source": [
    "### articles"
   ]
  },
  {
   "cell_type": "markdown",
   "metadata": {
    "hidden": true
   },
   "source": [
    "[Identifier Scheme](https://arxiv.org/help/arxiv_identifier_for_services)"
   ]
  },
  {
   "cell_type": "markdown",
   "metadata": {
    "hidden": true
   },
   "source": [
    "Different view:\n",
    "- http://sciencewise.info/bookmarks/0705.1298/add (more extended with statistics, types of concepts, etc.)\n",
    "- http://sciencewise.info/articles/0705.1298 (just list of concepts)"
   ]
  },
  {
   "cell_type": "code",
   "execution_count": 348,
   "metadata": {
    "ExecuteTime": {
     "end_time": "2019-08-21T10:31:36.748950Z",
     "start_time": "2019-08-21T10:31:36.447076Z"
    },
    "hidden": true
   },
   "outputs": [
    {
     "name": "stdout",
     "output_type": "stream",
     "text": [
      "<!DOCTYPE html>\n",
      "<html lang=\"en\" xml:lang=\"en\" xmlns=\"http://www.w3.org/1999/xhtml\">\n",
      " <head>\n",
      "  <meta content=\"text/html; charset=utf-8\" http-equiv=\"content-type\"/>\n",
      "  <meta content=\"en\" http-equiv=\"content-language\"/>\n",
      "  <title>\n",
      "   DeblurGAN: Blind Motion Deblurring Using Conditional Adversarial   Networks (1711.07064) - ScienceWISE\n",
      "  </title>\n",
      "  <script src=\"/media/build/js/vendor.bundle.js\" type=\"text/javascript\">\n",
      "  </script>\n",
      "  <script src=\"/media/build/js/app.bundle.js\" type=\"text/javascript\">\n",
      "  </script>\n",
      "  <link href=\"/media/css/style.css\" rel=\"stylesheet\" type=\"text/css\"/>\n",
      "  <link href=\"/media/libs/flexbox/css/jquery.flexbox.css\" rel=\"stylesheet\" type=\"text/css\"/>\n",
      "  <link href=\"/media/libs/bootstrap/css/bootstrap.css\" rel=\"stylesheet\" type=\"text/css\"/>\n",
      "  <link href=\"/media/libs/bootstrap/css/bootstrap-responsive.css\" rel=\"stylesheet\" type=\"text/css\"/>\n",
      "  <link href=\"/media/libs/datepicker/css/datepicker.css\" rel=\"stylesheet\" type=\"text/css\"/>\n",
      "  <link href=\"/media/libs/bootstrap-daterangepicker/daterangepicker-bs2.css\" rel=\"stylesheet\" type=\"text/css\"/>\n",
      "  <link href=\"/media/libs/bootstrap-notify/css/bootstrap-notify.css\" rel=\"stylesheet\" type=\"text/css\"/>\n",
      "  <link href=\"/media/css/articles/articles_new_table.css\" rel=\"stylesheet\" type=\"text/css\"/>\n",
      " </head>\n",
      " <body>\n",
      "  <div id=\"body\">\n",
      "   <div id=\"site-header\">\n",
      "    <a href=\"/\" id=\"logo\">\n",
      "     ScienceWISE\n",
      "    </a>\n",
      "    <div id=\"navigation\">\n",
      "     <ul class=\"unstyled\">\n",
      "      <li>\n",
      "       <a class=\"navigation-link\" href=\"/ontology/\">\n",
      "        Ontology\n",
      "       </a>\n",
      "      </li>\n",
      "      <li>\n",
      "       <a class=\"navigation-link\" href=\"/bookmarks/all\">\n",
      "        Bookmarks\n",
      "       </a>\n",
      "      </li>\n",
      "      <li>\n",
      "       <a class=\"navigation-link\" data-content=\"Order every day new submissions &lt;br&gt;from arXiv.org according to your interests.&lt;br&gt;Use &lt;a href='/articles/new/setup'&gt;settings&lt;/a&gt; link to specify your interests.\" data-title=\"New articles\" href=\"/articles/new\" rel=\"popover\">\n",
      "        New articles\n",
      "       </a>\n",
      "      </li>\n"
     ]
    }
   ],
   "source": [
    "html_doc = s.get(SW_URL).text\n",
    "soup = BeautifulSoup(html_doc, 'html.parser')\n",
    "print(soup.prettify()[:2000])"
   ]
  },
  {
   "cell_type": "code",
   "execution_count": 349,
   "metadata": {
    "ExecuteTime": {
     "end_time": "2019-08-21T10:31:42.188264Z",
     "start_time": "2019-08-21T10:31:42.162763Z"
    },
    "hidden": true
   },
   "outputs": [
    {
     "name": "stdout",
     "output_type": "stream",
     "text": [
      "\n",
      "DeblurGAN: Blind Motion Deblurring Using Conditional Adversarial   Networks (1711.07064) - ScienceWISEScienceWISEOntologyBookmarksNew articlesNewsIntroduction swapp.initSearch();LoginRegister×Bookmarked by:arXiv:1711.07064AbstractPDFAdd annotationFind in NASA ADSFind in INSPIREDeblurGAN: Blind Motion Deblurring Using Conditional Adversarial   Networks\n",
      "                 ver. 4Orest Kupyn,\n",
      "            \n",
      "                Volodymyr Budzan,\n",
      "            \n",
      "                Mykola Mykhailych,\n",
      "            \n",
      "                Dmytro Mishkin,\n",
      "            \n",
      "                Jiri Matas\n",
      "                Computer Vision and Pattern Recognition\n",
      "        We present DeblurGAN, an end-to-end learned method for motion deblurring. The learning is based on a conditional GAN and the content loss . DeblurGAN achieves state-of-the art performance both in the structural similarity measure and visual appearance. The quality of the deblurring model is also evaluated in a novel way on a real-world problem -- object detection on (de-)blurred images. The method is 5 times faster than the closest competitor -- DeepDeblur. We also introduce a novel method for generating synthetic motion blurred images from sharp ones, allowing realistic dataset augmentation.   The model, code and the dataset are available at https://github.com/KupynOrest/DeblurGANGenerative Adversarial NetConvolutional neural networkArchitectureObject detectionOptimizationGround truthInferenceDeep learningSunSignal to noise ratioAutonomous drivingSub-pixelTotal-Variation regularizationCOCO simulationImage ProcessingSecuritySaturnian satellitesSelf-similarityStatisticsHyperparameterLeast squaresManifoldF1 scoreMarkov processMinimaxRegularizationEarthNeural networkDualityNetworksAlgorithmsTrajectoryObjectVectorResolutionPrecisionObjectiveVelocityDimensionsProbabilityImpulseFieldReferences47 Dmitry Ulyanov, Andrea Vedaldi, Victor Lempitsky, \"Instance Normalization: The Missing Ingredient for Fast Stylization\"Jun-Yan Zhu, Taesung Park, Phillip Is\n"
     ]
    }
   ],
   "source": [
    "print(soup.get_text()[:2000])"
   ]
  },
  {
   "cell_type": "code",
   "execution_count": 350,
   "metadata": {
    "ExecuteTime": {
     "end_time": "2019-08-21T10:31:52.837874Z",
     "start_time": "2019-08-21T10:31:52.811617Z"
    },
    "hidden": true
   },
   "outputs": [
    {
     "data": {
      "text/plain": [
       "42"
      ]
     },
     "execution_count": 350,
     "metadata": {},
     "output_type": "execute_result"
    }
   ],
   "source": [
    "res = soup.find(attrs={'class': 'found-concepts'})\n",
    "len(res)"
   ]
  },
  {
   "cell_type": "code",
   "execution_count": 37,
   "metadata": {
    "ExecuteTime": {
     "end_time": "2019-08-20T09:07:04.733368Z",
     "start_time": "2019-08-20T09:07:04.692351Z"
    },
    "hidden": true
   },
   "outputs": [
    {
     "data": {
      "text/html": [
       "<div>\n",
       "<style scoped>\n",
       "    .dataframe tbody tr th:only-of-type {\n",
       "        vertical-align: middle;\n",
       "    }\n",
       "\n",
       "    .dataframe tbody tr th {\n",
       "        vertical-align: top;\n",
       "    }\n",
       "\n",
       "    .dataframe thead th {\n",
       "        text-align: right;\n",
       "    }\n",
       "</style>\n",
       "<table border=\"1\" class=\"dataframe\">\n",
       "  <thead>\n",
       "    <tr style=\"text-align: right;\">\n",
       "      <th></th>\n",
       "      <th>class</th>\n",
       "      <th>data-id</th>\n",
       "      <th>data-list</th>\n",
       "      <th>data-url</th>\n",
       "      <th>text</th>\n",
       "    </tr>\n",
       "  </thead>\n",
       "  <tbody>\n",
       "    <tr>\n",
       "      <th>0</th>\n",
       "      <td>[label, label-concept, label-default]</td>\n",
       "      <td>203495</td>\n",
       "      <td></td>\n",
       "      <td>/ontology/Generative_Adversarial_Net</td>\n",
       "      <td>Generative Adversarial Net</td>\n",
       "    </tr>\n",
       "    <tr>\n",
       "      <th>1</th>\n",
       "      <td>[label, label-concept, label-default]</td>\n",
       "      <td>202775</td>\n",
       "      <td></td>\n",
       "      <td>/ontology/convolutional_neural_network</td>\n",
       "      <td>Convolutional neural network</td>\n",
       "    </tr>\n",
       "    <tr>\n",
       "      <th>2</th>\n",
       "      <td>[label, label-concept, label-default]</td>\n",
       "      <td>202307</td>\n",
       "      <td></td>\n",
       "      <td>/ontology/Architecture</td>\n",
       "      <td>Architecture</td>\n",
       "    </tr>\n",
       "    <tr>\n",
       "      <th>3</th>\n",
       "      <td>[label, label-concept, label-default]</td>\n",
       "      <td>203474</td>\n",
       "      <td></td>\n",
       "      <td>/ontology/object_detection</td>\n",
       "      <td>Object detection</td>\n",
       "    </tr>\n",
       "    <tr>\n",
       "      <th>4</th>\n",
       "      <td>[label, label-concept, label-default]</td>\n",
       "      <td>202951</td>\n",
       "      <td></td>\n",
       "      <td>/ontology/optimization_1</td>\n",
       "      <td>Optimization</td>\n",
       "    </tr>\n",
       "    <tr>\n",
       "      <th>5</th>\n",
       "      <td>[label, label-concept, label-default]</td>\n",
       "      <td>203309</td>\n",
       "      <td></td>\n",
       "      <td>/ontology/Ground_truth</td>\n",
       "      <td>Ground truth</td>\n",
       "    </tr>\n",
       "    <tr>\n",
       "      <th>6</th>\n",
       "      <td>[label, label-concept, label-default]</td>\n",
       "      <td>17759</td>\n",
       "      <td></td>\n",
       "      <td>/ontology/Inference_1</td>\n",
       "      <td>Inference</td>\n",
       "    </tr>\n",
       "    <tr>\n",
       "      <th>7</th>\n",
       "      <td>[label, label-concept, label-default]</td>\n",
       "      <td>17186</td>\n",
       "      <td></td>\n",
       "      <td>/ontology/Deep_learning</td>\n",
       "      <td>Deep learning</td>\n",
       "    </tr>\n",
       "    <tr>\n",
       "      <th>8</th>\n",
       "      <td>[label, label-concept, label-default]</td>\n",
       "      <td>5487</td>\n",
       "      <td></td>\n",
       "      <td>/ontology/Sun_7</td>\n",
       "      <td>Sun</td>\n",
       "    </tr>\n",
       "    <tr>\n",
       "      <th>9</th>\n",
       "      <td>[label, label-concept, label-default]</td>\n",
       "      <td>5316</td>\n",
       "      <td></td>\n",
       "      <td>/ontology/signal_to_noise_ratio</td>\n",
       "      <td>Signal to noise ratio</td>\n",
       "    </tr>\n",
       "    <tr>\n",
       "      <th>10</th>\n",
       "      <td>[label, label-concept, label-default]</td>\n",
       "      <td>203608</td>\n",
       "      <td></td>\n",
       "      <td>/ontology/autonomous_driving</td>\n",
       "      <td>Autonomous driving</td>\n",
       "    </tr>\n",
       "    <tr>\n",
       "      <th>11</th>\n",
       "      <td>[label, label-concept, label-default]</td>\n",
       "      <td>203444</td>\n",
       "      <td></td>\n",
       "      <td>/ontology/Sub-pixel</td>\n",
       "      <td>Sub-pixel</td>\n",
       "    </tr>\n",
       "    <tr>\n",
       "      <th>12</th>\n",
       "      <td>[label, label-concept, label-default]</td>\n",
       "      <td>203412</td>\n",
       "      <td></td>\n",
       "      <td>/ontology/Total-Variation</td>\n",
       "      <td>Total-Variation regularization</td>\n",
       "    </tr>\n",
       "    <tr>\n",
       "      <th>13</th>\n",
       "      <td>[label, label-concept, label-default]</td>\n",
       "      <td>202918</td>\n",
       "      <td></td>\n",
       "      <td>/ontology/COCO_simulation</td>\n",
       "      <td>COCO simulation</td>\n",
       "    </tr>\n",
       "    <tr>\n",
       "      <th>14</th>\n",
       "      <td>[label, label-concept, label-default]</td>\n",
       "      <td>31828</td>\n",
       "      <td></td>\n",
       "      <td>/ontology/Image_Processing</td>\n",
       "      <td>Image Processing</td>\n",
       "    </tr>\n",
       "    <tr>\n",
       "      <th>15</th>\n",
       "      <td>[label, label-concept, label-default]</td>\n",
       "      <td>31133</td>\n",
       "      <td></td>\n",
       "      <td>/ontology/Security</td>\n",
       "      <td>Security</td>\n",
       "    </tr>\n",
       "    <tr>\n",
       "      <th>16</th>\n",
       "      <td>[label, label-concept, label-default]</td>\n",
       "      <td>29195</td>\n",
       "      <td></td>\n",
       "      <td>/ontology/Saturnian_satellites</td>\n",
       "      <td>Saturnian satellites</td>\n",
       "    </tr>\n",
       "    <tr>\n",
       "      <th>17</th>\n",
       "      <td>[label, label-concept, label-default]</td>\n",
       "      <td>17666</td>\n",
       "      <td></td>\n",
       "      <td>/ontology/Self-similarity</td>\n",
       "      <td>Self-similarity</td>\n",
       "    </tr>\n",
       "    <tr>\n",
       "      <th>18</th>\n",
       "      <td>[label, label-concept, label-default]</td>\n",
       "      <td>17472</td>\n",
       "      <td></td>\n",
       "      <td>/ontology/Statistics</td>\n",
       "      <td>Statistics</td>\n",
       "    </tr>\n",
       "    <tr>\n",
       "      <th>19</th>\n",
       "      <td>[label, label-concept, label-default]</td>\n",
       "      <td>15817</td>\n",
       "      <td></td>\n",
       "      <td>/ontology/Hyperparameter</td>\n",
       "      <td>Hyperparameter</td>\n",
       "    </tr>\n",
       "    <tr>\n",
       "      <th>20</th>\n",
       "      <td>[label, label-concept, label-default]</td>\n",
       "      <td>14039</td>\n",
       "      <td></td>\n",
       "      <td>/ontology/Least_squares_2</td>\n",
       "      <td>Least squares</td>\n",
       "    </tr>\n",
       "    <tr>\n",
       "      <th>21</th>\n",
       "      <td>[label, label-concept, label-default]</td>\n",
       "      <td>13334</td>\n",
       "      <td></td>\n",
       "      <td>/ontology/Manifold</td>\n",
       "      <td>Manifold</td>\n",
       "    </tr>\n",
       "    <tr>\n",
       "      <th>22</th>\n",
       "      <td>[label, label-concept, label-default]</td>\n",
       "      <td>11445</td>\n",
       "      <td></td>\n",
       "      <td>/ontology/F1_score</td>\n",
       "      <td>F1 score</td>\n",
       "    </tr>\n",
       "    <tr>\n",
       "      <th>23</th>\n",
       "      <td>[label, label-concept, label-default]</td>\n",
       "      <td>11057</td>\n",
       "      <td></td>\n",
       "      <td>/ontology/Markov_process</td>\n",
       "      <td>Markov process</td>\n",
       "    </tr>\n",
       "    <tr>\n",
       "      <th>24</th>\n",
       "      <td>[label, label-concept, label-default]</td>\n",
       "      <td>9346</td>\n",
       "      <td></td>\n",
       "      <td>/ontology/Minimax</td>\n",
       "      <td>Minimax</td>\n",
       "    </tr>\n",
       "    <tr>\n",
       "      <th>25</th>\n",
       "      <td>[label, label-concept, label-default]</td>\n",
       "      <td>9180</td>\n",
       "      <td></td>\n",
       "      <td>/ontology/Regularization</td>\n",
       "      <td>Regularization</td>\n",
       "    </tr>\n",
       "    <tr>\n",
       "      <th>26</th>\n",
       "      <td>[label, label-concept, label-default]</td>\n",
       "      <td>8049</td>\n",
       "      <td></td>\n",
       "      <td>/ontology/Earth_3</td>\n",
       "      <td>Earth</td>\n",
       "    </tr>\n",
       "    <tr>\n",
       "      <th>27</th>\n",
       "      <td>[label, label-concept, label-default]</td>\n",
       "      <td>5807</td>\n",
       "      <td></td>\n",
       "      <td>/ontology/Neural_network</td>\n",
       "      <td>Neural network</td>\n",
       "    </tr>\n",
       "    <tr>\n",
       "      <th>28</th>\n",
       "      <td>[label, label-concept, label-default]</td>\n",
       "      <td>5169</td>\n",
       "      <td></td>\n",
       "      <td>/ontology/Duality</td>\n",
       "      <td>Duality</td>\n",
       "    </tr>\n",
       "    <tr>\n",
       "      <th>29</th>\n",
       "      <td>[label, label-concept, label-default]</td>\n",
       "      <td>1487</td>\n",
       "      <td></td>\n",
       "      <td>/ontology/Networks</td>\n",
       "      <td>Networks</td>\n",
       "    </tr>\n",
       "    <tr>\n",
       "      <th>30</th>\n",
       "      <td>[label, label-concept, label-default]</td>\n",
       "      <td>11949</td>\n",
       "      <td></td>\n",
       "      <td>/ontology/Algorithms</td>\n",
       "      <td>Algorithms</td>\n",
       "    </tr>\n",
       "    <tr>\n",
       "      <th>31</th>\n",
       "      <td>[label, label-concept, label-default]</td>\n",
       "      <td>4722</td>\n",
       "      <td></td>\n",
       "      <td>/ontology/Trajectory</td>\n",
       "      <td>Trajectory</td>\n",
       "    </tr>\n",
       "    <tr>\n",
       "      <th>32</th>\n",
       "      <td>[label, label-concept, label-default]</td>\n",
       "      <td>202745</td>\n",
       "      <td></td>\n",
       "      <td>/ontology/Object_1</td>\n",
       "      <td>Object</td>\n",
       "    </tr>\n",
       "    <tr>\n",
       "      <th>33</th>\n",
       "      <td>[label, label-concept, label-default]</td>\n",
       "      <td>3501</td>\n",
       "      <td></td>\n",
       "      <td>/ontology/Vector</td>\n",
       "      <td>Vector</td>\n",
       "    </tr>\n",
       "    <tr>\n",
       "      <th>34</th>\n",
       "      <td>[label, label-concept, label-default]</td>\n",
       "      <td>4766</td>\n",
       "      <td></td>\n",
       "      <td>/ontology/Resolution</td>\n",
       "      <td>Resolution</td>\n",
       "    </tr>\n",
       "    <tr>\n",
       "      <th>35</th>\n",
       "      <td>[label, label-concept, label-default]</td>\n",
       "      <td>204309</td>\n",
       "      <td></td>\n",
       "      <td>/ontology/precision_1</td>\n",
       "      <td>Precision</td>\n",
       "    </tr>\n",
       "    <tr>\n",
       "      <th>36</th>\n",
       "      <td>[label, label-concept, label-default]</td>\n",
       "      <td>3835</td>\n",
       "      <td></td>\n",
       "      <td>/ontology/objective</td>\n",
       "      <td>Objective</td>\n",
       "    </tr>\n",
       "    <tr>\n",
       "      <th>37</th>\n",
       "      <td>[label, label-concept, label-default]</td>\n",
       "      <td>3503</td>\n",
       "      <td></td>\n",
       "      <td>/ontology/Velocity</td>\n",
       "      <td>Velocity</td>\n",
       "    </tr>\n",
       "    <tr>\n",
       "      <th>38</th>\n",
       "      <td>[label, label-concept, label-default]</td>\n",
       "      <td>202821</td>\n",
       "      <td></td>\n",
       "      <td>/ontology/dimensions</td>\n",
       "      <td>Dimensions</td>\n",
       "    </tr>\n",
       "    <tr>\n",
       "      <th>39</th>\n",
       "      <td>[label, label-concept, label-default]</td>\n",
       "      <td>3421</td>\n",
       "      <td></td>\n",
       "      <td>/ontology/Probability</td>\n",
       "      <td>Probability</td>\n",
       "    </tr>\n",
       "    <tr>\n",
       "      <th>40</th>\n",
       "      <td>[label, label-concept, label-default]</td>\n",
       "      <td>3328</td>\n",
       "      <td></td>\n",
       "      <td>/ontology/Impulse</td>\n",
       "      <td>Impulse</td>\n",
       "    </tr>\n",
       "    <tr>\n",
       "      <th>41</th>\n",
       "      <td>[label, label-concept, label-default]</td>\n",
       "      <td>3274</td>\n",
       "      <td></td>\n",
       "      <td>/ontology/Field</td>\n",
       "      <td>Field</td>\n",
       "    </tr>\n",
       "  </tbody>\n",
       "</table>\n",
       "</div>"
      ],
      "text/plain": [
       "                                    class data-id data-list  \\\n",
       "0   [label, label-concept, label-default]  203495             \n",
       "1   [label, label-concept, label-default]  202775             \n",
       "2   [label, label-concept, label-default]  202307             \n",
       "3   [label, label-concept, label-default]  203474             \n",
       "4   [label, label-concept, label-default]  202951             \n",
       "5   [label, label-concept, label-default]  203309             \n",
       "6   [label, label-concept, label-default]   17759             \n",
       "7   [label, label-concept, label-default]   17186             \n",
       "8   [label, label-concept, label-default]    5487             \n",
       "9   [label, label-concept, label-default]    5316             \n",
       "10  [label, label-concept, label-default]  203608             \n",
       "11  [label, label-concept, label-default]  203444             \n",
       "12  [label, label-concept, label-default]  203412             \n",
       "13  [label, label-concept, label-default]  202918             \n",
       "14  [label, label-concept, label-default]   31828             \n",
       "15  [label, label-concept, label-default]   31133             \n",
       "16  [label, label-concept, label-default]   29195             \n",
       "17  [label, label-concept, label-default]   17666             \n",
       "18  [label, label-concept, label-default]   17472             \n",
       "19  [label, label-concept, label-default]   15817             \n",
       "20  [label, label-concept, label-default]   14039             \n",
       "21  [label, label-concept, label-default]   13334             \n",
       "22  [label, label-concept, label-default]   11445             \n",
       "23  [label, label-concept, label-default]   11057             \n",
       "24  [label, label-concept, label-default]    9346             \n",
       "25  [label, label-concept, label-default]    9180             \n",
       "26  [label, label-concept, label-default]    8049             \n",
       "27  [label, label-concept, label-default]    5807             \n",
       "28  [label, label-concept, label-default]    5169             \n",
       "29  [label, label-concept, label-default]    1487             \n",
       "30  [label, label-concept, label-default]   11949             \n",
       "31  [label, label-concept, label-default]    4722             \n",
       "32  [label, label-concept, label-default]  202745             \n",
       "33  [label, label-concept, label-default]    3501             \n",
       "34  [label, label-concept, label-default]    4766             \n",
       "35  [label, label-concept, label-default]  204309             \n",
       "36  [label, label-concept, label-default]    3835             \n",
       "37  [label, label-concept, label-default]    3503             \n",
       "38  [label, label-concept, label-default]  202821             \n",
       "39  [label, label-concept, label-default]    3421             \n",
       "40  [label, label-concept, label-default]    3328             \n",
       "41  [label, label-concept, label-default]    3274             \n",
       "\n",
       "                                  data-url                            text  \n",
       "0     /ontology/Generative_Adversarial_Net      Generative Adversarial Net  \n",
       "1   /ontology/convolutional_neural_network    Convolutional neural network  \n",
       "2                   /ontology/Architecture                    Architecture  \n",
       "3               /ontology/object_detection                Object detection  \n",
       "4                 /ontology/optimization_1                    Optimization  \n",
       "5                   /ontology/Ground_truth                    Ground truth  \n",
       "6                    /ontology/Inference_1                       Inference  \n",
       "7                  /ontology/Deep_learning                   Deep learning  \n",
       "8                          /ontology/Sun_7                             Sun  \n",
       "9          /ontology/signal_to_noise_ratio           Signal to noise ratio  \n",
       "10            /ontology/autonomous_driving              Autonomous driving  \n",
       "11                     /ontology/Sub-pixel                       Sub-pixel  \n",
       "12               /ontology/Total-Variation  Total-Variation regularization  \n",
       "13               /ontology/COCO_simulation                 COCO simulation  \n",
       "14              /ontology/Image_Processing                Image Processing  \n",
       "15                      /ontology/Security                        Security  \n",
       "16          /ontology/Saturnian_satellites            Saturnian satellites  \n",
       "17               /ontology/Self-similarity                 Self-similarity  \n",
       "18                    /ontology/Statistics                      Statistics  \n",
       "19                /ontology/Hyperparameter                  Hyperparameter  \n",
       "20               /ontology/Least_squares_2                   Least squares  \n",
       "21                      /ontology/Manifold                        Manifold  \n",
       "22                      /ontology/F1_score                        F1 score  \n",
       "23                /ontology/Markov_process                  Markov process  \n",
       "24                       /ontology/Minimax                         Minimax  \n",
       "25                /ontology/Regularization                  Regularization  \n",
       "26                       /ontology/Earth_3                           Earth  \n",
       "27                /ontology/Neural_network                  Neural network  \n",
       "28                       /ontology/Duality                         Duality  \n",
       "29                      /ontology/Networks                        Networks  \n",
       "30                    /ontology/Algorithms                      Algorithms  \n",
       "31                    /ontology/Trajectory                      Trajectory  \n",
       "32                      /ontology/Object_1                          Object  \n",
       "33                        /ontology/Vector                          Vector  \n",
       "34                    /ontology/Resolution                      Resolution  \n",
       "35                   /ontology/precision_1                       Precision  \n",
       "36                     /ontology/objective                       Objective  \n",
       "37                      /ontology/Velocity                        Velocity  \n",
       "38                    /ontology/dimensions                      Dimensions  \n",
       "39                   /ontology/Probability                     Probability  \n",
       "40                       /ontology/Impulse                         Impulse  \n",
       "41                         /ontology/Field                           Field  "
      ]
     },
     "execution_count": 37,
     "metadata": {},
     "output_type": "execute_result"
    }
   ],
   "source": [
    "pd.DataFrame({'text': e.text, **e.attrs} for e in res)"
   ]
  },
  {
   "cell_type": "code",
   "execution_count": 110,
   "metadata": {
    "ExecuteTime": {
     "end_time": "2019-08-27T13:31:38.882825Z",
     "start_time": "2019-08-27T13:31:38.845703Z"
    },
    "hidden": true
   },
   "outputs": [],
   "source": [
    "def article2doc(url):\n",
    "    html = s.get(url).text\n",
    "    soup = BeautifulSoup(html, 'html.parser')\n",
    "    _id = int(soup.find(attrs={'class': 'article'}).attrs['data-pk'])\n",
    "    arxiv_id = soup.find(attrs={'class': 'article'}).attrs['data-id']\n",
    "    title = soup.find(attrs={'class': 'title'})\n",
    "    versions = title.find(attrs={'class': 'label'})\n",
    "    versions = int(versions.text.split()[-1]) if versions else 1\n",
    "    title = '\\n'.join(title.text.split('\\n')[:-1 if versions > 1 else -2])\n",
    "    authors = [a.text.strip() for a in soup.find_all(attrs={'class': 'author'}) or []]\n",
    "    categories = [c.attrs['data-code'] for c in soup.find(attrs={'class': 'categories'})]\n",
    "    primary_category = soup.find(attrs={'class': 'primary'})\n",
    "    if primary_category:\n",
    "        primary_category = primary_category.attrs['data-code']\n",
    "    abstract = soup.find('p').text\n",
    "    concepts = [int(c.attrs['data-id']) for c in soup.find(attrs={'class': 'found-concepts'}) or []]\n",
    "    tmp_ref, tmp_cit = soup.find_all(attrs={'class': 'span6'})[:2]\n",
    "    tmp_ref = tmp_ref.find_all('li')\n",
    "    tmp_cit = tmp_cit.find_all('li')\n",
    "    all_lis = soup.find_all('li')\n",
    "    references = []\n",
    "    if tmp_ref:\n",
    "        for l in all_lis:\n",
    "            if tmp_cit:\n",
    "                if l == tmp_cit[0]:\n",
    "                    break\n",
    "            if references or (l == tmp_ref[0]):\n",
    "                references.append(l)\n",
    "    references_ids = [r.find('a').attrs['href'] for r in references if r.find('a')]\n",
    "    references_ids = [r[10:-1] if r.startswith('/articles/') else r for r in references_ids]\n",
    "    references = [r.text for r in references]\n",
    "    citations = []\n",
    "    if tmp_cit:\n",
    "        for l in all_lis:\n",
    "            if citations or (l == tmp_cit[0]):\n",
    "                citations.append(l)\n",
    "    citations_ids = [c.find('a').attrs['href'] for c in citations if c.find('a')]\n",
    "    citations_ids = [c[10:-1] if c.startswith('/articles/') else c for c in citations_ids]\n",
    "    citations = [c.text for c in citations]\n",
    "    bookmarked = soup.find(attrs={'class': 'article-bookmark-count-info'})\n",
    "    bookmarked = [b.text.strip() for b in bookmarked.find_all('a')] if bookmarked else []\n",
    "    doc = {\n",
    "        '_id': _id,\n",
    "        'arxiv_id': arxiv_id,\n",
    "        'title': title,\n",
    "        'versions': versions,\n",
    "        'authors': authors,\n",
    "        'authors_len': len(authors),\n",
    "        'categories': categories,\n",
    "        'categories_len': len(categories),\n",
    "        'primary_category': primary_category,\n",
    "        'abstract': abstract,\n",
    "        'concepts': concepts,\n",
    "        'concepts_len': len(concepts),\n",
    "        'references': references,\n",
    "        'references_len': len(references),\n",
    "        'references_ids': references_ids,\n",
    "        'references_ids_len': len(references_ids),\n",
    "        'citations': citations,\n",
    "        'citations_len': len(citations),\n",
    "        'citations_ids': citations_ids,\n",
    "        'citations_ids_len': len(citations_ids),\n",
    "        'bookmarked': bookmarked,\n",
    "        'bookmarked_len': len(bookmarked)\n",
    "    }\n",
    "    inspire_record = soup.find('a', {'href': re.compile(r'\\.net/record')})\n",
    "    if inspire_record:\n",
    "        inspire_record = inspire_record.attrs['href'].split('record/')[-1]\n",
    "        doc['inspire_record'] = inspire_record\n",
    "    doi = soup.find('a', {'href': re.compile(r'doi')})\n",
    "    if doi:\n",
    "        doi = doi.attrs['href'].split('doi.org/')[-1]\n",
    "        doc['doi'] = doi\n",
    "    alert = soup.find(attrs={'class': 'alert-warning'})\n",
    "    if alert:\n",
    "        alert = alert.text.strip()\n",
    "        doc['alert'] = alert\n",
    "    return doc"
   ]
  },
  {
   "cell_type": "code",
   "execution_count": 4,
   "metadata": {
    "ExecuteTime": {
     "end_time": "2019-08-21T14:44:56.837397Z",
     "start_time": "2019-08-21T14:44:55.523627Z"
    },
    "hidden": true
   },
   "outputs": [
    {
     "data": {
      "text/plain": [
       "_id                                                              299616\n",
       "arxiv_id                                                      0704.0005\n",
       "title                 From dyadic $\\Lambda_{\\alpha}$ to $\\Lambda_{\\a...\n",
       "versions                                                              1\n",
       "authors                         [Wael Abu-Shammala, Alberto Torchinsky]\n",
       "authors_len                                                           2\n",
       "categories                                           [math.CA, math.FA]\n",
       "categories_len                                                        2\n",
       "primary_category                                                math.CA\n",
       "abstract              In this paper we show how to compute the $\\Lam...\n",
       "concepts              [14216, 14382, 7388, 8731, 1048, 29090, 15017,...\n",
       "concepts_len                                                         15\n",
       "references                                                           []\n",
       "references_len                                                        0\n",
       "references_ids                                                       []\n",
       "references_ids_len                                                    0\n",
       "citations                                                            []\n",
       "citations_len                                                         0\n",
       "citations_ids                                                        []\n",
       "citations_ids_len                                                     0\n",
       "bookmarked                                                           []\n",
       "bookmarked_len                                                        0\n",
       "dtype: object"
      ]
     },
     "execution_count": 4,
     "metadata": {},
     "output_type": "execute_result"
    }
   ],
   "source": [
    "pd.Series(article2doc('http://sciencewise.info/articles/0704.0005'))"
   ]
  },
  {
   "cell_type": "code",
   "execution_count": 5,
   "metadata": {
    "ExecuteTime": {
     "end_time": "2019-08-21T14:44:57.227247Z",
     "start_time": "2019-08-21T14:44:56.838806Z"
    },
    "hidden": true
   },
   "outputs": [
    {
     "data": {
      "text/plain": [
       "_id                                                             1475249\n",
       "arxiv_id                                                     1711.07064\n",
       "title                 DeblurGAN: Blind Motion Deblurring Using Condi...\n",
       "versions                                                              4\n",
       "authors               [Orest Kupyn, Volodymyr Budzan, Mykola Mykhail...\n",
       "authors_len                                                           5\n",
       "categories                                                      [cs.CV]\n",
       "categories_len                                                        1\n",
       "primary_category                                                  cs.CV\n",
       "abstract              We present DeblurGAN, an end-to-end learned me...\n",
       "concepts              [203495, 202775, 202307, 203474, 202951, 20330...\n",
       "concepts_len                                                         42\n",
       "references            [Dmitry Ulyanov, Andrea Vedaldi, Victor Lempit...\n",
       "references_len                                                       47\n",
       "references_ids        [1607.08022, 1703.10593, 1412.6980, 1411.1784,...\n",
       "references_ids_len                                                    9\n",
       "citations             [Muhammad Asim, Fahad Shamshad, Ali Ahmed, \"Bl...\n",
       "citations_len                                                        20\n",
       "citations_ids         [1908.07404, 1906.06972, 1809.10262, 1905.0680...\n",
       "citations_ids_len                                                    20\n",
       "bookmarked                                                           []\n",
       "bookmarked_len                                                        0\n",
       "dtype: object"
      ]
     },
     "execution_count": 5,
     "metadata": {},
     "output_type": "execute_result"
    }
   ],
   "source": [
    "pd.Series(article2doc('http://sciencewise.info/articles/1711.07064'))"
   ]
  },
  {
   "cell_type": "code",
   "execution_count": 6,
   "metadata": {
    "ExecuteTime": {
     "end_time": "2019-08-21T14:44:57.437213Z",
     "start_time": "2019-08-21T14:44:57.228684Z"
    },
    "hidden": true
   },
   "outputs": [
    {
     "data": {
      "text/plain": [
       "_id                                                             1388956\n",
       "arxiv_id                                                     1707.04830\n",
       "title                 On Banach-Mazur distance between planar convex...\n",
       "versions                                                              4\n",
       "authors                  [Serhii Brodiuk, Nazarii Palko, Andriy Prymak]\n",
       "authors_len                                                           3\n",
       "categories                                                    [math.MG]\n",
       "categories_len                                                        1\n",
       "primary_category                                                math.MG\n",
       "abstract              Upper estimates of the diameter and the radius...\n",
       "concepts                        [12063, 8741, 30339, 1461, 16363, 3262]\n",
       "concepts_len                                                          6\n",
       "references            [article author= Fleischer, Rudolf , author= M...\n",
       "references_len                                                        9\n",
       "references_ids                                                       []\n",
       "references_ids_len                                                    0\n",
       "citations                                                            []\n",
       "citations_len                                                         0\n",
       "citations_ids                                                        []\n",
       "citations_ids_len                                                     0\n",
       "bookmarked                                                           []\n",
       "bookmarked_len                                                        0\n",
       "doi                                           10.1007/s00010-018-0565-4\n",
       "dtype: object"
      ]
     },
     "execution_count": 6,
     "metadata": {},
     "output_type": "execute_result"
    }
   ],
   "source": [
    "pd.Series(article2doc('http://sciencewise.info/articles/1707.04830/'))"
   ]
  },
  {
   "cell_type": "code",
   "execution_count": 7,
   "metadata": {
    "ExecuteTime": {
     "end_time": "2019-08-21T14:44:58.891939Z",
     "start_time": "2019-08-21T14:44:57.508461Z"
    },
    "hidden": true
   },
   "outputs": [
    {
     "data": {
      "text/plain": [
       "_id                                                             1370377\n",
       "arxiv_id                                                     1706.01920\n",
       "title                 BBN for the LHC: constraints on lifetimes of t...\n",
       "versions                                                              1\n",
       "authors                              [Anthony Fradette, Maxim Pospelov]\n",
       "authors_len                                                           2\n",
       "categories                                             [hep-ph, hep-ex]\n",
       "categories_len                                                        2\n",
       "primary_category                                                 hep-ph\n",
       "abstract               LHC experiments can provide a remarkable sens...\n",
       "concepts              [31628, 1315, 15965, 3032, 3382, 4657, 3317, 3...\n",
       "concepts_len                                                        156\n",
       "references            [Jackson D. Clarke, Robert Foot, Raymond R. Vo...\n",
       "references_len                                                       89\n",
       "references_ids        [1310.8042, 1204.3622, 1604.06099, hep-ph/0611...\n",
       "references_ids_len                                                   85\n",
       "citations             [Luc Darmé, Andrzej Hryczuk, Dimitrios Karamit...\n",
       "citations_len                                                        38\n",
       "citations_ids         [1908.05685, 1908.04635, 1811.03292, 1901.1103...\n",
       "citations_ids_len                                                    38\n",
       "bookmarked                         [Oleg Ruchayskiy, Kyrylo Bondarenko]\n",
       "bookmarked_len                                                        2\n",
       "inspire_record                                                  1603091\n",
       "doi                                          10.1103/PhysRevD.96.075033\n",
       "dtype: object"
      ]
     },
     "execution_count": 7,
     "metadata": {},
     "output_type": "execute_result"
    }
   ],
   "source": [
    "pd.Series(article2doc('http://sciencewise.info/articles/1706.01920/'))"
   ]
  },
  {
   "cell_type": "code",
   "execution_count": 11,
   "metadata": {
    "ExecuteTime": {
     "end_time": "2019-08-21T14:45:21.399895Z",
     "start_time": "2019-08-21T14:45:20.683778Z"
    },
    "hidden": true
   },
   "outputs": [
    {
     "data": {
      "text/plain": [
       "1165694"
      ]
     },
     "execution_count": 11,
     "metadata": {},
     "output_type": "execute_result"
    }
   ],
   "source": [
    "all_articles = []\n",
    "for month, submissions_count in submissions_df.iloc[12*15 + 9:]['submissions'].iteritems():\n",
    "    leading_zeros = 4 if month < '2015' else 5\n",
    "    for i in range(submissions_count):\n",
    "        all_articles.append(f'{month[2:4]}{month[-2:]}.{(i + 1):0{leading_zeros}d}')\n",
    "len(all_articles)"
   ]
  },
  {
   "cell_type": "code",
   "execution_count": 12,
   "metadata": {
    "ExecuteTime": {
     "end_time": "2019-08-21T14:45:22.596543Z",
     "start_time": "2019-08-21T14:45:22.570497Z"
    },
    "hidden": true
   },
   "outputs": [
    {
     "data": {
      "text/plain": [
       "['0704.0001',\n",
       " '0704.0002',\n",
       " '0704.0003',\n",
       " '0704.0004',\n",
       " '0704.0005',\n",
       " '0704.0006',\n",
       " '0704.0007',\n",
       " '0704.0008',\n",
       " '0704.0009',\n",
       " '0704.0010']"
      ]
     },
     "execution_count": 12,
     "metadata": {},
     "output_type": "execute_result"
    }
   ],
   "source": [
    "all_articles[:10]"
   ]
  },
  {
   "cell_type": "code",
   "execution_count": 13,
   "metadata": {
    "ExecuteTime": {
     "end_time": "2019-08-21T14:45:23.846446Z",
     "start_time": "2019-08-21T14:45:23.820077Z"
    },
    "hidden": true
   },
   "outputs": [
    {
     "data": {
      "text/plain": [
       "['1908.07503',\n",
       " '1908.07504',\n",
       " '1908.07505',\n",
       " '1908.07506',\n",
       " '1908.07507',\n",
       " '1908.07508',\n",
       " '1908.07509',\n",
       " '1908.07510',\n",
       " '1908.07511',\n",
       " '1908.07512']"
      ]
     },
     "execution_count": 13,
     "metadata": {},
     "output_type": "execute_result"
    }
   ],
   "source": [
    "all_articles[-10:]"
   ]
  },
  {
   "cell_type": "code",
   "execution_count": 99,
   "metadata": {
    "ExecuteTime": {
     "end_time": "2019-08-22T12:59:39.360745Z",
     "start_time": "2019-08-22T12:59:39.290096Z"
    },
    "hidden": true
   },
   "outputs": [
    {
     "data": {
      "text/plain": [
       "117997"
      ]
     },
     "execution_count": 99,
     "metadata": {},
     "output_type": "execute_result"
    }
   ],
   "source": [
    "mc['sw']['articles'].count_documents({})"
   ]
  },
  {
   "cell_type": "code",
   "execution_count": 114,
   "metadata": {
    "ExecuteTime": {
     "end_time": "2019-08-29T01:53:18.152429Z",
     "start_time": "2019-08-27T13:33:17.437883Z"
    },
    "hidden": true,
    "scrolled": true
   },
   "outputs": [
    {
     "data": {
      "application/vnd.jupyter.widget-view+json": {
       "model_id": "0c5c0264478546829398a33ddb712087",
       "version_major": 2,
       "version_minor": 0
      },
      "text/plain": [
       "HBox(children=(IntProgress(value=0, max=311866), HTML(value='')))"
      ]
     },
     "metadata": {},
     "output_type": "display_data"
    },
    {
     "name": "stdout",
     "output_type": "stream",
     "text": [
      "1705.10549 - 'NoneType' object has no attribute 'attrs'\n",
      "1706.02893 - WiredTigerIndex::insert: key too large to index, failing  1236 { : \"M. Raidal, A. van der Schaaf, I. Bigi, M. L. Mangano, Y. Semertzidis, S. Abel, S. Albino, S. Antusch, E. Arganda, B. Bajc, S. Banerjee, C. Biggio, M. ...\" }\n",
      "1706.03039 - E11000 duplicate key error collection: sw.articles index: _id_ dup key: { : 618062 }\n",
      "1706.06154 - WiredTigerIndex::insert: key too large to index, failing  1140 { : \"et al. (2011) Grogin , Kocevski , Faber , Ferguson , Koekemoer , Riess , Acquaviva , Alexander , Almaini , Ashby , Barden , Bell , Bournaud , Brown , ...\" }\n",
      "1706.06280 - 'NoneType' object has no attribute 'attrs'\n",
      "1706.06606 - WiredTigerIndex::insert: key too large to index, failing  1263 { : \"Descouveσn, P., γ (µb) Potential E = 23.3 keV E = 150 keV E = 500 keV E = 750 keV s wave p wave Unscaled Scaled Unscaled Scaled Unscaled Scaled Uns...\" }\n",
      "1706.08512 - E11000 duplicate key error collection: sw.articles index: _id_ dup key: { : 1377590 }\n",
      "1707.01056 - E11000 duplicate key error collection: sw.articles index: _id_ dup key: { : 1156869 }\n",
      "1707.03309 - WiredTigerIndex::insert: key too large to index, failing  1124 { : \"et al. (2015) Park , Huntington , Fiuza , Drake , Froula , Gregori , Koenig , Kugland , Kuranz , Lamb , Levy , Li , Meinecke , Morita , Petrasso , Pol...\" }\n",
      "1707.07559 - WiredTigerIndex::insert: key too large to index, failing  2113 { : \"P. F. Cheng, X. L. Sun, C. Xu, C. Gao, L. Zhao, J. W. Zhang, and L. J. Wang, in pp. 1-3. 1. Introduction In recent years, the passive vapor cell frequ...\" }\n",
      "1708.04304 - E11000 duplicate key error collection: sw.articles index: _id_ dup key: { : 294994 }\n",
      "1709.00645 - 'NoneType' object has no attribute 'attrs'\n",
      "1709.06759 - WiredTigerIndex::insert: key too large to index, failing  1153 { : \"and Malyshkin (27 Feb. 2009) ] BoikoTimeMachine2009 author author Andrei Mikhailovich Boiko and author Vladislav Gennadievich Malyshkin , @noop title ...\" }\n",
      "1709.07460 - 'NoneType' object has no attribute 'attrs'\n",
      "1709.08880 - 'NoneType' object has no attribute 'attrs'\n",
      "1710.00540 - E11000 duplicate key error collection: sw.articles index: _id_ dup key: { : 1446183 }\n",
      "1710.01104 - E11000 duplicate key error collection: sw.articles index: _id_ dup key: { : 1448599 }\n",
      "1710.02583 - WiredTigerIndex::insert: key too large to index, failing  1062 { : \"In the present form, the geodesic curves describe the time evolution of a single particle under the effect of all other particles in the system, which...\" }\n",
      "1710.06710 - WiredTigerIndex::insert: key too large to index, failing  1099 { : \"As we underscored earlier, typical / exhibit an entanglement entropy that scales with the system volume [44], not its logarithm. The eigenstates |Ψ+i...\" }\n",
      "1710.07314 - E11000 duplicate key error collection: sw.articles index: _id_ dup key: { : 1461228 }\n",
      "1710.09856 - 'NoneType' object has no attribute 'attrs'\n",
      "1710.09879 - 'NoneType' object has no attribute 'attrs'\n",
      "1710.09971 - 'NoneType' object has no attribute 'attrs'\n",
      "1710.10061 - 'NoneType' object has no attribute 'attrs'\n",
      "1710.10095 - 'NoneType' object has no attribute 'attrs'\n",
      "1710.10101 - 'NoneType' object has no attribute 'attrs'\n",
      "1710.10104 - 'NoneType' object has no attribute 'attrs'\n",
      "1710.10125 - 'NoneType' object has no attribute 'attrs'\n",
      "1710.10144 - 'NoneType' object has no attribute 'attrs'\n",
      "1710.10145 - 'NoneType' object has no attribute 'attrs'\n",
      "1710.10170 - 'NoneType' object has no attribute 'attrs'\n",
      "1710.10175 - 'NoneType' object has no attribute 'attrs'\n",
      "1710.10186 - 'NoneType' object has no attribute 'attrs'\n",
      "1710.10188 - 'NoneType' object has no attribute 'attrs'\n",
      "1710.10198 - 'NoneType' object has no attribute 'attrs'\n",
      "1710.10233 - 'NoneType' object has no attribute 'attrs'\n",
      "1710.10277 - 'NoneType' object has no attribute 'attrs'\n",
      "1710.10336 - 'NoneType' object has no attribute 'attrs'\n",
      "1710.10358 - 'NoneType' object has no attribute 'attrs'\n",
      "1710.10391 - 'NoneType' object has no attribute 'attrs'\n",
      "1710.10397 - 'NoneType' object has no attribute 'attrs'\n",
      "1710.10415 - 'NoneType' object has no attribute 'attrs'\n",
      "1710.10418 - 'NoneType' object has no attribute 'attrs'\n",
      "1710.10421 - 'NoneType' object has no attribute 'attrs'\n",
      "1710.10430 - 'NoneType' object has no attribute 'attrs'\n",
      "1710.10433 - 'NoneType' object has no attribute 'attrs'\n",
      "1710.10550 - 'NoneType' object has no attribute 'attrs'\n",
      "1710.10554 - 'NoneType' object has no attribute 'attrs'\n",
      "1710.10560 - 'NoneType' object has no attribute 'attrs'\n",
      "1710.10618 - 'NoneType' object has no attribute 'attrs'\n",
      "1710.10648 - 'NoneType' object has no attribute 'attrs'\n",
      "1710.10661 - 'NoneType' object has no attribute 'attrs'\n",
      "1710.10702 - 'NoneType' object has no attribute 'attrs'\n",
      "1710.10728 - 'NoneType' object has no attribute 'attrs'\n",
      "1710.10743 - 'NoneType' object has no attribute 'attrs'\n",
      "1710.10758 - 'NoneType' object has no attribute 'attrs'\n",
      "1710.10773 - 'NoneType' object has no attribute 'attrs'\n",
      "1710.10775 - 'NoneType' object has no attribute 'attrs'\n",
      "1710.10844 - 'NoneType' object has no attribute 'attrs'\n",
      "1710.10847 - 'NoneType' object has no attribute 'attrs'\n",
      "1710.10861 - 'NoneType' object has no attribute 'attrs'\n",
      "1710.10907 - 'NoneType' object has no attribute 'attrs'\n",
      "1710.10910 - 'NoneType' object has no attribute 'attrs'\n",
      "1710.10952 - 'NoneType' object has no attribute 'attrs'\n",
      "1710.11017 - 'NoneType' object has no attribute 'attrs'\n",
      "1710.11121 - 'NoneType' object has no attribute 'attrs'\n",
      "1710.11269 - 'NoneType' object has no attribute 'attrs'\n",
      "1710.11394 - 'NoneType' object has no attribute 'attrs'\n",
      "1710.11429 - 'NoneType' object has no attribute 'attrs'\n",
      "1710.11430 - 'NoneType' object has no attribute 'attrs'\n",
      "1710.11456 - 'NoneType' object has no attribute 'attrs'\n",
      "1710.11470 - 'NoneType' object has no attribute 'attrs'\n",
      "1710.11507 - 'NoneType' object has no attribute 'attrs'\n",
      "1710.11539 - 'NoneType' object has no attribute 'attrs'\n",
      "1710.11540 - 'NoneType' object has no attribute 'attrs'\n",
      "1710.11570 - 'NoneType' object has no attribute 'attrs'\n",
      "1710.11590 - 'NoneType' object has no attribute 'attrs'\n",
      "1710.11610 - 'NoneType' object has no attribute 'attrs'\n",
      "1711.04713 - WiredTigerIndex::insert: key too large to index, failing  1285 { : \"Norman P Jouppi, Al Borchers, Rick Boyle, Pierre-luc Cantin, Clifford Chao, Chris Clark, Jeremy Coriell, Mike Daley, Matt Dau, Jeffrey Dean, Ben Gelb,...\" }\n",
      "1711.04860 - 'NoneType' object has no attribute 'attrs'\n",
      "1711.05008 - 'NoneType' object has no attribute 'attrs'\n",
      "1711.05036 - 'NoneType' object has no attribute 'attrs'\n",
      "1711.05040 - 'NoneType' object has no attribute 'attrs'\n",
      "1711.05042 - 'NoneType' object has no attribute 'attrs'\n",
      "1711.05082 - 'NoneType' object has no attribute 'attrs'\n",
      "1711.05094 - 'NoneType' object has no attribute 'attrs'\n",
      "1711.05126 - 'NoneType' object has no attribute 'attrs'\n",
      "1711.07531 - 'NoneType' object has no attribute 'attrs'\n",
      "1712.00372 - WiredTigerIndex::insert: key too large to index, failing  1245 { : \"et al. (1994) Thompson , Arzoumanian , Bertsch , Brazier , Chiang , D'Amico , Dingus , Esposito , Fierro , Fichtel , Hartman , Hunter , Johnston , Kan...\" }\n",
      "1712.04515 - 'NoneType' object has no attribute 'attrs'\n",
      "1712.05918 - E11000 duplicate key error collection: sw.articles index: _id_ dup key: { : 645705 }\n",
      "1712.06211 - WiredTigerIndex::insert: key too large to index, failing  1221 { : \"et al . (2015) Flaugher , Diehl , Honscheid , Abbott , Alvarez , Angstadt , Annis , Antonik , Ballester , Beaufore , Bernstein , Bernstein , Bigelow ,...\" }\n",
      "1712.06590 - WiredTigerIndex::insert: key too large to index, failing  1306 { : \"Reid et al., (,: #apjaae9d9bib55), i.e., the use of the models involving Equations, 9: #apjaae9d9eqn11(a), (, 11: #apjaae9d9eqn14), and (, 10: #apjaae...\" }\n",
      "1712.08188 - 'NoneType' object has no attribute 'attrs'\n",
      "1712.08202 - 'NoneType' object has no attribute 'attrs'\n",
      "1712.08309 - 'NoneType' object has no attribute 'attrs'\n",
      "1712.08332 - 'NoneType' object has no attribute 'attrs'\n",
      "1712.08335 - 'NoneType' object has no attribute 'attrs'\n",
      "1712.08336 - 'NoneType' object has no attribute 'attrs'\n",
      "1712.08353 - 'NoneType' object has no attribute 'attrs'\n",
      "1712.08354 - 'NoneType' object has no attribute 'attrs'\n",
      "1712.08357 - 'NoneType' object has no attribute 'attrs'\n"
     ]
    },
    {
     "name": "stdout",
     "output_type": "stream",
     "text": [
      "1712.08359 - 'NoneType' object has no attribute 'attrs'\n",
      "1712.08360 - 'NoneType' object has no attribute 'attrs'\n",
      "1712.08425 - 'NoneType' object has no attribute 'attrs'\n",
      "1712.08437 - 'NoneType' object has no attribute 'attrs'\n",
      "1712.08461 - 'NoneType' object has no attribute 'attrs'\n",
      "1712.08472 - 'NoneType' object has no attribute 'attrs'\n",
      "1712.08476 - 'NoneType' object has no attribute 'attrs'\n",
      "1712.08479 - 'NoneType' object has no attribute 'attrs'\n",
      "1712.08484 - 'NoneType' object has no attribute 'attrs'\n",
      "1712.08502 - 'NoneType' object has no attribute 'attrs'\n",
      "1712.08522 - 'NoneType' object has no attribute 'attrs'\n",
      "1712.08527 - 'NoneType' object has no attribute 'attrs'\n",
      "1712.08560 - 'NoneType' object has no attribute 'attrs'\n",
      "1712.08599 - 'NoneType' object has no attribute 'attrs'\n",
      "1801.00995 - WiredTigerIndex::insert: key too large to index, failing  1278 { : \"S. Manzeli, A. Allain, A. Ghadimi, and A. Kis, https://pubs.acs.org/doi/abs/10.1021/acs.nanolett.5b01689 Nano Lett. 15 , 5330 (2015) ; A. R. Rezk, B. ...\" }\n",
      "1801.01174 - WiredTigerIndex::insert: key too large to index, failing  1099 { : \"M. J. Frisch, G. W. Trucks, H. B. Schlegel, G. E. Scuseria, M. A. Robb, J. R. Cheeseman, J. A. Montgomery, Jr., T. Vreven, K. N. Kudin, J. C. Burant, ...\" }\n",
      "1801.06310 - WiredTigerIndex::insert: key too large to index, failing  1207 { : \"et al. (2009) Giannozzi , Baroni , Bonini , Calandra , Car , Cavazzoni , Ceresoli , Chiarotti , Cococcioni , Dabo , Corso , de Gironcoli , Fabris , Fr...\" }\n",
      "1802.01145 - WiredTigerIndex::insert: key too large to index, failing  1286 { : \"et al. (2016) Matsumura , Akiba , Arnold , Borrill , Chendra , Chinone , Cukierman , de Haan , Dobbs , Dominjon , Elleflot , Errard , Fujino , Fuke , ...\" }\n",
      "1802.01636 - E11000 duplicate key error collection: sw.articles index: _id_ dup key: { : 1136456 }\n",
      "1802.02098 - E11000 duplicate key error collection: sw.articles index: _id_ dup key: { : 1179743 }\n",
      "1802.05738 - WiredTigerIndex::insert: key too large to index, failing  1782 { : \"et al. (2016) Ackermann , Ajello , Albert , Anderson , Arimoto , Atwood , Axelsson , Baldini , Ballet , Barbiellini , Baring , Bastieri , Becerra Gonz...\" }\n",
      "1803.01322 - 'NoneType' object has no attribute 'attrs'\n",
      "1803.01994 - E11000 duplicate key error collection: sw.articles index: _id_ dup key: { : 1534877 }\n",
      "1803.04131 - WiredTigerIndex::insert: key too large to index, failing  1063 { : \"L. N. Lipatov, Nucl.Phys.Proc.Suppl. 99A , (2001) 175; M. A. Braun and M. I. Vyazovsky, Eur.Phys.J.C 51 , (2007) 103; M. A. Braun, M. Y. Salykin and M...\" }\n",
      "1803.05483 - WiredTigerIndex::insert: key too large to index, failing  1245 { : \"et al. (2009) Giannozzi , Baroni , Bonini , Calandra , Car , Cavazzoni , Ceresoli , Chiarotti , Cococcioni , Dabo , Dal Corso , de Gironcoli , Fabris ...\" }\n",
      "1803.10195 - 'NoneType' object has no attribute 'attrs'\n",
      "1803.10199 - 'NoneType' object has no attribute 'attrs'\n",
      "1803.10206 - 'NoneType' object has no attribute 'attrs'\n",
      "1804.01005 - E11000 duplicate key error collection: sw.articles index: _id_ dup key: { : 1115479 }\n",
      "1804.03340 - E11000 duplicate key error collection: sw.articles index: _id_ dup key: { : 1554213 }\n",
      "1804.03898 - WiredTigerIndex::insert: key too large to index, failing  1240 { : \"et al. (2009) Giannozzi , Baroni , Bonini , Calandra , Car , Cavazzoni , Ceresoli , Chiarotti , Cococcioni , Dabo , Dal Corso , de Gironcoli , Fabris ...\" }\n",
      "1804.05826 - WiredTigerIndex::insert: key too large to index, failing  1407 { : \"L. Anderson , E. Aubourg , S. Bailey , D. Bizyaev , M. Blanton , A. S. Bolton , J. Brinkmann , J. R. Brownstein , A. Burden , A. J. Cuesta , L. A. N. ...\" }\n",
      "1804.06004 - WiredTigerIndex::insert: key too large to index, failing  1899 { : \"et al.(2017)Zeman, Popel, Straka, Hajic, Nivre, Ginter, Luotolahti, Pyysalo, Petrov, Potthast, Tyers, Badmaeva, Gokirmak, Nedoluzhko, Cinkova, Hajic j...\" }\n",
      "1804.06804 - WiredTigerIndex::insert: key too large to index, failing  1525 { : \"et al.(2017) Cowperthwaite , Berger , Villar , Metzger , Nicholl , Chornock , Blanchard , Fong , Margutti , Soares-Santos , Alexander , Allam , Annis ...\" }\n",
      "1804.07278 - WiredTigerIndex::insert: key too large to index, failing  1268 { : \"A. Mironov, A. Morozov, An. Morozov, JHEP 1203 (2012) 034, arXiv:1112.2654; in: Strings, Gauge Fields, and the Geometry Behind: The Legacy of Maximili...\" }\n",
      "1804.08321 - WiredTigerIndex::insert: key too large to index, failing  3021 { : \"Collaboration et al. (2016) Gaia Collaboration , Brown, Vallenari, Prusti, de Bruijne, Mignard, Drimmel, Babusiaux, Bailer-Jones, Bastian, Biermann, E...\" }\n",
      "1805.00481 - WiredTigerIndex::insert: key too large to index, failing  1286 { : \"et al. (2015) Flaugher , Diehl , Honscheid , Abbott , Alvarez , Angstadt , Annis , Antonik , Ballester , Beaufore , Bernstein , Bernstein , Bigelow , ...\" }\n",
      "1805.01286 - E11000 duplicate key error collection: sw.articles index: _id_ dup key: { : 1559747 }\n",
      "1805.11483 - E11000 duplicate key error collection: sw.articles index: _id_ dup key: { : 659860 }\n",
      "1806.04598 - WiredTigerIndex::insert: key too large to index, failing  2066 { : \"Rabbani, M., J. Electron / Imaging 11, 286 . 1. Introduction Hyperspectral imaging aims to capture the details of the spectra of natural scene. It is ...\" }\n",
      "1806.05741 - WiredTigerIndex::insert: key too large to index, failing  1260 { : \"et al. (2017) Huang , Sahraoui , Yuan , He , Zhao , Contel , Deng , Zhou , Fu , Shi , Lavraud , Pang , Yang , Wang , Li , Yu , Pollock , Giles , Torbe...\" }\n",
      "1806.08532 - 'NoneType' object has no attribute 'attrs'\n",
      "1807.02845 - WiredTigerIndex::insert: key too large to index, failing  1584 { : \"Energy Survey Collaboration et al. (2016) Dark Energy Survey Collaboration , Abbott , Abdalla , Aleksi c , Allam , Amara , Bacon , Balbinot , Banerji ...\" }\n",
      "1807.02898 - WiredTigerIndex::insert: key too large to index, failing  2488 { : \"(iii) As a highly correlated and, yet, numerically tractable initial condition [, 24: #njpaaf65fbib24], one can choose the solution of dynamical mean-...\" }\n",
      "1807.03112 - E11000 duplicate key error collection: sw.articles index: _id_ dup key: { : 1454050 }\n",
      "1807.05840 - WiredTigerIndex::insert: key too large to index, failing  1256 { : \"et al. (2009) Giannozzi , Baroni , Bonini , Calandra , Car , Cavazzoni , Ceresoli , Chiarotti , Cococcioni , Dabo , Corso , de Gironcoli , Fabris , Fr...\" }\n",
      "1807.09661 - 'NoneType' object has no attribute 'attrs'\n",
      "1807.09765 - 'NoneType' object has no attribute 'attrs'\n",
      "1807.10237 - E11000 duplicate key error collection: sw.articles index: _id_ dup key: { : 1427543 }\n",
      "1807.10563 - 'NoneType' object has no attribute 'attrs'\n",
      "1808.01113 - 'NoneType' object has no attribute 'attrs'\n",
      "1808.01540 - WiredTigerIndex::insert: key too large to index, failing  1264 { : \"et al. (2009) Giannozzi , Baroni , Bonini , Calandra , Car , Cavazzoni , Ceresoli , Chiarotti , Cococcioni , Dabo , Corso , de Gironcoli , Fabris , Fr...\" }\n",
      "1808.02321 - E11000 duplicate key error collection: sw.articles index: _id_ dup key: { : 1559747 }\n",
      "1808.02767 - WiredTigerIndex::insert: key too large to index, failing  1100 { : \"et al. (2014) Baity-Jesi , Ba n os , Cruz , Fernandez , Gil-Narvion , Gordillo-Guerrero , I n iguez , Maiorano , Mantovani , Marinari , Martin-Mayor ,...\" }\n",
      "1808.08800 - WiredTigerIndex::insert: key too large to index, failing  1992 { : \"et al. (2009)Abazajian, Adelman-McCarthy, Ag u eros, Allam, Allende Prieto, An, Anderson, Anderson, Annis, Bahcall, Bailer-Jones, Barentine, Bassett, ...\" }\n",
      "1809.00003 - WiredTigerIndex::insert: key too large to index, failing  1597 { : \"Collaboration et al. (2018) Astropy Collaboration , Price-Whelan , Sip o cz , G u nther , Lim , Crawford , Conseil , Shupe , Craig , Dencheva , Ginsbu...\" }\n",
      "1809.02987 - WiredTigerIndex::insert: key too large to index, failing  1689 { : \"S. Agostinelli, J. Allison, K. Amako, J. Apostolakis, H. Araujo, P. Arce, M. Asai, D. Axen, S. Banerjee, G. Barrand, F. Behner, L. Bellagamba, J. Boud...\" }\n",
      "1809.03799 - WiredTigerIndex::insert: key too large to index, failing  1178 { : \"et al. (2009) Gonze , Amadon , Anglade , Beuken , Bottin , Boulanger , Bruneval , Caliste , Caracas , C o t e , Deutsch , Genovese , Ghosez , Giantoma...\" }\n"
     ]
    },
    {
     "name": "stdout",
     "output_type": "stream",
     "text": [
      "1809.03846 - 'NoneType' object has no attribute 'attrs'\n",
      "1809.05337 - WiredTigerIndex::insert: key too large to index, failing  4910 { : \"et al. (2015) Shao , Gan , Epifanovsky , Gilbert , Wormit , Kussmann , Lange , Behn , Deng , Feng , Ghosh , Goldey , Horn , Jacobson , Kaliman , Khali...\" }\n",
      "1809.06384 - WiredTigerIndex::insert: key too large to index, failing  1662 { : \"Deriving σL from the experiment sensitivity.—The conversion of the instrumental noise to σL is derived by matching the rms of noise flux Fn to the...\" }\n",
      "1810.02441 - WiredTigerIndex::insert: key too large to index, failing  1456 { : \"et al. (2015) Flaugher , Diehl , Honscheid , Abbott , Alvarez , Angstadt , Annis , Antonik , Ballester , Beaufore , Bernstein , Bernstein , Bigelow , ...\" }\n",
      "1810.03759 - WiredTigerIndex::insert: key too large to index, failing  1369 { : \"Ya. B. Zeldovich, Sov. Phys. JETP Lett. 12 , 307 (1970); G. L. Murphy, Phys. Rev. D 8 , 4231 (1973); B. L. Hu, Phys. Lett. A 90 , 375 (1982); J. A. S....\" }\n",
      "1810.11652 - WiredTigerIndex::insert: key too large to index, failing  1093 { : \"et al. (2016) Faure , Savy , Rizzi , Melani , Sta s ov a , Fabr e ges , S pir , Hammons , C u nderl i k , Recher , Lombardot , Duloquin , Colin , Koll...\" }\n",
      "1811.03951 - E11000 duplicate key error collection: sw.articles index: _id_ dup key: { : 1375992 }\n",
      "1811.07638 - 'NoneType' object has no attribute 'attrs'\n",
      "1811.07648 - 'NoneType' object has no attribute 'attrs'\n",
      "1811.07651 - 'NoneType' object has no attribute 'attrs'\n",
      "1811.07691 - 'NoneType' object has no attribute 'attrs'\n",
      "1811.07693 - 'NoneType' object has no attribute 'attrs'\n",
      "1811.07694 - 'NoneType' object has no attribute 'attrs'\n",
      "1811.07697 - 'NoneType' object has no attribute 'attrs'\n",
      "1811.07818 - 'NoneType' object has no attribute 'attrs'\n",
      "1811.07828 - 'NoneType' object has no attribute 'attrs'\n",
      "1811.07864 - 'NoneType' object has no attribute 'attrs'\n",
      "1811.08343 - WiredTigerIndex::insert: key too large to index, failing  1069 { : \"et al. (2011) Coleman , Lotya , O Neill , Bergin , King , Khan , Young , Gaucher , De , Smith , Shvets , Arora , Stanton , Kim , Lee , Kim , Duesberg ...\" }\n",
      "1811.08678 - WiredTigerIndex::insert: key too large to index, failing  1526 { : \"et al. (2014) Aidas , Angeli , Bak , Bakken , Bast , Boman , Christiansen , Cimiraglia , Coriani , Dahle , Dalskov , Ekstrom , Enevoldsen , Eriksen , ...\" }\n",
      "1811.09354 - WiredTigerIndex::insert: key too large to index, failing  1275 { : \"Vågberg, however, since detector gain and dark current can vary considerably in space and time, standard flat and dark correction is generally inadeq...\" }\n",
      "1811.10482 - 'NoneType' object has no attribute 'attrs'\n",
      "1811.10604 - E11000 duplicate key error collection: sw.articles index: _id_ dup key: { : 294457 }\n",
      "1812.01123 - 'NoneType' object has no attribute 'attrs'\n",
      "1901.00268 - WiredTigerIndex::insert: key too large to index, failing  1157 { : \"A. Iiyoshi, A. Komori, A. Ejiri, M. Emoto, H. Funaba, M. Goto, K. Ida, H. Idei, S. Inagaki, S. Kado, O. Kaneko, K. Kawahata, T. Kobuchi, S. Kubo, R. K...\" }\n",
      "1901.02730 - WiredTigerIndex::insert: key too large to index, failing  1457 { : \"C. W. F. Everitt , B. Muhlfelder , D. B. DeBra , B. W. Parkinson , J. P. Turneaure , A. S. Silbergleit , E. B. Acworth , M. Adams , R. Adler , W. J. B...\" }\n",
      "1901.03869 - WiredTigerIndex::insert: key too large to index, failing  1071 { : \"et al. (2016) Pollock , Moore , Jacques , Burch , Gliese , Saito , Omoto , Avanov , Barrie , Coffey , Dorelli , Gershman , Giles , Rosnack , Salo , Yo...\" }\n",
      "1901.11429 - WiredTigerIndex::insert: key too large to index, failing  2486 { : \"et al.(2015)Nivre, Agic, Aranzabe, Asahara, Atutxa, Ballesteros, Bauer, Bengoetxea, Bhat, Bosco, Bowman, Celano, Connor, de Marneffe, Diaz de Ilarraza...\" }\n",
      "1902.00356 - WiredTigerIndex::insert: key too large to index, failing  1718 { : \"et al. (2016) Ackermann , Ajello , Atwood , Baldini , Ballet , Barbiellini , Bastieri , Becerra Gonzalez , Bellazzini , Bissaldi , Blandford , Bloom ,...\" }\n",
      "1902.01271 - WiredTigerIndex::insert: key too large to index, failing  1281 { : \"et al. (2017) Larsen , Mortensen , Blomqvist , Castelli , Christensen , Marcin Du ak , Friis , Groves , Hammer , Hargus , Hermes , Jennings , Jensen ,...\" }\n",
      "1902.01390 - WiredTigerIndex::insert: key too large to index, failing  2347 { : \"et al.(2015)Nivre, Agic, Aranzabe, Asahara, Atutxa, Ballesteros, Bauer, Bengoetxea, Bhat, Bosco, Bowman, Celano, Connor, de Marneffe, Diaz de Ilarraza...\" }\n",
      "1902.01749 - WiredTigerIndex::insert: key too large to index, failing  2227 { : \"Haarlem et al. (2013) van Haarlem , Wise , Gunst , Heald , McKean , Hessels , de Bruyn , Nijboer , Swinbank , Fallows , Brentjens , Nelles , Beck , Fa...\" }\n",
      "1902.04091 - WiredTigerIndex::insert: key too large to index, failing  1375 { : \"et al. (2015) Abadi , Agarwal , Barham , Brevdo , Chen , Citro , Corrado , Davis , Dean , Devin , Ghemawat , Goodfellow , Harp , Irving , Isard , Jia ...\" }\n",
      "1902.04575 - 'NoneType' object has no attribute 'attrs'\n",
      "1902.04605 - 'NoneType' object has no attribute 'attrs'\n",
      "1902.04608 - 'NoneType' object has no attribute 'attrs'\n",
      "1902.04696 - 'NoneType' object has no attribute 'attrs'\n",
      "1902.04719 - 'NoneType' object has no attribute 'attrs'\n",
      "1902.04727 - 'NoneType' object has no attribute 'attrs'\n",
      "1902.04732 - 'NoneType' object has no attribute 'attrs'\n",
      "1902.04747 - 'NoneType' object has no attribute 'attrs'\n",
      "1902.04770 - 'NoneType' object has no attribute 'attrs'\n",
      "1902.04788 - 'NoneType' object has no attribute 'attrs'\n",
      "1902.04841 - 'NoneType' object has no attribute 'attrs'\n",
      "1902.04865 - 'NoneType' object has no attribute 'attrs'\n",
      "1902.04880 - 'NoneType' object has no attribute 'attrs'\n",
      "1902.04929 - 'NoneType' object has no attribute 'attrs'\n",
      "1902.04963 - 'NoneType' object has no attribute 'attrs'\n",
      "1902.04977 - 'NoneType' object has no attribute 'attrs'\n",
      "1902.04984 - 'NoneType' object has no attribute 'attrs'\n",
      "1902.05005 - 'NoneType' object has no attribute 'attrs'\n",
      "1902.05028 - 'NoneType' object has no attribute 'attrs'\n",
      "1902.05268 - WiredTigerIndex::insert: key too large to index, failing  1531 { : \"et al. (2000) York , Adelman , Anderson , Anderson , Annis , Bahcall , Bakken , Barkhouser , Bastian , Berman , Boroski , Bracker , Briegel , Briggs ,...\" }\n",
      "1902.06083 - WiredTigerIndex::insert: key too large to index, failing  1803 { : \"S. J. Barish et al. , Phys.Rev.D 19 , 2521 (1979); C. Baltay et al. , Phys.Rev.Lett. 44 , 916 (1980); N. J. Baker et al. , Phys.Rev.D 25 , 617 (1982);...\" }\n",
      "1902.06895 - E11000 duplicate key error collection: sw.articles index: _id_ dup key: { : 1632442 }\n",
      "1902.11265 - WiredTigerIndex::insert: key too large to index, failing  1481 { : \"et al. (2018) Aihara , Arimoto , Armstrong , Arnouts , Bahcall , Bickerton , Bosch , Bundy , Capak , Chan , Chiba , Coupon , Egami , Enoki , Finet , F...\" }\n",
      "1903.02492 - WiredTigerIndex::insert: key too large to index, failing  2042 { : \"et al. (2018) Caldwell , Didier , Ryan , Sete , Hudson , Karalekas , Manenti , da Silva , Sinclair , Acala , Alidoust , Angeles , Bestwick , Block , B...\" }\n",
      "1903.02632 - WiredTigerIndex::insert: key too large to index, failing  1608 { : \"Illustrative Example As Takin contains many different triple-axis features, we restrict ourselves to showing one specific functionality here: planning...\" }\n",
      "1903.03002 - 'NoneType' object has no attribute 'attrs'\n",
      "1903.03626 - WiredTigerIndex::insert: key too large to index, failing  1822 { : \"et al. (2019) Li , Wang , Vink o , Mo , Hosseinzadeh , Sand , Zhang , Lin , PTSS/TNTS , Zhang , Wang , Zhang , Chen , Xiang , Rui , Huang , Li , Zhang...\" }\n",
      "1903.05830 - WiredTigerIndex::insert: key too large to index, failing  1265 { : \"et al. (2017) Larsen , Mortensen , Blomqvist , Castelli , Christensen , Du ak , Friis , Groves , Hammer , Hargus , Hermes , Jennings , Jensen , Kermod...\" }\n",
      "1903.08224 - WiredTigerIndex::insert: key too large to index, failing  1457 { : \"V. Canuto and H. Y. Chiu, Phys. Rev. 173 (1968) 1220; V. Canuto and H. Y. Chiu, Phys. Rev. 173 (1968) 1229; H. Y. Chiu, V. Canuto, and L. Fassio-Canut...\" }\n",
      "1903.08665 - WiredTigerIndex::insert: key too large to index, failing  1800 { : \"et al . (2019) Li , Wang , Vink o , Mo , Hosseinzadeh , Sand , Zhang , Lin , PTSS/TNTS , Zhang , Wang , Zhang , Chen , Xiang , Rui , Huang , Li , Zhan...\" }\n"
     ]
    },
    {
     "name": "stdout",
     "output_type": "stream",
     "text": [
      "1904.00189 - 'NoneType' object has no attribute 'attrs'\n",
      "1904.04305 - WiredTigerIndex::insert: key too large to index, failing  1265 { : \"et al. (2004) Maas , Achenbach , Aulenbacher , Baunack , Capozza , Diefenbach , Grimm , Imai , Hammel , von Harrach , Kabu , Kothe , Lee , Lorente , L...\" }\n",
      "1904.05910 - WiredTigerIndex::insert: key too large to index, failing  2662 { : \"et al. (2008) Moortgat-Pick , Abe , Alexander , Ananthanarayan , Babich , Bharadwaj , Barber , Bartl , Brachmann , Chen , Clarke , Clendenin , Dainton...\" }\n",
      "1904.05980 - E11000 duplicate key error collection: sw.articles index: _id_ dup key: { : 1743385 }\n",
      "1904.08436 - WiredTigerIndex::insert: key too large to index, failing  2648 { : \"Collaboration et al. (2016)Collaboration, Ade, Aghanim, Arnaud, Ashdown, Aumont, Baccigalupi, Banday, Barreiro, Bartlett, Bartolo, Battaner, Battye, B...\" }\n",
      "1904.10008 - WiredTigerIndex::insert: key too large to index, failing  1140 { : \"et al.(2014) Levan , Tanvir , Starling , Wiersema , Page , Perley , Schulze , Wynn , Chornock , Hjorth , Cenko , Fruchter , O'Brien , Brown , Tunnicli...\" }\n",
      "1904.10152 - E11000 duplicate key error collection: sw.articles index: _id_ dup key: { : 1628289 }\n",
      "1904.10976 - WiredTigerIndex::insert: key too large to index, failing  1373 { : \"et al. (2010)Punturo, Abernathy, Acernese, Allen, Andersson, Arun, Barone, Barr, Barsuglia, Beker, Beveridge, Birindelli, Bose, Bosi, Braccini, Bradas...\" }\n",
      "1904.11302 - WiredTigerIndex::insert: key too large to index, failing  1208 { : \"et al. (2009) Yanny , Rockosi , Newberg , Knapp , Adelman-McCarthy , Alcorn , Allam , Allende Prieto , An , Anderson , Anderson , Bailer-Jones , Basti...\" }\n",
      "1905.02076 - E11000 duplicate key error collection: sw.articles index: _id_ dup key: { : 1757810 }\n",
      "1905.02609 - 'NoneType' object has no attribute 'attrs'\n",
      "1905.04916 - WiredTigerIndex::insert: key too large to index, failing  1063 { : \"L. N. Lipatov, Nucl.Phys.Proc.Suppl. 99A , (2001) 175; M. A. Braun and M. I. Vyazovsky, Eur.Phys.J.C 51 , (2007) 103; M. A. Braun, M. Y. Salykin and M...\" }\n",
      "1905.07949 - E11000 duplicate key error collection: sw.articles index: _id_ dup key: { : 1234080 }\n",
      "1906.01461 - 'NoneType' object has no attribute 'attrs'\n",
      "1906.04079 - WiredTigerIndex::insert: key too large to index, failing  2804 { : \"et al. () Aidas , Angeli , Bak , Bakken , Bast , Boman , Christiansen , Cimiraglia , Coriani , Dahle , Dalskov , Ekström , Enevoldsen , Eriksen , Ett...\" }\n",
      "1906.10539 - E11000 duplicate key error collection: sw.articles index: _id_ dup key: { : 1638266 }\n",
      "1907.06417 - E11000 duplicate key error collection: sw.articles index: _id_ dup key: { : 1791968 }\n",
      "1907.06984 - E11000 duplicate key error collection: sw.articles index: _id_ dup key: { : 1695695 }\n",
      "1907.07805 - E11000 duplicate key error collection: sw.articles index: _id_ dup key: { : 1787583 }\n",
      "1907.08036 - WiredTigerIndex::insert: key too large to index, failing  1459 { : \"et al. (2010) Enkovaara , Rostgaard , Mortensen , Chen , Du ak , Ferrighi , Gavnholt , Glinsvad , Haikola , Hansen , Kristoffersen , Kuisma , Larsen ,...\" }\n",
      "1907.08625 - E11000 duplicate key error collection: sw.articles index: _id_ dup key: { : 1506152 }\n",
      "1907.09430 - WiredTigerIndex::insert: key too large to index, failing  1459 { : \"et al. (2010) Enkovaara , Rostgaard , Mortensen , Chen , Du ak , Ferrighi , Gavnholt , Glinsvad , Haikola , Hansen , Kristoffersen , Kuisma , Larsen ,...\" }\n",
      "1907.10090 - E11000 duplicate key error collection: sw.articles index: _id_ dup key: { : 1475072 }\n",
      "1907.10835 - E11000 duplicate key error collection: sw.articles index: _id_ dup key: { : 1799655 }\n",
      "1908.00203 - WiredTigerIndex::insert: key too large to index, failing  1615 { : \"Leeuwen et al. (2018) van Leeuwen , de Bruijne , Arenou , Bakker , Blomme , Busso , Cacciari , Casta n eda , Cellino , Clotet , Comoretto , Eyer , Gon...\" }\n",
      "1908.02381 - E11000 duplicate key error collection: sw.articles index: _id_ dup key: { : 1807520 }\n",
      "1908.02780 - 'NoneType' object has no attribute 'attrs'\n",
      "1908.02838 - 'NoneType' object has no attribute 'attrs'\n",
      "1908.02840 - 'NoneType' object has no attribute 'attrs'\n",
      "1908.02842 - 'NoneType' object has no attribute 'attrs'\n",
      "1908.02846 - 'NoneType' object has no attribute 'attrs'\n",
      "1908.02895 - 'NoneType' object has no attribute 'attrs'\n",
      "1908.02919 - 'NoneType' object has no attribute 'attrs'\n",
      "1908.02960 - 'NoneType' object has no attribute 'attrs'\n",
      "1908.02986 - 'NoneType' object has no attribute 'attrs'\n",
      "1908.03003 - 'NoneType' object has no attribute 'attrs'\n",
      "1908.03036 - 'NoneType' object has no attribute 'attrs'\n",
      "1908.03064 - 'NoneType' object has no attribute 'attrs'\n",
      "1908.03082 - 'NoneType' object has no attribute 'attrs'\n",
      "1908.03091 - 'NoneType' object has no attribute 'attrs'\n",
      "1908.03114 - 'NoneType' object has no attribute 'attrs'\n",
      "1908.03140 - 'NoneType' object has no attribute 'attrs'\n",
      "1908.03143 - 'NoneType' object has no attribute 'attrs'\n",
      "1908.03159 - 'NoneType' object has no attribute 'attrs'\n",
      "1908.03164 - 'NoneType' object has no attribute 'attrs'\n",
      "1908.03179 - 'NoneType' object has no attribute 'attrs'\n",
      "[SW] - done\n"
     ]
    }
   ],
   "source": [
    "docs = []\n",
    "bad_articles = set({\n",
    "#     '0901.4014'\n",
    "})\n",
    "total_errors = 0\n",
    "\n",
    "try:\n",
    "    for aid in tn(all_articles[853827 + 1:]):\n",
    "#         if aid in bad_articles:\n",
    "#             continue\n",
    "        url = f'http://sciencewise.info/articles/{aid}'\n",
    "        try:\n",
    "            doc = article2doc(url)\n",
    "            mc['sw']['articles'].insert_one(doc)\n",
    "        except Exception as e:\n",
    "            print(f'{aid} - {e}')\n",
    "            total_errors += 1\n",
    "            if total_errors > 296:\n",
    "                raise e\n",
    "#         docs.append(doc)\n",
    "#         if len(docs) > 999:  # - len(bad_articles):\n",
    "#             mc['sw']['articles'].insert_many(docs)\n",
    "#             docs = []\n",
    "#     if docs:\n",
    "#         mc['sw']['articles'].insert_many(docs)\n",
    "    m = '[SW] - done'\n",
    "except Exception as e:\n",
    "    m = f'[SW] - error:\\n{aid}\\n{e}'\n",
    "tgn(m)\n",
    "print(m)"
   ]
  },
  {
   "cell_type": "code",
   "execution_count": 116,
   "metadata": {
    "ExecuteTime": {
     "end_time": "2019-08-29T09:14:10.970102Z",
     "start_time": "2019-08-29T09:14:02.278597Z"
    },
    "hidden": true
   },
   "outputs": [
    {
     "data": {
      "application/vnd.jupyter.widget-view+json": {
       "model_id": "58bceb2e13bd4a05b12cc527e7a1cbbd",
       "version_major": 2,
       "version_minor": 0
      },
      "text/plain": [
       "HBox(children=(IntProgress(value=1, bar_style='info', max=1), HTML(value='')))"
      ]
     },
     "metadata": {},
     "output_type": "display_data"
    },
    {
     "data": {
      "text/plain": [
       "1165223"
      ]
     },
     "execution_count": 116,
     "metadata": {},
     "output_type": "execute_result"
    }
   ],
   "source": [
    "done = set()\n",
    "\n",
    "for a in tn(mc['sw']['articles'].find({}, ['arxiv_id'])):\n",
    "    done.add(a['arxiv_id'])\n",
    "len(done)"
   ]
  },
  {
   "cell_type": "code",
   "execution_count": 119,
   "metadata": {
    "ExecuteTime": {
     "end_time": "2019-08-29T09:14:33.262367Z",
     "start_time": "2019-08-29T09:14:33.019912Z"
    },
    "hidden": true
   },
   "outputs": [
    {
     "data": {
      "text/plain": [
       "471"
      ]
     },
     "execution_count": 119,
     "metadata": {},
     "output_type": "execute_result"
    }
   ],
   "source": [
    "bad_arxiv_ids = list(set(all_articles) - done)\n",
    "bad_arxiv_ids.sort()\n",
    "len(bad_arxiv_ids)"
   ]
  },
  {
   "cell_type": "markdown",
   "metadata": {
    "hidden": true
   },
   "source": [
    "Manual work here"
   ]
  },
  {
   "cell_type": "code",
   "execution_count": 120,
   "metadata": {
    "ExecuteTime": {
     "end_time": "2019-08-29T09:14:44.591799Z",
     "start_time": "2019-08-29T09:14:44.542998Z"
    },
    "hidden": true
   },
   "outputs": [
    {
     "data": {
      "text/plain": [
       "471"
      ]
     },
     "execution_count": 120,
     "metadata": {},
     "output_type": "execute_result"
    }
   ],
   "source": [
    "bad_arxiv_ids = [\n",
    "    '0804.0193',  # citation is large, 56K-57K\n",
    "    '0901.4014',  # SW site error, 105K-106K\n",
    "    '0904.0343',  # citation is large, 117K-118K\n",
    "    '1005.0836',  # SW cite error?\n",
    "    '1005.0837',  # SW cite error?\n",
    "    '1005.5600',  # SW cite error?\n",
    "    '1005.5618',  # SW cite error?\n",
    "    '1008.3138',  # SW cite error?\n",
    "    '1008.3153',  # SW cite error?\n",
    "    '1009.5814',  # reference/citation is large\n",
    "    '1105.2364',  # SW cite error?\n",
    "    '1105.2365',  # SW cite error?\n",
    "    '1105.2519',  # SW cite error?\n",
    "    '1105.2536',  # SW cite error?\n",
    "    '1105.2754',  # reference/citation is large\n",
    "    '1109.0195',  # SW cite error?\n",
    "    '1308.0400',  # SW cite error?\n",
    "    '1308.4273',  # SW cite error?\n",
    "    '1312.4049',  # SW cite error?\n",
    "    '1402.6874',  # reference/citation is large\n",
    "    '1403.6677',  # dup _id: 1041610\n",
    "    '1408.6088',  # reference/citation is large\n",
    "    '1410.1272',  # SW cite error?\n",
    "    '1412.5397',  # SW cite error?\n",
    "    '1501.07541',  # reference/citation is large\n",
    "    '1503.00335',  # reference/citation is large\n",
    "    '1504.02285',  # reference/citation is large\n",
    "    '1505.02080',  # reference/citation is large\n",
    "    '1506.06055',  # SW cite error?\n",
    "    '1507.08591',  # reference/citation is large\n",
    "    '1507.08853',  # reference/citation is large\n",
    "    '1508.03246',  # reference/citation is large\n",
    "    '1510.00381',  # reference/citation is large\n",
    "    '1510.03815',  # reference/citation is large\n",
    "    '1601.00077',  # SW cite error?\n",
    "    '1601.00288',  # SW cite error?\n",
    "    '1601.00422',  # SW cite error?\n",
    "    '1601.00533',  # SW cite error?\n",
    "    '1601.00632',  # SW cite error?\n",
    "    '1601.00731',  # SW cite error?\n",
    "    '1601.00735',  # SW cite error?\n",
    "    '1601.00738',  # SW cite error?\n",
    "    '1601.00780',  # SW cite error?\n",
    "    '1601.00816',  # SW cite error?\n",
    "    '1601.00820',  # SW cite error?\n",
    "    '1601.00828',  # SW cite error?\n",
    "    '1601.00896',  # SW cite error?\n",
    "    '1601.01027',  # SW cite error?\n",
    "    '1601.01150',  # SW cite error?\n",
    "    '1601.01208',  # SW cite error?\n",
    "    '1601.01216',  # SW cite error?\n",
    "    '1601.01270',  # SW cite error?\n",
    "    '1601.01285',  # SW cite error?\n",
    "    '1602.02757',  # reference/citation is large\n",
    "    '1604.03789',  # reference/citation is large\n",
    "    '1605.01223',  # SW cite error?\n",
    "    '1606.05652',  # reference/citation is large\n",
    "    '1607.05051',  # reference/citation is large\n",
    "    '1608.03892',  # reference/citation is large\n",
    "    '1609.03826',  # reference/citation is large\n",
    "    '1609.08167',  # reference/citation is large\n",
    "    '1609.09075',  # reference/citation is large\n",
    "    '1610.00897',  # reference/citation is large\n",
    "    '1610.01390',  # SW cite error?\n",
    "    '1610.07578',  # reference/citation is large\n",
    "    '1611.02389',  # reference/citation is large\n",
    "    '1611.07044',  # reference/citation is large\n",
    "    '1611.10023',  # dup _id: 1253054\n",
    "    '1612.00618',  # reference/citation is large\n",
    "    '1612.06478',  # SW cite error?\n",
    "    '1612.07105',  # reference/citation is large\n",
    "    '1702.01665',  # dup _id: 1136456\n",
    "    '1702.05349',  # dup _id: 1220138\n",
    "    '1702.06724',  # SW cite error?\n",
    "    '1703.01059',  # reference/citation is large\n",
    "    '1703.02744',  # SW cite error?\n",
    "    '1703.03521',  # SW cite error?\n",
    "    '1703.03559',  # SW cite error?\n",
    "    '1703.03662',  # SW cite error?\n",
    "    '1703.03786',  # SW cite error?\n",
    "    '1703.09555',  # reference/citation is large\n",
    "    '1703.10810',  # reference/citation is large\n",
    "    '1704.01607',  # dup _id: 1340072\n",
    "    '1704.05054',  # reference/citation is large\n",
    "    '1704.05597',  # reference/citation is large\n",
    "    '1704.06287',  # SW cite error?\n",
    "    '1704.06323',  # SW cite error?\n",
    "    '1704.06414',  # SW cite error?\n",
    "    '1704.06563',  # SW cite error?\n",
    "    '1704.06564',  # SW cite error?\n",
    "    '1704.06565',  # SW cite error?\n",
    "    '1704.06568',  # SW cite error?\n",
    "    '1704.06570',  # SW cite error?\n",
    "    '1704.06571',  # SW cite error?\n",
    "    '1704.06574',  # SW cite error?\n",
    "    '1704.06575',  # SW cite error?\n",
    "    '1704.06579',  # SW cite error?\n",
    "    '1704.06582',  # SW cite error?\n",
    "    '1704.06594',  # SW cite error?\n",
    "    '1704.06597',  # SW cite error?\n",
    "    '1704.06599',  # SW cite error?\n",
    "    '1704.06601',  # SW cite error?\n",
    "    '1704.06602',  # SW cite error?\n",
    "    '1704.06603',  # SW cite error?\n",
    "    '1704.06604',  # SW cite error?\n",
    "    '1704.06605',  # SW cite error?\n",
    "    '1704.06668',  # SW cite error?\n",
    "    '1704.06702',  # SW cite error?\n",
    "    '1704.06706',  # SW cite error?\n",
    "    '1704.06709',  # SW cite error?\n",
    "    '1704.06732',  # SW cite error?\n",
    "    '1704.06815',  # SW cite error?\n",
    "    '1704.07226',  # SW cite error?\n",
    "    '1704.07251',  # SW cite error?\n",
    "    '1704.07362',  # SW cite error?\n",
    "    '1704.07370',  # SW cite error?\n",
    "    '1704.07371',  # SW cite error?\n",
    "    '1704.07450',  # SW cite error?\n",
    "    '1704.07827',  # SW cite error?\n",
    "    '1704.07896',  # SW cite error?\n",
    "    '1704.07918',  # SW cite error?\n",
    "    '1704.08069',  # SW cite error?\n",
    "    '1704.08270',  # SW cite error?\n",
    "    '1704.08530',  # SW cite error?\n",
    "    '1704.08629',  # SW cite error?\n",
    "    '1704.08630',  # SW cite error?\n",
    "    '1705.00226',  # SW cite error?\n",
    "    '1705.00285',  # SW cite error?\n",
    "    '1705.00533',  # SW cite error?\n",
    "    '1705.00542',  # SW cite error?\n",
    "    '1705.00611',  # SW cite error?\n",
    "    '1705.00705',  # SW cite error?\n",
    "    '1705.00776',  # SW cite error?\n",
    "    '1705.00778',  # SW cite error?\n",
    "    '1705.00903',  # SW cite error?\n",
    "    '1705.00905',  # SW cite error?\n",
    "    '1705.00983',  # SW cite error?\n",
    "    '1705.01056',  # SW cite error?\n",
    "    '1705.01095',  # SW cite error?\n",
    "    '1705.01096',  # SW cite error?\n",
    "    '1705.01097',  # SW cite error?\n",
    "    '1705.01098',  # SW cite error?\n",
    "    '1705.01579',  # SW cite error?\n",
    "    '1705.01994',  # SW cite error?\n",
    "    '1705.02074',  # SW cite error?\n",
    "    '1705.02281',  # SW cite error?\n",
    "    '1705.02435',  # SW cite error?\n",
    "    '1705.03209',  # SW cite error?\n",
    "    '1705.03349',  # SW cite error?\n",
    "    '1705.03358',  # SW cite error?\n",
    "    '1705.03554',  # SW cite error?\n",
    "    '1705.03569',  # SW cite error?\n",
    "    '1705.03610',  # SW cite error?\n",
    "    '1705.03746',  # SW cite error?\n",
    "    '1705.04257',  # SW cite error?\n",
    "    '1705.04475',  # SW cite error?\n",
    "    '1705.04699',  # dup _id: 1288234\n",
    "    '1705.04817',  # SW cite error?\n",
    "    '1705.05056',  # SW cite error?\n",
    "    '1705.05622',  # SW cite error?\n",
    "    '1705.06234',  # SW cite error?\n",
    "    '1705.06375',  # SW cite error?\n",
    "    '1705.06531',  # SW cite error?\n",
    "    '1705.06595',  # SW cite error?\n",
    "    '1705.06658',  # SW cite error?\n",
    "    '1705.06731',  # SW cite error?\n",
    "    '1705.06733',  # SW cite error?\n",
    "    '1705.06867',  # SW cite error?\n",
    "    '1705.07508',  # SW cite error?\n",
    "    '1705.07608',  # SW cite error?\n",
    "    '1705.07711',  # SW cite error?\n",
    "    '1705.07712',  # SW cite error?\n",
    "    '1705.07715',  # SW cite error?\n",
    "    '1705.07717',  # SW cite error?\n",
    "    '1705.07718',  # SW cite error?\n",
    "    '1705.07719',  # SW cite error?\n",
    "    '1705.07720',  # SW cite error?\n",
    "    '1705.07726',  # SW cite error?\n",
    "    '1705.07727',  # SW cite error?\n",
    "    '1705.07814',  # SW cite error?\n",
    "    '1705.07836',  # SW cite error?\n",
    "    '1705.07954',  # SW cite error?\n",
    "    '1705.07963',  # SW cite error?\n",
    "    '1705.07964',  # SW cite error?\n",
    "    '1705.07970',  # SW cite error?\n",
    "    '1705.08115',  # SW cite error?\n",
    "    '1705.08251',  # SW cite error?\n",
    "    '1705.08254',  # SW cite error?\n",
    "    '1705.08256',  # SW cite error?\n",
    "    '1705.08257',  # SW cite error?\n",
    "    '1705.08263',  # SW cite error?\n",
    "    '1705.08290',  # SW cite error?\n",
    "    '1705.08401',  # SW cite error?\n",
    "    '1705.08414',  # SW cite error?\n",
    "    '1705.08517',  # SW cite error?\n",
    "    '1705.09387',  # SW cite error?\n",
    "    '1705.09388',  # SW cite error?\n",
    "    '1705.09394',  # SW cite error?\n",
    "    '1705.09557',  # SW cite error?\n",
    "    '1705.09559',  # SW cite error?\n",
    "    '1705.09699',  # SW cite error?\n",
    "    '1705.10038',  # SW cite error?\n",
    "    '1705.10275',  # SW cite error?\n",
    "    '1705.10549',  # SW cite error?\n",
    "    '1706.02893',  # reference/citation is large\n",
    "    '1706.03039',  # dup _id: 618062\n",
    "    '1706.06154',  # reference/citation is large\n",
    "    '1706.06280',  # SW cite error?\n",
    "    '1706.06606',  # reference/citation is large\n",
    "    '1706.08512',  # dup _id: 1377590\n",
    "    '1707.01056',  # dup _id: 1156869\n",
    "    '1707.03309',  # reference/citation is large\n",
    "    '1707.07559',  # reference/citation is large\n",
    "    '1708.04304',  # dup _id: 294994\n",
    "    '1709.00645',  # SW cite error?\n",
    "    '1709.06759',  # reference/citation is large\n",
    "    '1709.07460',  # SW cite error?\n",
    "    '1709.08880',  # SW cite error?\n",
    "    '1710.00540',  # dup _id: 1446183\n",
    "    '1710.01104',  # dup _id: 1448599\n",
    "    '1710.02583',  # reference/citation is large\n",
    "    '1710.06710',  # reference/citation is large\n",
    "    '1710.07314',  # dup _id: 1461228\n",
    "    '1710.09856',  # SW cite error?\n",
    "    '1710.09879',  # SW cite error?\n",
    "    '1710.09971',  # SW cite error?\n",
    "    '1710.10061',  # SW cite error?\n",
    "    '1710.10095',  # SW cite error?\n",
    "    '1710.10101',  # SW cite error?\n",
    "    '1710.10104',  # SW cite error?\n",
    "    '1710.10125',  # SW cite error?\n",
    "    '1710.10144',  # SW cite error?\n",
    "    '1710.10145',  # SW cite error?\n",
    "    '1710.10170',  # SW cite error?\n",
    "    '1710.10175',  # SW cite error?\n",
    "    '1710.10186',  # SW cite error?\n",
    "    '1710.10188',  # SW cite error?\n",
    "    '1710.10198',  # SW cite error?\n",
    "    '1710.10233',  # SW cite error?\n",
    "    '1710.10277',  # SW cite error?\n",
    "    '1710.10336',  # SW cite error?\n",
    "    '1710.10358',  # SW cite error?\n",
    "    '1710.10391',  # SW cite error?\n",
    "    '1710.10397',  # SW cite error?\n",
    "    '1710.10415',  # SW cite error?\n",
    "    '1710.10418',  # SW cite error?\n",
    "    '1710.10421',  # SW cite error?\n",
    "    '1710.10430',  # SW cite error?\n",
    "    '1710.10433',  # SW cite error?\n",
    "    '1710.10550',  # SW cite error?\n",
    "    '1710.10554',  # SW cite error?\n",
    "    '1710.10560',  # SW cite error?\n",
    "    '1710.10618',  # SW cite error?\n",
    "    '1710.10648',  # SW cite error?\n",
    "    '1710.10661',  # SW cite error?\n",
    "    '1710.10702',  # SW cite error?\n",
    "    '1710.10728',  # SW cite error?\n",
    "    '1710.10743',  # SW cite error?\n",
    "    '1710.10758',  # SW cite error?\n",
    "    '1710.10773',  # SW cite error?\n",
    "    '1710.10775',  # SW cite error?\n",
    "    '1710.10844',  # SW cite error?\n",
    "    '1710.10847',  # SW cite error?\n",
    "    '1710.10861',  # SW cite error?\n",
    "    '1710.10907',  # SW cite error?\n",
    "    '1710.10910',  # SW cite error?\n",
    "    '1710.10952',  # SW cite error?\n",
    "    '1710.11017',  # SW cite error?\n",
    "    '1710.11121',  # SW cite error?\n",
    "    '1710.11269',  # SW cite error?\n",
    "    '1710.11394',  # SW cite error?\n",
    "    '1710.11429',  # SW cite error?\n",
    "    '1710.11430',  # SW cite error?\n",
    "    '1710.11456',  # SW cite error?\n",
    "    '1710.11470',  # SW cite error?\n",
    "    '1710.11507',  # SW cite error?\n",
    "    '1710.11539',  # SW cite error?\n",
    "    '1710.11540',  # SW cite error?\n",
    "    '1710.11570',  # SW cite error?\n",
    "    '1710.11590',  # SW cite error?\n",
    "    '1710.11610',  # SW cite error?\n",
    "    '1711.04713',  # reference/citation is large\n",
    "    '1711.04860',  # SW cite error?\n",
    "    '1711.05008',  # SW cite error?\n",
    "    '1711.05036',  # SW cite error?\n",
    "    '1711.05040',  # SW cite error?\n",
    "    '1711.05042',  # SW cite error?\n",
    "    '1711.05082',  # SW cite error?\n",
    "    '1711.05094',  # SW cite error?\n",
    "    '1711.05126',  # SW cite error?\n",
    "    '1711.07531',  # SW cite error?\n",
    "    '1712.00372',  # reference/citation is large\n",
    "    '1712.04515',  # SW cite error?\n",
    "    '1712.05918',  # dup _id: 645705\n",
    "    '1712.06211',  # reference/citation is large\n",
    "    '1712.06590',  # reference/citation is large\n",
    "    '1712.08188',  # SW cite error?\n",
    "    '1712.08202',  # SW cite error?\n",
    "    '1712.08309',  # SW cite error?\n",
    "    '1712.08332',  # SW cite error?\n",
    "    '1712.08335',  # SW cite error?\n",
    "    '1712.08336',  # SW cite error?\n",
    "    '1712.08353',  # SW cite error?\n",
    "    '1712.08354',  # SW cite error?\n",
    "    '1712.08357',  # SW cite error?\n",
    "    '1712.08359',  # SW cite error?\n",
    "    '1712.08360',  # SW cite error?\n",
    "    '1712.08425',  # SW cite error?\n",
    "    '1712.08437',  # SW cite error?\n",
    "    '1712.08461',  # SW cite error?\n",
    "    '1712.08472',  # SW cite error?\n",
    "    '1712.08476',  # SW cite error?\n",
    "    '1712.08479',  # SW cite error?\n",
    "    '1712.08484',  # SW cite error?\n",
    "    '1712.08502',  # SW cite error?\n",
    "    '1712.08522',  # SW cite error?\n",
    "    '1712.08527',  # SW cite error?\n",
    "    '1712.08560',  # SW cite error?\n",
    "    '1712.08599',  # SW cite error?\n",
    "    '1801.00995',  # reference/citation is large\n",
    "    '1801.01174',  # reference/citation is large\n",
    "    '1801.06310',  # reference/citation is large\n",
    "    '1802.01145',  # reference/citation is large\n",
    "    '1802.01636',  # dup _id: 1136456\n",
    "    '1802.02098',  # dup _id: 1179743\n",
    "    '1802.05738',  # reference/citation is large\n",
    "    '1803.01322',  # SW cite error?\n",
    "    '1803.01994',  # dup _id: 1534877\n",
    "    '1803.04131',  # reference/citation is large\n",
    "    '1803.05483',  # reference/citation is large\n",
    "    '1803.10195',  # SW cite error?\n",
    "    '1803.10199',  # SW cite error?\n",
    "    '1803.10206',  # SW cite error?\n",
    "    '1804.01005',  # dup _id: 1115479\n",
    "    '1804.03340',  # dup _id: 1554213\n",
    "    '1804.03898',  # reference/citation is large\n",
    "    '1804.05826',  # reference/citation is large\n",
    "    '1804.06004',  # reference/citation is large\n",
    "    '1804.06804',  # reference/citation is large\n",
    "    '1804.07278',  # reference/citation is large\n",
    "    '1804.08321',  # reference/citation is large\n",
    "    '1805.00481',  # reference/citation is large\n",
    "    '1805.01286',  # dup _id: 1559747\n",
    "    '1805.11483',  # dup _id: 659860\n",
    "    '1806.04598',  # reference/citation is large\n",
    "    '1806.05741',  # reference/citation is large\n",
    "    '1806.08532',  # SW cite error?\n",
    "    '1807.02845',  # reference/citation is large\n",
    "    '1807.02898',  # reference/citation is large\n",
    "    '1807.03112',  # dup _id: 1454050\n",
    "    '1807.05840',  # reference/citation is large\n",
    "    '1807.09661',  # SW cite error?\n",
    "    '1807.09765',  # SW cite error?\n",
    "    '1807.10237',  # dup _id: 1427543\n",
    "    '1807.10563',  # SW cite error?\n",
    "    '1808.01113',  # SW cite error?\n",
    "    '1808.01540',  # reference/citation is large\n",
    "    '1808.02321',  # dup _id: 1559747\n",
    "    '1808.02767',  # reference/citation is large\n",
    "    '1808.08800',  # reference/citation is large\n",
    "    '1809.00003',  # reference/citation is large\n",
    "    '1809.02987',  # reference/citation is large\n",
    "    '1809.03799',  # reference/citation is large\n",
    "    '1809.03846',  # SW cite error?\n",
    "    '1809.05337',  # reference/citation is large\n",
    "    '1809.06384',  # reference/citation is large\n",
    "    '1810.02441',  # reference/citation is large\n",
    "    '1810.03759',  # reference/citation is large\n",
    "    '1810.11652',  # reference/citation is large\n",
    "    '1811.03951',  # dup _id: 1375992\n",
    "    '1811.07638',  # SW cite error?\n",
    "    '1811.07648',  # SW cite error?\n",
    "    '1811.07651',  # SW cite error?\n",
    "    '1811.07691',  # SW cite error?\n",
    "    '1811.07693',  # SW cite error?\n",
    "    '1811.07694',  # SW cite error?\n",
    "    '1811.07697',  # SW cite error?\n",
    "    '1811.07818',  # SW cite error?\n",
    "    '1811.07828',  # SW cite error?\n",
    "    '1811.07864',  # SW cite error?\n",
    "    '1811.08343',  # reference/citation is large\n",
    "    '1811.08678',  # reference/citation is large\n",
    "    '1811.09354',  # reference/citation is large\n",
    "    '1811.10482',  # SW cite error?\n",
    "    '1811.10604',  # dup _id: 294457\n",
    "    '1812.01123',  # SW cite error?\n",
    "    '1901.00268',  # reference/citation is large\n",
    "    '1901.02730',  # reference/citation is large\n",
    "    '1901.03869',  # reference/citation is large\n",
    "    '1901.11429',  # reference/citation is large\n",
    "    '1902.00356',  # reference/citation is large\n",
    "    '1902.01271',  # reference/citation is large\n",
    "    '1902.01390',  # reference/citation is large\n",
    "    '1902.01749',  # reference/citation is large\n",
    "    '1902.04091',  # reference/citation is large\n",
    "    '1902.04575',  # SW cite error?\n",
    "    '1902.04605',  # SW cite error?\n",
    "    '1902.04608',  # SW cite error?\n",
    "    '1902.04696',  # SW cite error?\n",
    "    '1902.04719',  # SW cite error?\n",
    "    '1902.04727',  # SW cite error?\n",
    "    '1902.04732',  # SW cite error?\n",
    "    '1902.04747',  # SW cite error?\n",
    "    '1902.04770',  # SW cite error?\n",
    "    '1902.04788',  # SW cite error?\n",
    "    '1902.04841',  # SW cite error?\n",
    "    '1902.04865',  # SW cite error?\n",
    "    '1902.04880',  # SW cite error?\n",
    "    '1902.04929',  # SW cite error?\n",
    "    '1902.04963',  # SW cite error?\n",
    "    '1902.04977',  # SW cite error?\n",
    "    '1902.04984',  # SW cite error?\n",
    "    '1902.05005',  # SW cite error?\n",
    "    '1902.05028',  # SW cite error?\n",
    "    '1902.05268',  # reference/citation is large\n",
    "    '1902.06083',  # reference/citation is large\n",
    "    '1902.06895',  # dup _id: 1632442\n",
    "    '1902.11265',  # reference/citation is large\n",
    "    '1903.02492',  # reference/citation is large\n",
    "    '1903.02632',  # reference/citation is large\n",
    "    '1903.03002',  # SW cite error?\n",
    "    '1903.03626',  # reference/citation is large\n",
    "    '1903.05830',  # reference/citation is large\n",
    "    '1903.08224',  # reference/citation is large\n",
    "    '1903.08665',  # reference/citation is large\n",
    "    '1904.00189',  # SW cite error?\n",
    "    '1904.04305',  # reference/citation is large\n",
    "    '1904.05910',  # reference/citation is large\n",
    "    '1904.05980',  # dup _id: 1743385\n",
    "    '1904.08436',  # reference/citation is large\n",
    "    '1904.10008',  # reference/citation is large\n",
    "    '1904.10152',  # dup _id: 1628289\n",
    "    '1904.10976',  # reference/citation is large\n",
    "    '1904.11302',  # reference/citation is large\n",
    "    '1905.02076',  # dup _id: 1757810\n",
    "    '1905.02609',  # SW cite error?\n",
    "    '1905.04916',  # reference/citation is large\n",
    "    '1905.07949',  # dup _id: 1234080\n",
    "    '1906.01461',  # SW cite error?\n",
    "    '1906.04079',  # reference/citation is large\n",
    "    '1906.10539',  # dup _id: 1638266\n",
    "    '1907.06417',  # dup _id: 1791968\n",
    "    '1907.06984',  # dup _id: 1695695\n",
    "    '1907.07805',  # dup _id: 1787583\n",
    "    '1907.08036',  # reference/citation is large\n",
    "    '1907.08625',  # dup _id: 1506152\n",
    "    '1907.09430',  # reference/citation is large\n",
    "    '1907.10090',  # dup _id: 1475072\n",
    "    '1907.10835',  # dup _id: 1799655\n",
    "    '1908.00203',  # reference/citation is large\n",
    "    '1908.02381',  # dup _id: 1807520\n",
    "    '1908.02780',  # SW cite error?\n",
    "    '1908.02838',  # SW cite error?\n",
    "    '1908.02840',  # SW cite error?\n",
    "    '1908.02842',  # SW cite error?\n",
    "    '1908.02846',  # SW cite error?\n",
    "    '1908.02895',  # SW cite error?\n",
    "    '1908.02919',  # SW cite error?\n",
    "    '1908.02960',  # SW cite error?\n",
    "    '1908.02986',  # SW cite error?\n",
    "    '1908.03003',  # SW cite error?\n",
    "    '1908.03036',  # SW cite error?\n",
    "    '1908.03064',  # SW cite error?\n",
    "    '1908.03082',  # SW cite error?\n",
    "    '1908.03091',  # SW cite error?\n",
    "    '1908.03114',  # SW cite error?\n",
    "    '1908.03140',  # SW cite error?\n",
    "    '1908.03143',  # SW cite error?\n",
    "    '1908.03159',  # SW cite error?\n",
    "    '1908.03164',  # SW cite error?\n",
    "    '1908.03179'  # SW cite error?\n",
    "]\n",
    "len(bad_arxiv_ids)"
   ]
  },
  {
   "cell_type": "code",
   "execution_count": 96,
   "metadata": {
    "ExecuteTime": {
     "end_time": "2019-08-22T12:58:34.897286Z",
     "start_time": "2019-08-22T12:58:34.546337Z"
    },
    "hidden": true
   },
   "outputs": [
    {
     "data": {
      "text/plain": [
       "_id                                                              596565\n",
       "arxiv_id                                                      0904.0343\n",
       "title                 A contribution to the history of quarks: Boris...\n",
       "versions                                                              4\n",
       "authors                                                [Fyodor Tkachov]\n",
       "authors_len                                                           1\n",
       "categories                                    [physics.hist-ph, hep-ph]\n",
       "categories_len                                                        2\n",
       "primary_category                                        physics.hist-ph\n",
       "abstract              The idea that an internal quantum number for q...\n",
       "concepts                               [202838, 3564, 3632, 3428, 3359]\n",
       "concepts_len                                                          5\n",
       "references            [Gell-Mann, Murray, \"A Schematic Model of Bary...\n",
       "references_len                                                        2\n",
       "references_ids                    [GellMann%3A1964nj, Gursey%3A1964keh]\n",
       "references_ids_len                                                    2\n",
       "citations             [Fyodor Tkachov, \"A contribution to the histor...\n",
       "citations_len                                                        28\n",
       "citations_ids         [0904.0343, http://inspirehep.net/record/33580...\n",
       "citations_ids_len                                                    13\n",
       "bookmarked                                                           []\n",
       "bookmarked_len                                                        0\n",
       "inspire_record                                                   817072\n",
       "dtype: object"
      ]
     },
     "execution_count": 96,
     "metadata": {},
     "output_type": "execute_result"
    }
   ],
   "source": [
    "url = f'http://sciencewise.info/articles/{bad_arxiv_ids[-1]}'\n",
    "doc = article2doc(url)\n",
    "pd.Series(doc)"
   ]
  },
  {
   "cell_type": "code",
   "execution_count": 111,
   "metadata": {
    "ExecuteTime": {
     "end_time": "2019-08-27T13:31:42.331281Z",
     "start_time": "2019-08-27T13:31:42.009397Z"
    },
    "hidden": true
   },
   "outputs": [
    {
     "data": {
      "text/plain": [
       "_id                                                             1366518\n",
       "arxiv_id                                                     1705.10275\n",
       "title                 Experimental demonstration of an ultra-compact...\n",
       "versions                                                              1\n",
       "authors                          [Qingzhong Deng, Lu Liu, Zhiping Zhou]\n",
       "authors_len                                                           3\n",
       "categories                                                           []\n",
       "categories_len                                                        0\n",
       "primary_category                                                   None\n",
       "abstract              We demonstrated a novel on-chip polarization c...\n",
       "concepts                                                         [3412]\n",
       "concepts_len                                                          1\n",
       "references                                                           []\n",
       "references_len                                                        0\n",
       "references_ids                                                       []\n",
       "references_ids_len                                                    0\n",
       "citations                                                            []\n",
       "citations_len                                                         0\n",
       "citations_ids                                                        []\n",
       "citations_ids_len                                                     0\n",
       "bookmarked                                                           []\n",
       "bookmarked_len                                                        0\n",
       "alert                 We do not have access to the latex source of t...\n",
       "dtype: object"
      ]
     },
     "execution_count": 111,
     "metadata": {},
     "output_type": "execute_result"
    }
   ],
   "source": [
    "url = f'http://sciencewise.info/articles/{\"1705.10275\"}'\n",
    "doc = article2doc(url)\n",
    "pd.Series(doc)"
   ]
  },
  {
   "cell_type": "code",
   "execution_count": 97,
   "metadata": {
    "ExecuteTime": {
     "end_time": "2019-08-22T12:58:37.797643Z",
     "start_time": "2019-08-22T12:58:37.745499Z"
    },
    "collapsed": true,
    "hidden": true
   },
   "outputs": [
    {
     "ename": "WriteError",
     "evalue": "WiredTigerIndex::insert: key too large to index, failing  4935 { : \"B.V. Struminsky MAGNETIC, Academic, MOMENTS OF BARYONS IN THE QUARK MODEL An interesting attempt to unify internal and space symmetries of elementary ...\" }",
     "output_type": "error",
     "traceback": [
      "\u001b[0;31m\u001b[0m",
      "\u001b[0;31mWriteError\u001b[0mTraceback (most recent call last)",
      "\u001b[0;32m<ipython-input-97-9e99f5f1785a>\u001b[0m in \u001b[0;36m<module>\u001b[0;34m\u001b[0m\n\u001b[0;32m----> 1\u001b[0;31m \u001b[0mmc\u001b[0m\u001b[0;34m[\u001b[0m\u001b[0;34m'sw'\u001b[0m\u001b[0;34m]\u001b[0m\u001b[0;34m[\u001b[0m\u001b[0;34m'articles'\u001b[0m\u001b[0;34m]\u001b[0m\u001b[0;34m.\u001b[0m\u001b[0minsert_one\u001b[0m\u001b[0;34m(\u001b[0m\u001b[0mdoc\u001b[0m\u001b[0;34m)\u001b[0m\u001b[0;34m\u001b[0m\u001b[0;34m\u001b[0m\u001b[0m\n\u001b[0m",
      "\u001b[0;32m/opt/conda/lib/python3.7/site-packages/pymongo/collection.py\u001b[0m in \u001b[0;36minsert_one\u001b[0;34m(self, document, bypass_document_validation, session)\u001b[0m\n\u001b[1;32m    698\u001b[0m                          \u001b[0mwrite_concern\u001b[0m\u001b[0;34m=\u001b[0m\u001b[0mwrite_concern\u001b[0m\u001b[0;34m,\u001b[0m\u001b[0;34m\u001b[0m\u001b[0;34m\u001b[0m\u001b[0m\n\u001b[1;32m    699\u001b[0m                          \u001b[0mbypass_doc_val\u001b[0m\u001b[0;34m=\u001b[0m\u001b[0mbypass_document_validation\u001b[0m\u001b[0;34m,\u001b[0m\u001b[0;34m\u001b[0m\u001b[0;34m\u001b[0m\u001b[0m\n\u001b[0;32m--> 700\u001b[0;31m                          session=session),\n\u001b[0m\u001b[1;32m    701\u001b[0m             write_concern.acknowledged)\n\u001b[1;32m    702\u001b[0m \u001b[0;34m\u001b[0m\u001b[0m\n",
      "\u001b[0;32m/opt/conda/lib/python3.7/site-packages/pymongo/collection.py\u001b[0m in \u001b[0;36m_insert\u001b[0;34m(self, docs, ordered, check_keys, manipulate, write_concern, op_id, bypass_doc_val, session)\u001b[0m\n\u001b[1;32m    612\u001b[0m             return self._insert_one(\n\u001b[1;32m    613\u001b[0m                 \u001b[0mdocs\u001b[0m\u001b[0;34m,\u001b[0m \u001b[0mordered\u001b[0m\u001b[0;34m,\u001b[0m \u001b[0mcheck_keys\u001b[0m\u001b[0;34m,\u001b[0m \u001b[0mmanipulate\u001b[0m\u001b[0;34m,\u001b[0m \u001b[0mwrite_concern\u001b[0m\u001b[0;34m,\u001b[0m \u001b[0mop_id\u001b[0m\u001b[0;34m,\u001b[0m\u001b[0;34m\u001b[0m\u001b[0;34m\u001b[0m\u001b[0m\n\u001b[0;32m--> 614\u001b[0;31m                 bypass_doc_val, session)\n\u001b[0m\u001b[1;32m    615\u001b[0m \u001b[0;34m\u001b[0m\u001b[0m\n\u001b[1;32m    616\u001b[0m         \u001b[0mids\u001b[0m \u001b[0;34m=\u001b[0m \u001b[0;34m[\u001b[0m\u001b[0;34m]\u001b[0m\u001b[0;34m\u001b[0m\u001b[0;34m\u001b[0m\u001b[0m\n",
      "\u001b[0;32m/opt/conda/lib/python3.7/site-packages/pymongo/collection.py\u001b[0m in \u001b[0;36m_insert_one\u001b[0;34m(self, doc, ordered, check_keys, manipulate, write_concern, op_id, bypass_doc_val, session)\u001b[0m\n\u001b[1;32m    600\u001b[0m \u001b[0;34m\u001b[0m\u001b[0m\n\u001b[1;32m    601\u001b[0m         self.__database.client._retryable_write(\n\u001b[0;32m--> 602\u001b[0;31m             acknowledged, _insert_command, session)\n\u001b[0m\u001b[1;32m    603\u001b[0m \u001b[0;34m\u001b[0m\u001b[0m\n\u001b[1;32m    604\u001b[0m         \u001b[0;32mif\u001b[0m \u001b[0;32mnot\u001b[0m \u001b[0misinstance\u001b[0m\u001b[0;34m(\u001b[0m\u001b[0mdoc\u001b[0m\u001b[0;34m,\u001b[0m \u001b[0mRawBSONDocument\u001b[0m\u001b[0;34m)\u001b[0m\u001b[0;34m:\u001b[0m\u001b[0;34m\u001b[0m\u001b[0;34m\u001b[0m\u001b[0m\n",
      "\u001b[0;32m/opt/conda/lib/python3.7/site-packages/pymongo/mongo_client.py\u001b[0m in \u001b[0;36m_retryable_write\u001b[0;34m(self, retryable, func, session)\u001b[0m\n\u001b[1;32m   1278\u001b[0m         \u001b[0;34m\"\"\"Internal retryable write helper.\"\"\"\u001b[0m\u001b[0;34m\u001b[0m\u001b[0;34m\u001b[0m\u001b[0m\n\u001b[1;32m   1279\u001b[0m         \u001b[0;32mwith\u001b[0m \u001b[0mself\u001b[0m\u001b[0;34m.\u001b[0m\u001b[0m_tmp_session\u001b[0m\u001b[0;34m(\u001b[0m\u001b[0msession\u001b[0m\u001b[0;34m)\u001b[0m \u001b[0;32mas\u001b[0m \u001b[0ms\u001b[0m\u001b[0;34m:\u001b[0m\u001b[0;34m\u001b[0m\u001b[0;34m\u001b[0m\u001b[0m\n\u001b[0;32m-> 1280\u001b[0;31m             \u001b[0;32mreturn\u001b[0m \u001b[0mself\u001b[0m\u001b[0;34m.\u001b[0m\u001b[0m_retry_with_session\u001b[0m\u001b[0;34m(\u001b[0m\u001b[0mretryable\u001b[0m\u001b[0;34m,\u001b[0m \u001b[0mfunc\u001b[0m\u001b[0;34m,\u001b[0m \u001b[0ms\u001b[0m\u001b[0;34m,\u001b[0m \u001b[0;32mNone\u001b[0m\u001b[0;34m)\u001b[0m\u001b[0;34m\u001b[0m\u001b[0;34m\u001b[0m\u001b[0m\n\u001b[0m\u001b[1;32m   1281\u001b[0m \u001b[0;34m\u001b[0m\u001b[0m\n\u001b[1;32m   1282\u001b[0m     \u001b[0;32mdef\u001b[0m \u001b[0m__reset_server\u001b[0m\u001b[0;34m(\u001b[0m\u001b[0mself\u001b[0m\u001b[0;34m,\u001b[0m \u001b[0maddress\u001b[0m\u001b[0;34m)\u001b[0m\u001b[0;34m:\u001b[0m\u001b[0;34m\u001b[0m\u001b[0;34m\u001b[0m\u001b[0m\n",
      "\u001b[0;32m/opt/conda/lib/python3.7/site-packages/pymongo/mongo_client.py\u001b[0m in \u001b[0;36m_retry_with_session\u001b[0;34m(self, retryable, func, session, bulk)\u001b[0m\n\u001b[1;32m   1231\u001b[0m                             \u001b[0;32mraise\u001b[0m \u001b[0mlast_error\u001b[0m\u001b[0;34m\u001b[0m\u001b[0;34m\u001b[0m\u001b[0m\n\u001b[1;32m   1232\u001b[0m                         \u001b[0mretryable\u001b[0m \u001b[0;34m=\u001b[0m \u001b[0;32mFalse\u001b[0m\u001b[0;34m\u001b[0m\u001b[0;34m\u001b[0m\u001b[0m\n\u001b[0;32m-> 1233\u001b[0;31m                     \u001b[0;32mreturn\u001b[0m \u001b[0mfunc\u001b[0m\u001b[0;34m(\u001b[0m\u001b[0msession\u001b[0m\u001b[0;34m,\u001b[0m \u001b[0msock_info\u001b[0m\u001b[0;34m,\u001b[0m \u001b[0mretryable\u001b[0m\u001b[0;34m)\u001b[0m\u001b[0;34m\u001b[0m\u001b[0;34m\u001b[0m\u001b[0m\n\u001b[0m\u001b[1;32m   1234\u001b[0m             \u001b[0;32mexcept\u001b[0m \u001b[0mServerSelectionTimeoutError\u001b[0m\u001b[0;34m:\u001b[0m\u001b[0;34m\u001b[0m\u001b[0;34m\u001b[0m\u001b[0m\n\u001b[1;32m   1235\u001b[0m                 \u001b[0;32mif\u001b[0m \u001b[0mis_retrying\u001b[0m\u001b[0;34m(\u001b[0m\u001b[0;34m)\u001b[0m\u001b[0;34m:\u001b[0m\u001b[0;34m\u001b[0m\u001b[0;34m\u001b[0m\u001b[0m\n",
      "\u001b[0;32m/opt/conda/lib/python3.7/site-packages/pymongo/collection.py\u001b[0m in \u001b[0;36m_insert_command\u001b[0;34m(session, sock_info, retryable_write)\u001b[0m\n\u001b[1;32m    597\u001b[0m                 retryable_write=retryable_write)\n\u001b[1;32m    598\u001b[0m \u001b[0;34m\u001b[0m\u001b[0m\n\u001b[0;32m--> 599\u001b[0;31m             \u001b[0m_check_write_command_response\u001b[0m\u001b[0;34m(\u001b[0m\u001b[0mresult\u001b[0m\u001b[0;34m)\u001b[0m\u001b[0;34m\u001b[0m\u001b[0;34m\u001b[0m\u001b[0m\n\u001b[0m\u001b[1;32m    600\u001b[0m \u001b[0;34m\u001b[0m\u001b[0m\n\u001b[1;32m    601\u001b[0m         self.__database.client._retryable_write(\n",
      "\u001b[0;32m/opt/conda/lib/python3.7/site-packages/pymongo/helpers.py\u001b[0m in \u001b[0;36m_check_write_command_response\u001b[0;34m(result)\u001b[0m\n\u001b[1;32m    215\u001b[0m     \u001b[0mwrite_errors\u001b[0m \u001b[0;34m=\u001b[0m \u001b[0mresult\u001b[0m\u001b[0;34m.\u001b[0m\u001b[0mget\u001b[0m\u001b[0;34m(\u001b[0m\u001b[0;34m\"writeErrors\"\u001b[0m\u001b[0;34m)\u001b[0m\u001b[0;34m\u001b[0m\u001b[0;34m\u001b[0m\u001b[0m\n\u001b[1;32m    216\u001b[0m     \u001b[0;32mif\u001b[0m \u001b[0mwrite_errors\u001b[0m\u001b[0;34m:\u001b[0m\u001b[0;34m\u001b[0m\u001b[0;34m\u001b[0m\u001b[0m\n\u001b[0;32m--> 217\u001b[0;31m         \u001b[0m_raise_last_write_error\u001b[0m\u001b[0;34m(\u001b[0m\u001b[0mwrite_errors\u001b[0m\u001b[0;34m)\u001b[0m\u001b[0;34m\u001b[0m\u001b[0;34m\u001b[0m\u001b[0m\n\u001b[0m\u001b[1;32m    218\u001b[0m \u001b[0;34m\u001b[0m\u001b[0m\n\u001b[1;32m    219\u001b[0m     \u001b[0merror\u001b[0m \u001b[0;34m=\u001b[0m \u001b[0mresult\u001b[0m\u001b[0;34m.\u001b[0m\u001b[0mget\u001b[0m\u001b[0;34m(\u001b[0m\u001b[0;34m\"writeConcernError\"\u001b[0m\u001b[0;34m)\u001b[0m\u001b[0;34m\u001b[0m\u001b[0;34m\u001b[0m\u001b[0m\n",
      "\u001b[0;32m/opt/conda/lib/python3.7/site-packages/pymongo/helpers.py\u001b[0m in \u001b[0;36m_raise_last_write_error\u001b[0;34m(write_errors)\u001b[0m\n\u001b[1;32m    197\u001b[0m     \u001b[0;32mif\u001b[0m \u001b[0merror\u001b[0m\u001b[0;34m.\u001b[0m\u001b[0mget\u001b[0m\u001b[0;34m(\u001b[0m\u001b[0;34m\"code\"\u001b[0m\u001b[0;34m)\u001b[0m \u001b[0;34m==\u001b[0m \u001b[0;36m11000\u001b[0m\u001b[0;34m:\u001b[0m\u001b[0;34m\u001b[0m\u001b[0;34m\u001b[0m\u001b[0m\n\u001b[1;32m    198\u001b[0m         \u001b[0;32mraise\u001b[0m \u001b[0mDuplicateKeyError\u001b[0m\u001b[0;34m(\u001b[0m\u001b[0merror\u001b[0m\u001b[0;34m.\u001b[0m\u001b[0mget\u001b[0m\u001b[0;34m(\u001b[0m\u001b[0;34m\"errmsg\"\u001b[0m\u001b[0;34m)\u001b[0m\u001b[0;34m,\u001b[0m \u001b[0;36m11000\u001b[0m\u001b[0;34m,\u001b[0m \u001b[0merror\u001b[0m\u001b[0;34m)\u001b[0m\u001b[0;34m\u001b[0m\u001b[0;34m\u001b[0m\u001b[0m\n\u001b[0;32m--> 199\u001b[0;31m     \u001b[0;32mraise\u001b[0m \u001b[0mWriteError\u001b[0m\u001b[0;34m(\u001b[0m\u001b[0merror\u001b[0m\u001b[0;34m.\u001b[0m\u001b[0mget\u001b[0m\u001b[0;34m(\u001b[0m\u001b[0;34m\"errmsg\"\u001b[0m\u001b[0;34m)\u001b[0m\u001b[0;34m,\u001b[0m \u001b[0merror\u001b[0m\u001b[0;34m.\u001b[0m\u001b[0mget\u001b[0m\u001b[0;34m(\u001b[0m\u001b[0;34m\"code\"\u001b[0m\u001b[0;34m)\u001b[0m\u001b[0;34m,\u001b[0m \u001b[0merror\u001b[0m\u001b[0;34m)\u001b[0m\u001b[0;34m\u001b[0m\u001b[0;34m\u001b[0m\u001b[0m\n\u001b[0m\u001b[1;32m    200\u001b[0m \u001b[0;34m\u001b[0m\u001b[0m\n\u001b[1;32m    201\u001b[0m \u001b[0;34m\u001b[0m\u001b[0m\n",
      "\u001b[0;31mWriteError\u001b[0m: WiredTigerIndex::insert: key too large to index, failing  4935 { : \"B.V. Struminsky MAGNETIC, Academic, MOMENTS OF BARYONS IN THE QUARK MODEL An interesting attempt to unify internal and space symmetries of elementary ...\" }"
     ]
    }
   ],
   "source": [
    "mc['sw']['articles'].insert_one(doc)"
   ]
  },
  {
   "cell_type": "markdown",
   "metadata": {
    "heading_collapsed": true,
    "hidden": true
   },
   "source": [
    "### concepts"
   ]
  },
  {
   "cell_type": "code",
   "execution_count": 3,
   "metadata": {
    "ExecuteTime": {
     "end_time": "2019-08-29T09:52:54.834590Z",
     "start_time": "2019-08-29T09:52:34.586009Z"
    },
    "hidden": true
   },
   "outputs": [
    {
     "data": {
      "application/vnd.jupyter.widget-view+json": {
       "model_id": "c5efddde67aa43ae890a2bd887e5bad6",
       "version_major": 2,
       "version_minor": 0
      },
      "text/plain": [
       "HBox(children=(IntProgress(value=1, bar_style='info', max=1), HTML(value='')))"
      ]
     },
     "metadata": {},
     "output_type": "display_data"
    },
    {
     "name": "stdout",
     "output_type": "stream",
     "text": [
      "\n"
     ]
    },
    {
     "data": {
      "text/plain": [
       "19456"
      ]
     },
     "execution_count": 3,
     "metadata": {},
     "output_type": "execute_result"
    }
   ],
   "source": [
    "concepts = defaultdict(int)\n",
    "for a in tn(mc['sw']['articles'].find({}, {'_id': False, 'concepts': True})):\n",
    "    for c in a['concepts']:\n",
    "        concepts[c] += 1\n",
    "all_concepts = list(concepts)\n",
    "len(all_concepts)"
   ]
  },
  {
   "cell_type": "code",
   "execution_count": 4,
   "metadata": {
    "ExecuteTime": {
     "end_time": "2019-08-29T09:52:54.851753Z",
     "start_time": "2019-08-29T09:52:54.835892Z"
    },
    "hidden": true
   },
   "outputs": [
    {
     "data": {
      "text/plain": [
       "52544564"
      ]
     },
     "execution_count": 4,
     "metadata": {},
     "output_type": "execute_result"
    }
   ],
   "source": [
    "sum(concepts.values())"
   ]
  },
  {
   "cell_type": "code",
   "execution_count": 5,
   "metadata": {
    "ExecuteTime": {
     "end_time": "2019-08-29T09:52:54.875314Z",
     "start_time": "2019-08-29T09:52:54.853052Z"
    },
    "hidden": true
   },
   "outputs": [],
   "source": [
    "def concept2doc(url):\n",
    "    _id = int(url.split('/')[-1])\n",
    "    html = s.get(url).text\n",
    "    soup = BeautifulSoup(html, 'html.parser')\n",
    "    name = soup.find(attrs={'class': 'main-title'}).text\n",
    "    href_name = soup.find(attrs={'class': 'active'}).find('a').attrs['href'][10:]\n",
    "    papers_count = int(soup.find(attrs={'class': 'badge'}).text)\n",
    "#     print(soup)\n",
    "    categorization = soup.find(id='categorization').find_next('a').text\n",
    "    synonyms = soup.find(id='literals')\n",
    "    synonyms = [s.text for s in synonyms.find_next('ul').find_all('li')]\n",
    "    doc = {\n",
    "        '_id': _id,\n",
    "        'name': name,\n",
    "        'href_name': href_name,\n",
    "        'papers_count': papers_count,\n",
    "        'categorization': categorization,\n",
    "        'synonyms': synonyms\n",
    "    }\n",
    "    definitions = soup.find(id='definitions')\n",
    "    if definitions:\n",
    "        definitions = [d.attrs['href'] for d in definitions.find_next('ul').find_all('a')]\n",
    "        doc['definitions'] = definitions\n",
    "    resources = soup.find(id='resources')\n",
    "    if resources:\n",
    "        resources = [r.attrs['href'] for r in resources.find_next('ul').find_all('a')]\n",
    "        doc['resources'] = resources\n",
    "    subcategories = soup.find(id='subcategories')\n",
    "    if subcategories:\n",
    "        subcategories = [s.attrs['href'][10:] for s in subcategories.find_next('ul').find_all('a')]\n",
    "        doc['subcategories'] = subcategories\n",
    "    semantic_relations = soup.find_all(attrs={'id': 'semantic_relations'})\n",
    "    if semantic_relations:\n",
    "        incoming_relations, outgoing_relations = semantic_relations\n",
    "        tmp = defaultdict(list)\n",
    "        for r in incoming_relations.find_next('ul').find_all('li'):\n",
    "            tmp[r.find('b').text].append(r.find('a').attrs['href'][10:])\n",
    "        incoming_relations = tmp\n",
    "        tmp = defaultdict(list)\n",
    "        for r in outgoing_relations.find_next('ul').find_all('li'):\n",
    "            tmp[r.find('b').text].append(r.find('a').attrs['href'][10:])\n",
    "        outgoing_relations = tmp\n",
    "        doc['incoming_relations'] = incoming_relations\n",
    "        doc['outgoing_relations'] = outgoing_relations\n",
    "    return doc"
   ]
  },
  {
   "cell_type": "code",
   "execution_count": 128,
   "metadata": {
    "ExecuteTime": {
     "end_time": "2019-08-29T09:50:23.987558Z",
     "start_time": "2019-08-29T09:50:23.935980Z"
    },
    "hidden": true
   },
   "outputs": [
    {
     "data": {
      "text/plain": [
       "{'ok': 1.0}"
      ]
     },
     "execution_count": 128,
     "metadata": {},
     "output_type": "execute_result"
    }
   ],
   "source": [
    "mc['sw']['concepts'].rename('concepts_old')"
   ]
  },
  {
   "cell_type": "code",
   "execution_count": 11,
   "metadata": {
    "ExecuteTime": {
     "end_time": "2019-08-29T12:59:41.663895Z",
     "start_time": "2019-08-29T11:49:01.772038Z"
    },
    "hidden": true
   },
   "outputs": [
    {
     "data": {
      "application/vnd.jupyter.widget-view+json": {
       "model_id": "17af9427a480455699feef2df19e3126",
       "version_major": 2,
       "version_minor": 0
      },
      "text/plain": [
       "HBox(children=(IntProgress(value=0, max=17743), HTML(value='')))"
      ]
     },
     "metadata": {},
     "output_type": "display_data"
    },
    {
     "name": "stdout",
     "output_type": "stream",
     "text": [
      "3925 - E11000 duplicate key error collection: sw.concepts index: _id_ dup key: { : 3925 }\n",
      "18 - 'NoneType' object has no attribute 'text'\n",
      "9146 - 'NoneType' object has no attribute 'text'\n",
      "18017 - 'NoneType' object has no attribute 'text'\n",
      "202818 - 'NoneType' object has no attribute 'text'\n",
      "203219 - 'NoneType' object has no attribute 'text'\n",
      "203218 - 'NoneType' object has no attribute 'text'\n",
      "10733 - 'NoneType' object has no attribute 'text'\n",
      "1 - 'NoneType' object has no attribute 'text'\n",
      "204443 - 'NoneType' object has no attribute 'text'\n",
      "3105 - 'NoneType' object has no attribute 'text'\n",
      "[SW] - done\n"
     ]
    }
   ],
   "source": [
    "docs = []\n",
    "\n",
    "try:\n",
    "    for cid in tn(all_concepts):\n",
    "        url = f'http://sciencewise.info/concepts/id/{cid}'\n",
    "        try:\n",
    "            doc = concept2doc(url)\n",
    "            mc['sw']['concepts'].insert_one(doc)\n",
    "        except Exception as e:\n",
    "            print(f'{cid} - {e}')\n",
    "#         docs.append(doc)\n",
    "#         if len(docs) > 9:\n",
    "#             mc['sw']['concepts'].insert_many(docs)\n",
    "#             docs = []\n",
    "#     if docs:\n",
    "#         mc['sw']['concepts'].insert_many(docs)\n",
    "    m = '[SW] - done'\n",
    "except Exception as e:\n",
    "    m = f'[SW] - error:\\n{cid}\\n{e}'\n",
    "tgn(m)\n",
    "print(m)"
   ]
  },
  {
   "cell_type": "markdown",
   "metadata": {
    "heading_collapsed": true,
    "hidden": true
   },
   "source": [
    "### categoties"
   ]
  },
  {
   "cell_type": "code",
   "execution_count": 124,
   "metadata": {
    "ExecuteTime": {
     "end_time": "2019-08-29T09:16:21.771988Z",
     "start_time": "2019-08-29T09:16:07.871910Z"
    },
    "hidden": true
   },
   "outputs": [
    {
     "data": {
      "application/vnd.jupyter.widget-view+json": {
       "model_id": "eba07d6d674b4998b4303a424713229f",
       "version_major": 2,
       "version_minor": 0
      },
      "text/plain": [
       "HBox(children=(IntProgress(value=1, bar_style='info', max=1), HTML(value='')))"
      ]
     },
     "metadata": {},
     "output_type": "display_data"
    },
    {
     "data": {
      "text/plain": [
       "149"
      ]
     },
     "execution_count": 124,
     "metadata": {},
     "output_type": "execute_result"
    }
   ],
   "source": [
    "categories = defaultdict(int)\n",
    "for a in tn(mc['sw']['articles'].find({}, {'_id': False, 'categories': True})):\n",
    "    for c in a['categories']:\n",
    "        categories[c] += 1\n",
    "all_categories = list(categories)\n",
    "len(all_categories)"
   ]
  },
  {
   "cell_type": "code",
   "execution_count": 125,
   "metadata": {
    "ExecuteTime": {
     "end_time": "2019-08-29T09:16:25.862742Z",
     "start_time": "2019-08-29T09:16:25.836461Z"
    },
    "hidden": true
   },
   "outputs": [
    {
     "data": {
      "text/plain": [
       "1900499"
      ]
     },
     "execution_count": 125,
     "metadata": {},
     "output_type": "execute_result"
    }
   ],
   "source": [
    "sum(categories.values())"
   ]
  },
  {
   "cell_type": "code",
   "execution_count": 126,
   "metadata": {
    "ExecuteTime": {
     "end_time": "2019-08-29T09:16:30.175534Z",
     "start_time": "2019-08-29T09:16:29.913970Z"
    },
    "hidden": true
   },
   "outputs": [
    {
     "data": {
      "text/plain": [
       "658750"
      ]
     },
     "execution_count": 126,
     "metadata": {},
     "output_type": "execute_result"
    }
   ],
   "source": [
    "mc['sw']['articles'].count_documents({'categories_len': 1})"
   ]
  },
  {
   "cell_type": "code",
   "execution_count": 127,
   "metadata": {
    "ExecuteTime": {
     "end_time": "2019-08-29T09:16:37.245882Z",
     "start_time": "2019-08-29T09:16:37.217775Z"
    },
    "hidden": true
   },
   "outputs": [
    {
     "data": {
      "text/plain": [
       "hep-th                80501\n",
       "hep-ph                76835\n",
       "quant-ph              71218\n",
       "cond-mat.mes-hall     50188\n",
       "gr-qc                 50138\n",
       "astro-ph.CO           47252\n",
       "cond-mat.mtrl-sci     46202\n",
       "math.MP               44211\n",
       "math-ph               44211\n",
       "astro-ph.SR           39087\n",
       "cs.LG                 38126\n",
       "astro-ph.GA           36858\n",
       "cond-mat.str-el       36602\n",
       "math.CO               35877\n",
       "math.AP               33985\n",
       "cond-mat.stat-mech    33753\n",
       "astro-ph.HE           33633\n",
       "math.PR               32179\n",
       "cs.CV                 30826\n",
       "stat.ML               29044\n",
       "cs.IT                 28038\n",
       "math.IT               28038\n",
       "math.AG               27531\n",
       "hep-ex                26601\n",
       "nucl-th               26078\n",
       "physics.optics        24127\n",
       "math.NT               22982\n",
       "math.DG               22804\n",
       "math.OC               21293\n",
       "cond-mat.supr-con     21293\n",
       "                      ...  \n",
       "math.GM                1890\n",
       "cs.PF                  1825\n",
       "physics.ed-ph          1806\n",
       "q-bio.GN               1752\n",
       "cs.OH                  1731\n",
       "q-fin.ST               1691\n",
       "q-fin.GN               1673\n",
       "cs.GR                  1645\n",
       "cs.ET                  1631\n",
       "physics.pop-ph         1445\n",
       "physics.atm-clus       1425\n",
       "cs.SC                  1370\n",
       "q-bio.CB               1356\n",
       "q-fin.PR               1312\n",
       "cs.AR                  1271\n",
       "cs.MS                  1230\n",
       "q-bio.TO               1216\n",
       "q-fin.RM               1215\n",
       "q-fin.CP               1184\n",
       "q-bio.SC               1157\n",
       "q-fin.MF               1137\n",
       "q-fin.PM                980\n",
       "q-fin.EC                952\n",
       "q-fin.TR                845\n",
       "nlin.CG                 721\n",
       "q-bio.OT                659\n",
       "stat.OT                 650\n",
       "cs.OS                   425\n",
       "cs.GL                   121\n",
       "hep                       3\n",
       "Length: 149, dtype: int64"
      ]
     },
     "execution_count": 127,
     "metadata": {},
     "output_type": "execute_result"
    }
   ],
   "source": [
    "pd.Series(categories).sort_values(ascending=False)"
   ]
  }
 ],
 "metadata": {
  "kernelspec": {
   "display_name": "Python 3",
   "language": "python",
   "name": "python3"
  },
  "language_info": {
   "codemirror_mode": {
    "name": "ipython",
    "version": 3
   },
   "file_extension": ".py",
   "mimetype": "text/x-python",
   "name": "python",
   "nbconvert_exporter": "python",
   "pygments_lexer": "ipython3",
   "version": "3.7.3"
  },
  "toc": {
   "base_numbering": 1,
   "nav_menu": {},
   "number_sections": true,
   "sideBar": true,
   "skip_h1_title": false,
   "title_cell": "Table of Contents",
   "title_sidebar": "Contents",
   "toc_cell": false,
   "toc_position": {},
   "toc_section_display": true,
   "toc_window_display": false
  },
  "widgets": {
   "application/vnd.jupyter.widget-state+json": {
    "state": {
     "0121039a42b04bcab7a9af3af7f72936": {
      "model_module": "@jupyter-widgets/controls",
      "model_module_version": "1.4.0",
      "model_name": "IntProgressModel",
      "state": {
       "bar_style": "danger",
       "layout": "IPY_MODEL_ade82307efee4309bb1b3338dec55011",
       "max": 1059693,
       "style": "IPY_MODEL_33c5fdc8fa9341c7b2df0fc1563682d7",
       "value": 1013
      }
     },
     "03e711f2f6ca42b4af06529758c60d51": {
      "model_module": "@jupyter-widgets/controls",
      "model_module_version": "1.4.0",
      "model_name": "DescriptionStyleModel",
      "state": {
       "description_width": ""
      }
     },
     "0486902be2214848a354813a6a56db6f": {
      "model_module": "@jupyter-widgets/base",
      "model_module_version": "1.1.0",
      "model_name": "LayoutModel",
      "state": {}
     },
     "04ba7e7600b74079b182b1c618a79e39": {
      "model_module": "@jupyter-widgets/base",
      "model_module_version": "1.1.0",
      "model_name": "LayoutModel",
      "state": {}
     },
     "05fedc125a8e431fb336decd8ab6206a": {
      "model_module": "@jupyter-widgets/base",
      "model_module_version": "1.1.0",
      "model_name": "LayoutModel",
      "state": {}
     },
     "07c527a5333f4174b082060cef6ca6ee": {
      "model_module": "@jupyter-widgets/controls",
      "model_module_version": "1.4.0",
      "model_name": "HTMLModel",
      "state": {
       "layout": "IPY_MODEL_f86a7638254d4c79a2c17f0626d66513",
       "style": "IPY_MODEL_292ece285ffe461296221a1c03d30f32",
       "value": "  1% 6999/1115694 [38:05&lt;95:12:32,  3.23it/s]"
      }
     },
     "09f11496cd984285be5ce8f8d5553dd2": {
      "model_module": "@jupyter-widgets/controls",
      "model_module_version": "1.4.0",
      "model_name": "HTMLModel",
      "state": {
       "layout": "IPY_MODEL_6e7db54ef6294663bbb7fbb8a20ad25a",
       "style": "IPY_MODEL_b57fc838fc3a4ed88fd0b2894a442764",
       "value": "  0% 1022/1060694 [05:08&lt;96:18:49,  3.06it/s]"
      }
     },
     "09f78975417f4cb9a7acae19acd9f272": {
      "model_module": "@jupyter-widgets/base",
      "model_module_version": "1.1.0",
      "model_name": "LayoutModel",
      "state": {}
     },
     "0c26227bac6048d39b650f754faf141a": {
      "model_module": "@jupyter-widgets/base",
      "model_module_version": "1.1.0",
      "model_name": "LayoutModel",
      "state": {}
     },
     "0c66d44b7bcb4336ae6b18ad37b03cf5": {
      "model_module": "@jupyter-widgets/controls",
      "model_module_version": "1.4.0",
      "model_name": "DescriptionStyleModel",
      "state": {
       "description_width": ""
      }
     },
     "12d05120216d443896d8ac2d6894b321": {
      "model_module": "@jupyter-widgets/controls",
      "model_module_version": "1.4.0",
      "model_name": "HTMLModel",
      "state": {
       "layout": "IPY_MODEL_ebc9d55dc8bd418fb7992b8ea2a67db2",
       "style": "IPY_MODEL_db4635b7bd0c494b9c223a349d0a2dc3",
       "value": "105999/|/| 105999/? [00:00&lt;00:00, 342839.36it/s]"
      }
     },
     "137645ebeade40a3bea78a43adaf84b7": {
      "model_module": "@jupyter-widgets/base",
      "model_module_version": "1.1.0",
      "model_name": "LayoutModel",
      "state": {}
     },
     "16a7142f52b247e6a21d52a8714185c2": {
      "model_module": "@jupyter-widgets/controls",
      "model_module_version": "1.4.0",
      "model_name": "IntProgressModel",
      "state": {
       "bar_style": "danger",
       "layout": "IPY_MODEL_3143414be76f4544aa2140f7fb51a968",
       "max": 1108694,
       "style": "IPY_MODEL_89c3c281d88d47518f703d259773a162",
       "value": 48256
      }
     },
     "1841a3a1cd444ae2ab56665d0a49f767": {
      "model_module": "@jupyter-widgets/base",
      "model_module_version": "1.1.0",
      "model_name": "LayoutModel",
      "state": {}
     },
     "1881b7fd9b9a4ae4836d78170a0bf758": {
      "model_module": "@jupyter-widgets/base",
      "model_module_version": "1.1.0",
      "model_name": "LayoutModel",
      "state": {}
     },
     "1c7d3e2190814bc288f937d13d4ba3fc": {
      "model_module": "@jupyter-widgets/controls",
      "model_module_version": "1.4.0",
      "model_name": "IntProgressModel",
      "state": {
       "bar_style": "success",
       "layout": "IPY_MODEL_495285f0d5844806a14a86b43613a148",
       "max": 1,
       "style": "IPY_MODEL_90673af49596464fa26d2dc301eaf23b",
       "value": 1
      }
     },
     "1cab317fac424c2aae9a18efd7b41265": {
      "model_module": "@jupyter-widgets/base",
      "model_module_version": "1.1.0",
      "model_name": "LayoutModel",
      "state": {}
     },
     "209b29759da9483e8c2311f645a05c24": {
      "model_module": "@jupyter-widgets/controls",
      "model_module_version": "1.4.0",
      "model_name": "HTMLModel",
      "state": {
       "layout": "IPY_MODEL_0486902be2214848a354813a6a56db6f",
       "style": "IPY_MODEL_0c66d44b7bcb4336ae6b18ad37b03cf5",
       "value": "104999/|/| 104999/? [00:01&lt;00:00, 82410.45it/s]"
      }
     },
     "213a933f90934dc6adce65a60c13b990": {
      "model_module": "@jupyter-widgets/controls",
      "model_module_version": "1.4.0",
      "model_name": "HTMLModel",
      "state": {
       "layout": "IPY_MODEL_ca41d76b5e464cd79cdf0e1752ae7972",
       "style": "IPY_MODEL_2706f06c175541019ffb64685a2c2c2d",
       "value": "104999/|/| 104999/? [00:00&lt;00:00, 345435.45it/s]"
      }
     },
     "21c27fa2cecd420b8fdef1772f55111a": {
      "model_module": "@jupyter-widgets/base",
      "model_module_version": "1.1.0",
      "model_name": "LayoutModel",
      "state": {}
     },
     "233860ac05074c919d4540745339fca7": {
      "model_module": "@jupyter-widgets/controls",
      "model_module_version": "1.4.0",
      "model_name": "ProgressStyleModel",
      "state": {
       "description_width": ""
      }
     },
     "238fe8ca6dcc4e419fb61418c6da0036": {
      "model_module": "@jupyter-widgets/controls",
      "model_module_version": "1.4.0",
      "model_name": "HBoxModel",
      "state": {
       "children": [
        "IPY_MODEL_a6a61e3c1d5b48649547f436bdc97a09",
        "IPY_MODEL_12d05120216d443896d8ac2d6894b321"
       ],
       "layout": "IPY_MODEL_7f6ae4059ef547eeb1f5c8b55e597afb"
      }
     },
     "25115ab4d02e4c1d8ead3ca16c2899a2": {
      "model_module": "@jupyter-widgets/base",
      "model_module_version": "1.1.0",
      "model_name": "LayoutModel",
      "state": {}
     },
     "26740540bab8476295735d591140dbe2": {
      "model_module": "@jupyter-widgets/base",
      "model_module_version": "1.1.0",
      "model_name": "LayoutModel",
      "state": {}
     },
     "2706f06c175541019ffb64685a2c2c2d": {
      "model_module": "@jupyter-widgets/controls",
      "model_module_version": "1.4.0",
      "model_name": "DescriptionStyleModel",
      "state": {
       "description_width": ""
      }
     },
     "2844bae9d27e47599fc1574d993337e4": {
      "model_module": "@jupyter-widgets/controls",
      "model_module_version": "1.4.0",
      "model_name": "DescriptionStyleModel",
      "state": {
       "description_width": ""
      }
     },
     "292ece285ffe461296221a1c03d30f32": {
      "model_module": "@jupyter-widgets/controls",
      "model_module_version": "1.4.0",
      "model_name": "DescriptionStyleModel",
      "state": {
       "description_width": ""
      }
     },
     "2b86f7328a6c46b29daa8ec579ce2257": {
      "model_module": "@jupyter-widgets/controls",
      "model_module_version": "1.4.0",
      "model_name": "DescriptionStyleModel",
      "state": {
       "description_width": ""
      }
     },
     "2bacfa141643477f8ff71a74f85eea10": {
      "model_module": "@jupyter-widgets/controls",
      "model_module_version": "1.4.0",
      "model_name": "HBoxModel",
      "state": {
       "children": [
        "IPY_MODEL_a59a33a2949d48f9be708269806cb17e",
        "IPY_MODEL_213a933f90934dc6adce65a60c13b990"
       ],
       "layout": "IPY_MODEL_09f78975417f4cb9a7acae19acd9f272"
      }
     },
     "2fd52042d20640db8904264229c8f2b6": {
      "model_module": "@jupyter-widgets/controls",
      "model_module_version": "1.4.0",
      "model_name": "HBoxModel",
      "state": {
       "children": [
        "IPY_MODEL_75402ae8f7a74c6bb223b53477abd837",
        "IPY_MODEL_c1f2b92c35c54548925b54d667754e45"
       ],
       "layout": "IPY_MODEL_f4992219196643ce8193b67fa4cae5e9"
      }
     },
     "30b8ca0ae24643c8bfcccaf4ef44ff33": {
      "model_module": "@jupyter-widgets/controls",
      "model_module_version": "1.4.0",
      "model_name": "HBoxModel",
      "state": {
       "children": [
        "IPY_MODEL_dd767bc274e24c8480cec94c939581b2",
        "IPY_MODEL_09f11496cd984285be5ce8f8d5553dd2"
       ],
       "layout": "IPY_MODEL_41299b1e6d6b4d26b29b3b4682fe8bba"
      }
     },
     "3143414be76f4544aa2140f7fb51a968": {
      "model_module": "@jupyter-widgets/base",
      "model_module_version": "1.1.0",
      "model_name": "LayoutModel",
      "state": {}
     },
     "32fb67e774614453b2d373310695ceea": {
      "model_module": "@jupyter-widgets/base",
      "model_module_version": "1.1.0",
      "model_name": "LayoutModel",
      "state": {}
     },
     "33c5fdc8fa9341c7b2df0fc1563682d7": {
      "model_module": "@jupyter-widgets/controls",
      "model_module_version": "1.4.0",
      "model_name": "ProgressStyleModel",
      "state": {
       "description_width": ""
      }
     },
     "35369d00a20a454fa28e79c5437e454d": {
      "model_module": "@jupyter-widgets/controls",
      "model_module_version": "1.4.0",
      "model_name": "ProgressStyleModel",
      "state": {
       "description_width": ""
      }
     },
     "374bc17febe74f83b692cb58a2a33377": {
      "model_module": "@jupyter-widgets/controls",
      "model_module_version": "1.4.0",
      "model_name": "HBoxModel",
      "state": {
       "children": [
        "IPY_MODEL_d25eebb06b474d2ea2cf5003504e6e14",
        "IPY_MODEL_aa83d790917f4b939ba10d4ec0247824"
       ],
       "layout": "IPY_MODEL_05fedc125a8e431fb336decd8ab6206a"
      }
     },
     "3f93f72150474d508cc65cbe3ae6bdf4": {
      "model_module": "@jupyter-widgets/controls",
      "model_module_version": "1.4.0",
      "model_name": "DescriptionStyleModel",
      "state": {
       "description_width": ""
      }
     },
     "41299b1e6d6b4d26b29b3b4682fe8bba": {
      "model_module": "@jupyter-widgets/base",
      "model_module_version": "1.1.0",
      "model_name": "LayoutModel",
      "state": {}
     },
     "42b7d842dacc4cababfae1fabe70a5dc": {
      "model_module": "@jupyter-widgets/controls",
      "model_module_version": "1.4.0",
      "model_name": "HBoxModel",
      "state": {
       "children": [
        "IPY_MODEL_0121039a42b04bcab7a9af3af7f72936",
        "IPY_MODEL_a96f808c34e749fe8329c81dfd1ae5ea"
       ],
       "layout": "IPY_MODEL_04ba7e7600b74079b182b1c618a79e39"
      }
     },
     "430a4fe47ed4421989fa61647e0e768f": {
      "model_module": "@jupyter-widgets/base",
      "model_module_version": "1.1.0",
      "model_name": "LayoutModel",
      "state": {}
     },
     "43a5ceb8bf7441fea61a79fada07c63b": {
      "model_module": "@jupyter-widgets/controls",
      "model_module_version": "1.4.0",
      "model_name": "ProgressStyleModel",
      "state": {
       "description_width": ""
      }
     },
     "43b7db1f71e641f789b044684a105299": {
      "model_module": "@jupyter-widgets/controls",
      "model_module_version": "1.4.0",
      "model_name": "DescriptionStyleModel",
      "state": {
       "description_width": ""
      }
     },
     "4727012417b34b9f8fb018cd653e5eed": {
      "model_module": "@jupyter-widgets/base",
      "model_module_version": "1.1.0",
      "model_name": "LayoutModel",
      "state": {}
     },
     "495285f0d5844806a14a86b43613a148": {
      "model_module": "@jupyter-widgets/base",
      "model_module_version": "1.1.0",
      "model_name": "LayoutModel",
      "state": {}
     },
     "51e4d78f264540398b9b939759905211": {
      "model_module": "@jupyter-widgets/controls",
      "model_module_version": "1.4.0",
      "model_name": "HTMLModel",
      "state": {
       "layout": "IPY_MODEL_25115ab4d02e4c1d8ead3ca16c2899a2",
       "style": "IPY_MODEL_fe678f0333e5400597884d7ca3dd37f0",
       "value": "104999/|/| 104999/? [00:00&lt;00:00, 155023.93it/s]"
      }
     },
     "54d85db5b23a4154bcd23937aedc2305": {
      "model_module": "@jupyter-widgets/base",
      "model_module_version": "1.1.0",
      "model_name": "LayoutModel",
      "state": {}
     },
     "56d621e80373403b9c8250dae0244db4": {
      "model_module": "@jupyter-widgets/controls",
      "model_module_version": "1.4.0",
      "model_name": "ProgressStyleModel",
      "state": {
       "description_width": ""
      }
     },
     "5765ac975be64313b0c58821a277a19c": {
      "model_module": "@jupyter-widgets/controls",
      "model_module_version": "1.4.0",
      "model_name": "HBoxModel",
      "state": {
       "children": [
        "IPY_MODEL_cb946d9d7ec74e73bdfcf6acb4940d05",
        "IPY_MODEL_209b29759da9483e8c2311f645a05c24"
       ],
       "layout": "IPY_MODEL_aae24fc5a3964c209d9a5863b936166b"
      }
     },
     "5a86dcd6d59d4af884a00c24e907a962": {
      "model_module": "@jupyter-widgets/controls",
      "model_module_version": "1.4.0",
      "model_name": "ProgressStyleModel",
      "state": {
       "description_width": ""
      }
     },
     "5f5eedf6931d4f0cb8391dc62eea0e0b": {
      "model_module": "@jupyter-widgets/controls",
      "model_module_version": "1.4.0",
      "model_name": "ProgressStyleModel",
      "state": {
       "description_width": ""
      }
     },
     "6d14e20f517441178a6e40a2acad4b89": {
      "model_module": "@jupyter-widgets/base",
      "model_module_version": "1.1.0",
      "model_name": "LayoutModel",
      "state": {}
     },
     "6e03f30cc40f453bb6ce3f097d99cbbb": {
      "model_module": "@jupyter-widgets/controls",
      "model_module_version": "1.4.0",
      "model_name": "HTMLModel",
      "state": {
       "layout": "IPY_MODEL_26740540bab8476295735d591140dbe2",
       "style": "IPY_MODEL_996a3dd960534ece9e200b7af527c99c",
       "value": "  2% 23599/1138694 [1:58:28&lt;91:48:51,  3.37it/s]"
      }
     },
     "6e7db54ef6294663bbb7fbb8a20ad25a": {
      "model_module": "@jupyter-widgets/base",
      "model_module_version": "1.1.0",
      "model_name": "LayoutModel",
      "state": {}
     },
     "7072f3ec44dd42bf914f6e382decc189": {
      "model_module": "@jupyter-widgets/controls",
      "model_module_version": "1.4.0",
      "model_name": "IntProgressModel",
      "state": {
       "bar_style": "danger",
       "layout": "IPY_MODEL_54d85db5b23a4154bcd23937aedc2305",
       "max": 1138694,
       "style": "IPY_MODEL_5f5eedf6931d4f0cb8391dc62eea0e0b",
       "value": 23599
      }
     },
     "70d3626dd4d1466eba429ed514fd4a96": {
      "model_module": "@jupyter-widgets/base",
      "model_module_version": "1.1.0",
      "model_name": "LayoutModel",
      "state": {}
     },
     "75402ae8f7a74c6bb223b53477abd837": {
      "model_module": "@jupyter-widgets/controls",
      "model_module_version": "1.4.0",
      "model_name": "IntProgressModel",
      "state": {
       "bar_style": "success",
       "layout": "IPY_MODEL_7adadcb1e1944149bb8e746bdbbac6fd",
       "max": 1000,
       "style": "IPY_MODEL_43a5ceb8bf7441fea61a79fada07c63b",
       "value": 1000
      }
     },
     "756612fb870b40d680929176d085e62f": {
      "model_module": "@jupyter-widgets/base",
      "model_module_version": "1.1.0",
      "model_name": "LayoutModel",
      "state": {}
     },
     "7adadcb1e1944149bb8e746bdbbac6fd": {
      "model_module": "@jupyter-widgets/base",
      "model_module_version": "1.1.0",
      "model_name": "LayoutModel",
      "state": {}
     },
     "7b63a0a041a74da789820e8abb002362": {
      "model_module": "@jupyter-widgets/controls",
      "model_module_version": "1.4.0",
      "model_name": "DescriptionStyleModel",
      "state": {
       "description_width": ""
      }
     },
     "7b7acd8d88af4eb38b6abc12b1413403": {
      "model_module": "@jupyter-widgets/base",
      "model_module_version": "1.1.0",
      "model_name": "LayoutModel",
      "state": {}
     },
     "7c6ada71dde544d18b2ba221fa09f3e1": {
      "model_module": "@jupyter-widgets/controls",
      "model_module_version": "1.4.0",
      "model_name": "IntProgressModel",
      "state": {
       "bar_style": "danger",
       "layout": "IPY_MODEL_1881b7fd9b9a4ae4836d78170a0bf758",
       "max": 1115694,
       "style": "IPY_MODEL_b179d7352b794b6a85b117844bc09afc",
       "value": 6999
      }
     },
     "7f6ae4059ef547eeb1f5c8b55e597afb": {
      "model_module": "@jupyter-widgets/base",
      "model_module_version": "1.1.0",
      "model_name": "LayoutModel",
      "state": {}
     },
     "81c2c6c9fa654f92b2df5c04fd899540": {
      "model_module": "@jupyter-widgets/controls",
      "model_module_version": "1.4.0",
      "model_name": "HTMLModel",
      "state": {
       "layout": "IPY_MODEL_756612fb870b40d680929176d085e62f",
       "style": "IPY_MODEL_f5aaa8d2c317462a8f75a3d6eb97b8e6",
       "value": "106998/|/| 106998/? [00:00&lt;00:00, 345397.17it/s]"
      }
     },
     "895c1751450f4e2e863fa464b915daee": {
      "model_module": "@jupyter-widgets/controls",
      "model_module_version": "1.4.0",
      "model_name": "HBoxModel",
      "state": {
       "children": [
        "IPY_MODEL_ea32eb54a1744eb795f07551e2e4b936",
        "IPY_MODEL_bbd2235b75714605a793a6b70d2a21f0"
       ],
       "layout": "IPY_MODEL_1841a3a1cd444ae2ab56665d0a49f767"
      }
     },
     "89c3c281d88d47518f703d259773a162": {
      "model_module": "@jupyter-widgets/controls",
      "model_module_version": "1.4.0",
      "model_name": "ProgressStyleModel",
      "state": {
       "description_width": ""
      }
     },
     "8b2e2054ca4847679501d466f18fbc0a": {
      "model_module": "@jupyter-widgets/controls",
      "model_module_version": "1.4.0",
      "model_name": "IntProgressModel",
      "state": {
       "layout": "IPY_MODEL_6d14e20f517441178a6e40a2acad4b89",
       "max": 1058694,
       "style": "IPY_MODEL_fffcfe6c61124b21a03c82b18f69800a",
       "value": 8476
      }
     },
     "90673af49596464fa26d2dc301eaf23b": {
      "model_module": "@jupyter-widgets/controls",
      "model_module_version": "1.4.0",
      "model_name": "ProgressStyleModel",
      "state": {
       "description_width": ""
      }
     },
     "996a3dd960534ece9e200b7af527c99c": {
      "model_module": "@jupyter-widgets/controls",
      "model_module_version": "1.4.0",
      "model_name": "DescriptionStyleModel",
      "state": {
       "description_width": ""
      }
     },
     "a4de8308f7504215a72c8b8480a9e9a9": {
      "model_module": "@jupyter-widgets/base",
      "model_module_version": "1.1.0",
      "model_name": "LayoutModel",
      "state": {}
     },
     "a59a33a2949d48f9be708269806cb17e": {
      "model_module": "@jupyter-widgets/controls",
      "model_module_version": "1.4.0",
      "model_name": "IntProgressModel",
      "state": {
       "bar_style": "success",
       "layout": "IPY_MODEL_bc0eb125cc6245c98681681872ab5fe1",
       "max": 1,
       "style": "IPY_MODEL_bb6f07a0c912442bbc3031a48e7be47d",
       "value": 1
      }
     },
     "a6a61e3c1d5b48649547f436bdc97a09": {
      "model_module": "@jupyter-widgets/controls",
      "model_module_version": "1.4.0",
      "model_name": "IntProgressModel",
      "state": {
       "bar_style": "success",
       "layout": "IPY_MODEL_70d3626dd4d1466eba429ed514fd4a96",
       "max": 1,
       "style": "IPY_MODEL_5a86dcd6d59d4af884a00c24e907a962",
       "value": 1
      }
     },
     "a6e56d401b0f4fd9929514d943ce0dcb": {
      "model_module": "@jupyter-widgets/controls",
      "model_module_version": "1.4.0",
      "model_name": "HBoxModel",
      "state": {
       "children": [
        "IPY_MODEL_7c6ada71dde544d18b2ba221fa09f3e1",
        "IPY_MODEL_07c527a5333f4174b082060cef6ca6ee"
       ],
       "layout": "IPY_MODEL_d21f75ba3ef843c8a37d6af5fe99883d"
      }
     },
     "a96f808c34e749fe8329c81dfd1ae5ea": {
      "model_module": "@jupyter-widgets/controls",
      "model_module_version": "1.4.0",
      "model_name": "HTMLModel",
      "state": {
       "layout": "IPY_MODEL_e71776efb5734e2d82b958e6bc970d4e",
       "style": "IPY_MODEL_03e711f2f6ca42b4af06529758c60d51",
       "value": "  0% 1013/1059693 [05:07&lt;102:18:47,  2.87it/s]"
      }
     },
     "aa83d790917f4b939ba10d4ec0247824": {
      "model_module": "@jupyter-widgets/controls",
      "model_module_version": "1.4.0",
      "model_name": "HTMLModel",
      "state": {
       "layout": "IPY_MODEL_d053e16524ce48a18222457bddf90749",
       "style": "IPY_MODEL_2b86f7328a6c46b29daa8ec579ce2257",
       "value": "  0% 256/1060694 [01:08&lt;83:28:48,  3.53it/s]"
      }
     },
     "aae24fc5a3964c209d9a5863b936166b": {
      "model_module": "@jupyter-widgets/base",
      "model_module_version": "1.1.0",
      "model_name": "LayoutModel",
      "state": {}
     },
     "ade82307efee4309bb1b3338dec55011": {
      "model_module": "@jupyter-widgets/base",
      "model_module_version": "1.1.0",
      "model_name": "LayoutModel",
      "state": {}
     },
     "ae79f5cbb1f142259706a27da6e0d25f": {
      "model_module": "@jupyter-widgets/controls",
      "model_module_version": "1.4.0",
      "model_name": "HBoxModel",
      "state": {
       "children": [
        "IPY_MODEL_16a7142f52b247e6a21d52a8714185c2",
        "IPY_MODEL_d0254eddbba44f52b402c63d5b85bef4"
       ],
       "layout": "IPY_MODEL_f4436672e4b54f7ba4ea9be9894bfc4a"
      }
     },
     "b179d7352b794b6a85b117844bc09afc": {
      "model_module": "@jupyter-widgets/controls",
      "model_module_version": "1.4.0",
      "model_name": "ProgressStyleModel",
      "state": {
       "description_width": ""
      }
     },
     "b26607f469fa4d1d973f7d724eb09c0a": {
      "model_module": "@jupyter-widgets/base",
      "model_module_version": "1.1.0",
      "model_name": "LayoutModel",
      "state": {}
     },
     "b2cfaa4ecea14dde86344013cb5153e0": {
      "model_module": "@jupyter-widgets/controls",
      "model_module_version": "1.4.0",
      "model_name": "HBoxModel",
      "state": {
       "children": [
        "IPY_MODEL_7072f3ec44dd42bf914f6e382decc189",
        "IPY_MODEL_6e03f30cc40f453bb6ce3f097d99cbbb"
       ],
       "layout": "IPY_MODEL_b2d662bd9f5f4f5aa33e09cabc93112f"
      }
     },
     "b2d662bd9f5f4f5aa33e09cabc93112f": {
      "model_module": "@jupyter-widgets/base",
      "model_module_version": "1.1.0",
      "model_name": "LayoutModel",
      "state": {}
     },
     "b44916f47a5644cd8c809f641b4fbc54": {
      "model_module": "@jupyter-widgets/controls",
      "model_module_version": "1.4.0",
      "model_name": "ProgressStyleModel",
      "state": {
       "description_width": ""
      }
     },
     "b57fc838fc3a4ed88fd0b2894a442764": {
      "model_module": "@jupyter-widgets/controls",
      "model_module_version": "1.4.0",
      "model_name": "DescriptionStyleModel",
      "state": {
       "description_width": ""
      }
     },
     "b835017586e84d1f96b24b4997c18629": {
      "model_module": "@jupyter-widgets/controls",
      "model_module_version": "1.4.0",
      "model_name": "HBoxModel",
      "state": {
       "children": [
        "IPY_MODEL_bf1f460ba9a346de94acc40e6e969efb",
        "IPY_MODEL_81c2c6c9fa654f92b2df5c04fd899540"
       ],
       "layout": "IPY_MODEL_430a4fe47ed4421989fa61647e0e768f"
      }
     },
     "b934b79bf8c546e19d339b61021a2732": {
      "model_module": "@jupyter-widgets/controls",
      "model_module_version": "1.4.0",
      "model_name": "HBoxModel",
      "state": {
       "children": [
        "IPY_MODEL_1c7d3e2190814bc288f937d13d4ba3fc",
        "IPY_MODEL_51e4d78f264540398b9b939759905211"
       ],
       "layout": "IPY_MODEL_bbc1b4fd62484de787cb9b3b50c7de0b"
      }
     },
     "bb6f07a0c912442bbc3031a48e7be47d": {
      "model_module": "@jupyter-widgets/controls",
      "model_module_version": "1.4.0",
      "model_name": "ProgressStyleModel",
      "state": {
       "description_width": ""
      }
     },
     "bbc1b4fd62484de787cb9b3b50c7de0b": {
      "model_module": "@jupyter-widgets/base",
      "model_module_version": "1.1.0",
      "model_name": "LayoutModel",
      "state": {}
     },
     "bbd2235b75714605a793a6b70d2a21f0": {
      "model_module": "@jupyter-widgets/controls",
      "model_module_version": "1.4.0",
      "model_name": "HTMLModel",
      "state": {
       "layout": "IPY_MODEL_21c27fa2cecd420b8fdef1772f55111a",
       "style": "IPY_MODEL_43b7db1f71e641f789b044684a105299",
       "value": "104999/|/| 104999/? [00:00&lt;00:00, 264860.74it/s]"
      }
     },
     "bc0eb125cc6245c98681681872ab5fe1": {
      "model_module": "@jupyter-widgets/base",
      "model_module_version": "1.1.0",
      "model_name": "LayoutModel",
      "state": {}
     },
     "bf1f460ba9a346de94acc40e6e969efb": {
      "model_module": "@jupyter-widgets/controls",
      "model_module_version": "1.4.0",
      "model_name": "IntProgressModel",
      "state": {
       "bar_style": "success",
       "layout": "IPY_MODEL_b26607f469fa4d1d973f7d724eb09c0a",
       "max": 1,
       "style": "IPY_MODEL_56d621e80373403b9c8250dae0244db4",
       "value": 1
      }
     },
     "c1f2b92c35c54548925b54d667754e45": {
      "model_module": "@jupyter-widgets/controls",
      "model_module_version": "1.4.0",
      "model_name": "HTMLModel",
      "state": {
       "layout": "IPY_MODEL_a4de8308f7504215a72c8b8480a9e9a9",
       "style": "IPY_MODEL_3f93f72150474d508cc65cbe3ae6bdf4",
       "value": "100% 1000/1000 [05:20&lt;00:00,  2.73it/s]"
      }
     },
     "c71c6f9629554772963c1d33b97cdc61": {
      "model_module": "@jupyter-widgets/base",
      "model_module_version": "1.1.0",
      "model_name": "LayoutModel",
      "state": {}
     },
     "ca41d76b5e464cd79cdf0e1752ae7972": {
      "model_module": "@jupyter-widgets/base",
      "model_module_version": "1.1.0",
      "model_name": "LayoutModel",
      "state": {}
     },
     "cb946d9d7ec74e73bdfcf6acb4940d05": {
      "model_module": "@jupyter-widgets/controls",
      "model_module_version": "1.4.0",
      "model_name": "IntProgressModel",
      "state": {
       "bar_style": "success",
       "layout": "IPY_MODEL_c71c6f9629554772963c1d33b97cdc61",
       "max": 1,
       "style": "IPY_MODEL_233860ac05074c919d4540745339fca7",
       "value": 1
      }
     },
     "cd1cd487929f449882faf23361566029": {
      "model_module": "@jupyter-widgets/controls",
      "model_module_version": "1.4.0",
      "model_name": "HTMLModel",
      "state": {
       "layout": "IPY_MODEL_1cab317fac424c2aae9a18efd7b41265",
       "style": "IPY_MODEL_7b63a0a041a74da789820e8abb002362",
       "value": "  1% 8475/1058694 [43:49&lt;79:28:46,  3.67it/s]"
      }
     },
     "d0254eddbba44f52b402c63d5b85bef4": {
      "model_module": "@jupyter-widgets/controls",
      "model_module_version": "1.4.0",
      "model_name": "HTMLModel",
      "state": {
       "layout": "IPY_MODEL_137645ebeade40a3bea78a43adaf84b7",
       "style": "IPY_MODEL_2844bae9d27e47599fc1574d993337e4",
       "value": "  4% 48256/1108694 [4:09:35&lt;94:17:53,  3.12it/s]"
      }
     },
     "d053e16524ce48a18222457bddf90749": {
      "model_module": "@jupyter-widgets/base",
      "model_module_version": "1.1.0",
      "model_name": "LayoutModel",
      "state": {}
     },
     "d21f75ba3ef843c8a37d6af5fe99883d": {
      "model_module": "@jupyter-widgets/base",
      "model_module_version": "1.1.0",
      "model_name": "LayoutModel",
      "state": {}
     },
     "d25eebb06b474d2ea2cf5003504e6e14": {
      "model_module": "@jupyter-widgets/controls",
      "model_module_version": "1.4.0",
      "model_name": "IntProgressModel",
      "state": {
       "bar_style": "danger",
       "layout": "IPY_MODEL_4727012417b34b9f8fb018cd653e5eed",
       "max": 1060694,
       "style": "IPY_MODEL_b44916f47a5644cd8c809f641b4fbc54",
       "value": 256
      }
     },
     "db4635b7bd0c494b9c223a349d0a2dc3": {
      "model_module": "@jupyter-widgets/controls",
      "model_module_version": "1.4.0",
      "model_name": "DescriptionStyleModel",
      "state": {
       "description_width": ""
      }
     },
     "dd767bc274e24c8480cec94c939581b2": {
      "model_module": "@jupyter-widgets/controls",
      "model_module_version": "1.4.0",
      "model_name": "IntProgressModel",
      "state": {
       "bar_style": "danger",
       "layout": "IPY_MODEL_32fb67e774614453b2d373310695ceea",
       "max": 1060694,
       "style": "IPY_MODEL_35369d00a20a454fa28e79c5437e454d",
       "value": 1022
      }
     },
     "e71776efb5734e2d82b958e6bc970d4e": {
      "model_module": "@jupyter-widgets/base",
      "model_module_version": "1.1.0",
      "model_name": "LayoutModel",
      "state": {}
     },
     "ea32eb54a1744eb795f07551e2e4b936": {
      "model_module": "@jupyter-widgets/controls",
      "model_module_version": "1.4.0",
      "model_name": "IntProgressModel",
      "state": {
       "bar_style": "success",
       "layout": "IPY_MODEL_0c26227bac6048d39b650f754faf141a",
       "max": 1,
       "style": "IPY_MODEL_f0678ad95b79463cb4c01b59d98ac010",
       "value": 1
      }
     },
     "ebc9d55dc8bd418fb7992b8ea2a67db2": {
      "model_module": "@jupyter-widgets/base",
      "model_module_version": "1.1.0",
      "model_name": "LayoutModel",
      "state": {}
     },
     "f0678ad95b79463cb4c01b59d98ac010": {
      "model_module": "@jupyter-widgets/controls",
      "model_module_version": "1.4.0",
      "model_name": "ProgressStyleModel",
      "state": {
       "description_width": ""
      }
     },
     "f4436672e4b54f7ba4ea9be9894bfc4a": {
      "model_module": "@jupyter-widgets/base",
      "model_module_version": "1.1.0",
      "model_name": "LayoutModel",
      "state": {}
     },
     "f4992219196643ce8193b67fa4cae5e9": {
      "model_module": "@jupyter-widgets/base",
      "model_module_version": "1.1.0",
      "model_name": "LayoutModel",
      "state": {}
     },
     "f5aaa8d2c317462a8f75a3d6eb97b8e6": {
      "model_module": "@jupyter-widgets/controls",
      "model_module_version": "1.4.0",
      "model_name": "DescriptionStyleModel",
      "state": {
       "description_width": ""
      }
     },
     "f86a7638254d4c79a2c17f0626d66513": {
      "model_module": "@jupyter-widgets/base",
      "model_module_version": "1.1.0",
      "model_name": "LayoutModel",
      "state": {}
     },
     "fe678f0333e5400597884d7ca3dd37f0": {
      "model_module": "@jupyter-widgets/controls",
      "model_module_version": "1.4.0",
      "model_name": "DescriptionStyleModel",
      "state": {
       "description_width": ""
      }
     },
     "fed5f2ca73c64629a390e8127238e2f9": {
      "model_module": "@jupyter-widgets/controls",
      "model_module_version": "1.4.0",
      "model_name": "HBoxModel",
      "state": {
       "children": [
        "IPY_MODEL_8b2e2054ca4847679501d466f18fbc0a",
        "IPY_MODEL_cd1cd487929f449882faf23361566029"
       ],
       "layout": "IPY_MODEL_7b7acd8d88af4eb38b6abc12b1413403"
      }
     },
     "fffcfe6c61124b21a03c82b18f69800a": {
      "model_module": "@jupyter-widgets/controls",
      "model_module_version": "1.4.0",
      "model_name": "ProgressStyleModel",
      "state": {
       "description_width": ""
      }
     }
    },
    "version_major": 2,
    "version_minor": 0
   }
  }
 },
 "nbformat": 4,
 "nbformat_minor": 2
}
