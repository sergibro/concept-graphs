{
 "cells": [
  {
   "cell_type": "markdown",
   "metadata": {
    "heading_collapsed": true
   },
   "source": [
    "### read"
   ]
  },
  {
   "cell_type": "code",
   "execution_count": 1,
   "metadata": {
    "ExecuteTime": {
     "end_time": "2020-01-08T18:24:31.019709Z",
     "start_time": "2020-01-08T18:24:28.828816Z"
    },
    "hidden": true
   },
   "outputs": [
    {
     "data": {
      "text/plain": [
       "131682106"
      ]
     },
     "execution_count": 1,
     "metadata": {},
     "output_type": "execute_result"
    }
   ],
   "source": [
    "ew_2013_s = pd.read_pickle('./data/ew_2013_s.pkl')  # 16229\n",
    "ew_2013_s.shape[0]"
   ]
  },
  {
   "cell_type": "code",
   "execution_count": 1,
   "metadata": {
    "ExecuteTime": {
     "end_time": "2020-01-08T04:50:50.694663Z",
     "start_time": "2020-01-08T04:50:48.388527Z"
    },
    "hidden": true
   },
   "outputs": [
    {
     "data": {
      "text/plain": [
       "131682106"
      ]
     },
     "execution_count": 1,
     "metadata": {},
     "output_type": "execute_result"
    }
   ],
   "source": [
    "ea_2013_s = pd.read_pickle('./data/ea_2013_s.pkl')  # 16229\n",
    "ea_2013_s.shape[0]"
   ]
  },
  {
   "cell_type": "code",
   "execution_count": 1,
   "metadata": {
    "ExecuteTime": {
     "end_time": "2020-01-08T04:04:27.533156Z",
     "start_time": "2020-01-08T04:04:25.054723Z"
    },
    "hidden": true
   },
   "outputs": [
    {
     "data": {
      "text/plain": [
       "138769470"
      ]
     },
     "execution_count": 1,
     "metadata": {},
     "output_type": "execute_result"
    }
   ],
   "source": [
    "ew_2015_s = pd.read_pickle('./data/ew_2015_s.pkl')  # 16660\n",
    "ew_2015_s.shape[0]"
   ]
  },
  {
   "cell_type": "code",
   "execution_count": 6,
   "metadata": {
    "ExecuteTime": {
     "end_time": "2020-01-08T04:54:30.462164Z",
     "start_time": "2020-01-08T04:54:28.226255Z"
    },
    "hidden": true
   },
   "outputs": [
    {
     "data": {
      "text/plain": [
       "138769470"
      ]
     },
     "execution_count": 6,
     "metadata": {},
     "output_type": "execute_result"
    }
   ],
   "source": [
    "ea_2015_s = pd.read_pickle('./data/ea_2015_s.pkl')  # 16660\n",
    "ea_2015_s.shape[0]"
   ]
  },
  {
   "cell_type": "code",
   "execution_count": 2,
   "metadata": {
    "ExecuteTime": {
     "end_time": "2020-01-08T18:24:33.114039Z",
     "start_time": "2020-01-08T18:24:31.020912Z"
    },
    "hidden": true
   },
   "outputs": [
    {
     "data": {
      "text/plain": [
       "131682106"
      ]
     },
     "execution_count": 2,
     "metadata": {},
     "output_type": "execute_result"
    }
   ],
   "source": [
    "emb_sim_2013_s = pd.read_pickle('./data/emb_sim_2013_s.pkl')  # 16229\n",
    "emb_sim_2013_s.shape[0]"
   ]
  },
  {
   "cell_type": "markdown",
   "metadata": {
    "hidden": true
   },
   "source": [
    "15431 = concept intersection for 2013 and 2015 years"
   ]
  },
  {
   "cell_type": "markdown",
   "metadata": {
    "heading_collapsed": true
   },
   "source": [
    "## dividing by thresholds"
   ]
  },
  {
   "cell_type": "markdown",
   "metadata": {
    "hidden": true
   },
   "source": [
    "!!! <font color='red'>64 GB RAM reqired</font> !!!\n",
    "\n",
    "Ran on `Intel(R) Core(TM) i7-6700 CPU @ 3.40GHz, 4 Cores, 8 Threads machine, 64 GB RAM (+64 GB swap), ~400 GB NVMe SSD`"
   ]
  },
  {
   "cell_type": "markdown",
   "metadata": {
    "heading_collapsed": true,
    "hidden": true
   },
   "source": [
    "### weight"
   ]
  },
  {
   "cell_type": "markdown",
   "metadata": {
    "hidden": true
   },
   "source": [
    "Let's set stat. sign. weight == 10 (might be change)"
   ]
  },
  {
   "cell_type": "code",
   "execution_count": 8,
   "metadata": {
    "ExecuteTime": {
     "end_time": "2020-01-08T04:07:43.620842Z",
     "start_time": "2020-01-08T04:07:43.599419Z"
    },
    "hidden": true
   },
   "outputs": [],
   "source": [
    "ew_threshold = 10"
   ]
  },
  {
   "cell_type": "markdown",
   "metadata": {
    "heading_collapsed": true,
    "hidden": true
   },
   "source": [
    "#### form"
   ]
  },
  {
   "cell_type": "code",
   "execution_count": 17,
   "metadata": {
    "ExecuteTime": {
     "end_time": "2020-01-08T04:03:07.235389Z",
     "start_time": "2020-01-08T03:56:45.361848Z"
    },
    "hidden": true
   },
   "outputs": [
    {
     "data": {
      "application/vnd.jupyter.widget-view+json": {
       "model_id": "",
       "version_major": 2,
       "version_minor": 0
      },
      "text/plain": [
       "HBox(children=(IntProgress(value=0, max=1844453), HTML(value='')))"
      ]
     },
     "metadata": {},
     "output_type": "display_data"
    },
    {
     "name": "stdout",
     "output_type": "stream",
     "text": [
      "\n"
     ]
    },
    {
     "data": {
      "application/vnd.jupyter.widget-view+json": {
       "model_id": "",
       "version_major": 2,
       "version_minor": 0
      },
      "text/plain": [
       "HBox(children=(IntProgress(value=0, max=129837653), HTML(value='')))"
      ]
     },
     "metadata": {},
     "output_type": "display_data"
    },
    {
     "name": "stdout",
     "output_type": "stream",
     "text": [
      "\n"
     ]
    },
    {
     "data": {
      "text/plain": [
       "(1844453, 129837653)"
      ]
     },
     "execution_count": 17,
     "metadata": {},
     "output_type": "execute_result"
    }
   ],
   "source": [
    "wgpg_2013 = ew_2013_s[ew_2013_s > ew_threshold].index.map(lambda p: f'{p[0]}-{p[1]}').sort_values().tolist()\n",
    "wbpg_2013 = ew_2013_s[ew_2013_s <= ew_threshold].index.map(lambda p: f'{p[0]}-{p[1]}').sort_values().tolist()\n",
    "\n",
    "with open('./data/wgpg_2013.txt', 'w') as f:\n",
    "    for p in tn(wgpg_2013):\n",
    "        f.write(f'{p}\\n')\n",
    "with open('./data/wbpg_2013.txt', 'w') as f:\n",
    "    for p in tn(wbpg_2013):\n",
    "        f.write(f'{p}\\n')\n",
    "\n",
    "len(wgpg_2013), len(wbpg_2013)"
   ]
  },
  {
   "cell_type": "code",
   "execution_count": 6,
   "metadata": {
    "ExecuteTime": {
     "end_time": "2020-01-07T22:49:00.146290Z",
     "start_time": "2020-01-07T22:49:00.129181Z"
    },
    "hidden": true
   },
   "outputs": [
    {
     "data": {
      "text/plain": [
       "0.014006861342269238"
      ]
     },
     "execution_count": 6,
     "metadata": {},
     "output_type": "execute_result"
    }
   ],
   "source": [
    "len(wgpg_2013) / ew_2013_s.shape[0]"
   ]
  },
  {
   "cell_type": "code",
   "execution_count": 3,
   "metadata": {
    "ExecuteTime": {
     "end_time": "2020-01-08T04:04:44.719776Z",
     "start_time": "2020-01-08T04:04:37.788424Z"
    },
    "hidden": true
   },
   "outputs": [
    {
     "data": {
      "application/vnd.jupyter.widget-view+json": {
       "model_id": "",
       "version_major": 2,
       "version_minor": 0
      },
      "text/plain": [
       "HBox(children=(IntProgress(value=0, max=2227384), HTML(value='')))"
      ]
     },
     "metadata": {},
     "output_type": "display_data"
    },
    {
     "name": "stdout",
     "output_type": "stream",
     "text": [
      "\n"
     ]
    },
    {
     "data": {
      "text/plain": [
       "2227384"
      ]
     },
     "execution_count": 3,
     "metadata": {},
     "output_type": "execute_result"
    }
   ],
   "source": [
    "wgpg_2015 = ew_2015_s[ew_2015_s > ew_threshold].index.map(lambda p: f'{p[0]}-{p[1]}').sort_values().tolist()\n",
    "\n",
    "with open('./data/wgpg_2015.txt', 'w') as f:\n",
    "    for p in tn(wgpg_2015):\n",
    "        f.write(f'{p}\\n')\n",
    "len(wgpg_2015)"
   ]
  },
  {
   "cell_type": "code",
   "execution_count": 11,
   "metadata": {
    "ExecuteTime": {
     "end_time": "2020-01-07T23:07:09.357224Z",
     "start_time": "2020-01-07T23:07:09.027464Z"
    },
    "hidden": true
   },
   "outputs": [
    {
     "data": {
      "text/plain": [
       "0.016050965677104626"
      ]
     },
     "execution_count": 11,
     "metadata": {},
     "output_type": "execute_result"
    }
   ],
   "source": [
    "len(wgpg_2015) / ew_2015_s.shape[0]"
   ]
  },
  {
   "cell_type": "markdown",
   "metadata": {
    "heading_collapsed": true,
    "hidden": true
   },
   "source": [
    "#### read"
   ]
  },
  {
   "cell_type": "code",
   "execution_count": 1,
   "metadata": {
    "ExecuteTime": {
     "end_time": "2020-01-08T04:05:59.132066Z",
     "start_time": "2020-01-08T04:05:22.339151Z"
    },
    "hidden": true
   },
   "outputs": [
    {
     "data": {
      "text/plain": [
       "(1844453, 129837653)"
      ]
     },
     "execution_count": 1,
     "metadata": {},
     "output_type": "execute_result"
    }
   ],
   "source": [
    "with open('./data/wgpg_2013.txt') as f:\n",
    "    wgpg_2013 = f.read().split('\\n')[:-1]\n",
    "    wgpg_2013 = set(wgpg_2013)\n",
    "with open('./data/wbpg_2013.txt') as f:\n",
    "    wbpg_2013 = f.read().split('\\n')[:-1]\n",
    "    wbpg_2013 = set(wbpg_2013)\n",
    "len(wgpg_2013), len(wbpg_2013)"
   ]
  },
  {
   "cell_type": "code",
   "execution_count": 2,
   "metadata": {
    "ExecuteTime": {
     "end_time": "2020-01-08T04:05:59.152227Z",
     "start_time": "2020-01-08T04:05:59.133703Z"
    },
    "hidden": true
   },
   "outputs": [
    {
     "data": {
      "text/plain": [
       "0.014006861342269238"
      ]
     },
     "execution_count": 2,
     "metadata": {},
     "output_type": "execute_result"
    }
   ],
   "source": [
    "len(wgpg_2013) / (len(wgpg_2013) + len(wbpg_2013))"
   ]
  },
  {
   "cell_type": "code",
   "execution_count": 3,
   "metadata": {
    "ExecuteTime": {
     "end_time": "2020-01-08T04:05:59.658018Z",
     "start_time": "2020-01-08T04:05:59.153547Z"
    },
    "hidden": true
   },
   "outputs": [
    {
     "data": {
      "text/plain": [
       "2227384"
      ]
     },
     "execution_count": 3,
     "metadata": {},
     "output_type": "execute_result"
    }
   ],
   "source": [
    "with open('./data/wgpg_2015.txt') as f:\n",
    "    wgpg_2015 = f.read().split('\\n')[:-1]\n",
    "    wgpg_2015 = set(wgpg_2015)\n",
    "len(wgpg_2015)"
   ]
  },
  {
   "cell_type": "code",
   "execution_count": 24,
   "metadata": {
    "ExecuteTime": {
     "end_time": "2020-01-08T04:18:29.485284Z",
     "start_time": "2020-01-08T04:18:29.458635Z"
    },
    "hidden": true
   },
   "outputs": [
    {
     "data": {
      "text/plain": [
       "0.016062533592905857"
      ]
     },
     "execution_count": 24,
     "metadata": {},
     "output_type": "execute_result"
    }
   ],
   "source": [
    "len(wgpg_2015) / ew_2015_s.shape[0]"
   ]
  },
  {
   "cell_type": "markdown",
   "metadata": {
    "heading_collapsed": true,
    "hidden": true
   },
   "source": [
    "### alpha p-value"
   ]
  },
  {
   "cell_type": "markdown",
   "metadata": {
    "hidden": true
   },
   "source": [
    "We set stat. sign. alpha to 0.1 which ~ top 15% links, ~0.15 p-value (might be change)"
   ]
  },
  {
   "cell_type": "code",
   "execution_count": 23,
   "metadata": {
    "ExecuteTime": {
     "end_time": "2020-01-08T05:15:22.946720Z",
     "start_time": "2020-01-08T05:15:22.927051Z"
    },
    "hidden": true
   },
   "outputs": [
    {
     "data": {
      "text/plain": [
       "0.1"
      ]
     },
     "execution_count": 23,
     "metadata": {},
     "output_type": "execute_result"
    }
   ],
   "source": [
    "eapv_threshold = .15\n",
    "ea_threshold = .1#ea_2013_s.sort_values()[int(eapv_threshold * ea_2013_s.shape[0])]\n",
    "ea_threshold"
   ]
  },
  {
   "cell_type": "markdown",
   "metadata": {
    "heading_collapsed": true,
    "hidden": true
   },
   "source": [
    "#### form"
   ]
  },
  {
   "cell_type": "code",
   "execution_count": 4,
   "metadata": {
    "ExecuteTime": {
     "end_time": "2020-01-08T04:54:28.207870Z",
     "start_time": "2020-01-08T04:50:57.187059Z"
    },
    "hidden": true
   },
   "outputs": [
    {
     "data": {
      "application/vnd.jupyter.widget-view+json": {
       "model_id": "a3977644379a49e89e79c297091ee7cb",
       "version_major": 2,
       "version_minor": 0
      },
      "text/plain": [
       "HBox(children=(IntProgress(value=0, max=1642958), HTML(value='')))"
      ]
     },
     "metadata": {},
     "output_type": "display_data"
    },
    {
     "name": "stdout",
     "output_type": "stream",
     "text": [
      "\n"
     ]
    },
    {
     "data": {
      "application/vnd.jupyter.widget-view+json": {
       "model_id": "59bd64115ce84a5ebb9dc1149e2f27d9",
       "version_major": 2,
       "version_minor": 0
      },
      "text/plain": [
       "HBox(children=(IntProgress(value=0, max=130039148), HTML(value='')))"
      ]
     },
     "metadata": {},
     "output_type": "display_data"
    },
    {
     "name": "stdout",
     "output_type": "stream",
     "text": [
      "\n"
     ]
    },
    {
     "data": {
      "text/plain": [
       "(1642958, 130039148)"
      ]
     },
     "execution_count": 4,
     "metadata": {},
     "output_type": "execute_result"
    }
   ],
   "source": [
    "agpg_2013 = ea_2013_s[ea_2013_s < ea_threshold].index.map(lambda p: f'{p[0]}-{p[1]}').sort_values().tolist()\n",
    "abpg_2013 = ea_2013_s[ea_2013_s >= ea_threshold].index.map(lambda p: f'{p[0]}-{p[1]}').sort_values().tolist()\n",
    "\n",
    "with open('./data/agpg_2013.txt', 'w') as f:\n",
    "    for p in tn(agpg_2013):\n",
    "        f.write(f'{p}\\n')\n",
    "with open('./data/abpg_2013.txt', 'w') as f:\n",
    "    for p in tn(abpg_2013):\n",
    "        f.write(f'{p}\\n')\n",
    "\n",
    "len(agpg_2013), len(abpg_2013)"
   ]
  },
  {
   "cell_type": "code",
   "execution_count": 5,
   "metadata": {
    "ExecuteTime": {
     "end_time": "2020-01-08T04:54:28.224893Z",
     "start_time": "2020-01-08T04:54:28.209112Z"
    },
    "hidden": true
   },
   "outputs": [
    {
     "data": {
      "text/plain": [
       "0.012476698998115963"
      ]
     },
     "execution_count": 5,
     "metadata": {},
     "output_type": "execute_result"
    }
   ],
   "source": [
    "len(agpg_2013) / ea_2013_s.shape[0]"
   ]
  },
  {
   "cell_type": "code",
   "execution_count": 7,
   "metadata": {
    "ExecuteTime": {
     "end_time": "2020-01-08T04:54:37.095247Z",
     "start_time": "2020-01-08T04:54:30.463306Z"
    },
    "hidden": true
   },
   "outputs": [
    {
     "data": {
      "application/vnd.jupyter.widget-view+json": {
       "model_id": "eb1fa60b49a8438aaed17130609bbf14",
       "version_major": 2,
       "version_minor": 0
      },
      "text/plain": [
       "HBox(children=(IntProgress(value=0, max=1869488), HTML(value='')))"
      ]
     },
     "metadata": {},
     "output_type": "display_data"
    },
    {
     "name": "stdout",
     "output_type": "stream",
     "text": [
      "\n"
     ]
    },
    {
     "data": {
      "text/plain": [
       "1869488"
      ]
     },
     "execution_count": 7,
     "metadata": {},
     "output_type": "execute_result"
    }
   ],
   "source": [
    "agpg_2015 = ea_2015_s[ea_2015_s < ea_threshold].index.map(lambda p: f'{p[0]}-{p[1]}').sort_values().tolist()\n",
    "\n",
    "with open('./data/agpg_2015.txt', 'w') as f:\n",
    "    for p in tn(agpg_2015):\n",
    "        f.write(f'{p}\\n')\n",
    "len(agpg_2015)"
   ]
  },
  {
   "cell_type": "code",
   "execution_count": 8,
   "metadata": {
    "ExecuteTime": {
     "end_time": "2020-01-08T04:54:37.112107Z",
     "start_time": "2020-01-08T04:54:37.096284Z"
    },
    "hidden": true
   },
   "outputs": [
    {
     "data": {
      "text/plain": [
       "0.013471896952550154"
      ]
     },
     "execution_count": 8,
     "metadata": {},
     "output_type": "execute_result"
    }
   ],
   "source": [
    "len(agpg_2015) / ea_2015_s.shape[0]"
   ]
  },
  {
   "cell_type": "markdown",
   "metadata": {
    "heading_collapsed": true,
    "hidden": true
   },
   "source": [
    "#### read"
   ]
  },
  {
   "cell_type": "code",
   "execution_count": 2,
   "metadata": {
    "ExecuteTime": {
     "end_time": "2020-01-08T04:58:04.110159Z",
     "start_time": "2020-01-08T04:57:27.276558Z"
    },
    "hidden": true
   },
   "outputs": [
    {
     "data": {
      "text/plain": [
       "(1642958, 130039148)"
      ]
     },
     "execution_count": 2,
     "metadata": {},
     "output_type": "execute_result"
    }
   ],
   "source": [
    "with open('./data/agpg_2013.txt') as f:\n",
    "    agpg_2013 = f.read().split('\\n')[:-1]\n",
    "    agpg_2013 = set(agpg_2013)\n",
    "with open('./data/abpg_2013.txt') as f:\n",
    "    abpg_2013 = f.read().split('\\n')[:-1]\n",
    "    abpg_2013 = set(abpg_2013)\n",
    "len(agpg_2013), len(abpg_2013)"
   ]
  },
  {
   "cell_type": "code",
   "execution_count": 3,
   "metadata": {
    "ExecuteTime": {
     "end_time": "2020-01-08T04:58:04.129031Z",
     "start_time": "2020-01-08T04:58:04.111526Z"
    },
    "hidden": true
   },
   "outputs": [
    {
     "data": {
      "text/plain": [
       "0.012476698998115963"
      ]
     },
     "execution_count": 3,
     "metadata": {},
     "output_type": "execute_result"
    }
   ],
   "source": [
    "len(agpg_2013) / (len(agpg_2013) + len(abpg_2013))"
   ]
  },
  {
   "cell_type": "code",
   "execution_count": 4,
   "metadata": {
    "ExecuteTime": {
     "end_time": "2020-01-08T04:58:04.554415Z",
     "start_time": "2020-01-08T04:58:04.130276Z"
    },
    "hidden": true
   },
   "outputs": [
    {
     "data": {
      "text/plain": [
       "1869488"
      ]
     },
     "execution_count": 4,
     "metadata": {},
     "output_type": "execute_result"
    }
   ],
   "source": [
    "with open('./data/agpg_2015.txt') as f:\n",
    "    agpg_2015 = f.read().split('\\n')[:-1]\n",
    "    agpg_2015 = set(agpg_2015)\n",
    "len(agpg_2015)"
   ]
  },
  {
   "cell_type": "code",
   "execution_count": 10,
   "metadata": {
    "ExecuteTime": {
     "end_time": "2020-01-08T04:56:42.412357Z",
     "start_time": "2020-01-08T04:56:42.389938Z"
    },
    "hidden": true
   },
   "outputs": [
    {
     "data": {
      "text/plain": [
       "0.013471896952550154"
      ]
     },
     "execution_count": 10,
     "metadata": {},
     "output_type": "execute_result"
    }
   ],
   "source": [
    "len(agpg_2015) / ea_2015_s.shape[0]"
   ]
  },
  {
   "cell_type": "markdown",
   "metadata": {
    "heading_collapsed": true,
    "hidden": true
   },
   "source": [
    "### embedding similarity"
   ]
  },
  {
   "cell_type": "markdown",
   "metadata": {
    "hidden": true
   },
   "source": [
    "Let's set stat. sign. similarity == 0.6 (might be change)"
   ]
  },
  {
   "cell_type": "code",
   "execution_count": 12,
   "metadata": {
    "ExecuteTime": {
     "end_time": "2020-01-08T04:58:50.859535Z",
     "start_time": "2020-01-08T04:58:50.835123Z"
    },
    "hidden": true
   },
   "outputs": [],
   "source": [
    "emb_sim_threshold = .6"
   ]
  },
  {
   "cell_type": "markdown",
   "metadata": {
    "heading_collapsed": true,
    "hidden": true
   },
   "source": [
    "#### form"
   ]
  },
  {
   "cell_type": "code",
   "execution_count": 4,
   "metadata": {
    "ExecuteTime": {
     "end_time": "2020-01-08T03:49:31.218548Z",
     "start_time": "2020-01-08T03:46:00.060867Z"
    },
    "hidden": true
   },
   "outputs": [
    {
     "data": {
      "application/vnd.jupyter.widget-view+json": {
       "model_id": "",
       "version_major": 2,
       "version_minor": 0
      },
      "text/plain": [
       "HBox(children=(IntProgress(value=0, max=1994233), HTML(value='')))"
      ]
     },
     "metadata": {},
     "output_type": "display_data"
    },
    {
     "name": "stdout",
     "output_type": "stream",
     "text": [
      "\n"
     ]
    },
    {
     "data": {
      "application/vnd.jupyter.widget-view+json": {
       "model_id": "",
       "version_major": 2,
       "version_minor": 0
      },
      "text/plain": [
       "HBox(children=(IntProgress(value=0, max=129687873), HTML(value='')))"
      ]
     },
     "metadata": {},
     "output_type": "display_data"
    },
    {
     "name": "stdout",
     "output_type": "stream",
     "text": [
      "\n"
     ]
    },
    {
     "data": {
      "text/plain": [
       "(1994233, 129687873)"
      ]
     },
     "execution_count": 4,
     "metadata": {},
     "output_type": "execute_result"
    }
   ],
   "source": [
    "gpe_2013 = emb_sim_2013_s[emb_sim_2013_s > emb_sim_threshold].index.map(lambda p: f'{p[0]}-{p[1]}').sort_values().tolist()\n",
    "bpe_2013 = emb_sim_2013_s[emb_sim_2013_s <= emb_sim_threshold].index.map(lambda p: f'{p[0]}-{p[1]}').sort_values().tolist()\n",
    "\n",
    "with open('./data/gpe_2013.txt', 'w') as f:\n",
    "    for p in tn(gpe_2013):\n",
    "        f.write(f'{p}\\n')\n",
    "with open('./data/bpe_2013.txt', 'w') as f:\n",
    "    for p in tn(bpe_2013):\n",
    "        f.write(f'{p}\\n')\n",
    "\n",
    "len(gpe_2013), len(bpe_2013)"
   ]
  },
  {
   "cell_type": "code",
   "execution_count": 9,
   "metadata": {
    "ExecuteTime": {
     "end_time": "2020-01-07T22:53:10.984145Z",
     "start_time": "2020-01-07T22:53:10.799932Z"
    },
    "hidden": true
   },
   "outputs": [
    {
     "data": {
      "text/plain": [
       "0.0151442975858846"
      ]
     },
     "execution_count": 9,
     "metadata": {},
     "output_type": "execute_result"
    }
   ],
   "source": [
    "len(gpe_2013) / emb_sim_2013_s.shape[0]"
   ]
  },
  {
   "cell_type": "markdown",
   "metadata": {
    "heading_collapsed": true,
    "hidden": true
   },
   "source": [
    "#### read"
   ]
  },
  {
   "cell_type": "code",
   "execution_count": 13,
   "metadata": {
    "ExecuteTime": {
     "end_time": "2020-01-08T04:59:29.872042Z",
     "start_time": "2020-01-08T04:58:53.435452Z"
    },
    "hidden": true
   },
   "outputs": [
    {
     "data": {
      "text/plain": [
       "(1994233, 129687873)"
      ]
     },
     "execution_count": 13,
     "metadata": {},
     "output_type": "execute_result"
    }
   ],
   "source": [
    "with open('./data/gpe_2013.txt') as f:\n",
    "    gpe_2013 = f.read().split('\\n')[:-1]\n",
    "    gpe_2013 = set(gpe_2013)\n",
    "with open('./data/bpe_2013.txt') as f:\n",
    "    bpe_2013 = f.read().split('\\n')[:-1]\n",
    "    bpe_2013 = set(bpe_2013)\n",
    "len(gpe_2013), len(bpe_2013)"
   ]
  },
  {
   "cell_type": "code",
   "execution_count": 5,
   "metadata": {
    "ExecuteTime": {
     "end_time": "2020-01-08T04:06:36.635355Z",
     "start_time": "2020-01-08T04:06:36.617574Z"
    },
    "hidden": true
   },
   "outputs": [
    {
     "data": {
      "text/plain": [
       "0.0151442975858846"
      ]
     },
     "execution_count": 5,
     "metadata": {},
     "output_type": "execute_result"
    }
   ],
   "source": [
    "len(gpe_2013) / (len(gpe_2013) + len(bpe_2013))"
   ]
  },
  {
   "cell_type": "markdown",
   "metadata": {
    "heading_collapsed": true
   },
   "source": [
    "## final tables"
   ]
  },
  {
   "cell_type": "markdown",
   "metadata": {
    "heading_collapsed": true,
    "hidden": true
   },
   "source": [
    "### weight"
   ]
  },
  {
   "cell_type": "code",
   "execution_count": 9,
   "metadata": {
    "ExecuteTime": {
     "end_time": "2020-01-08T04:08:19.823266Z",
     "start_time": "2020-01-08T04:07:53.573057Z"
    },
    "hidden": true
   },
   "outputs": [
    {
     "data": {
      "text/html": [
       "<div>\n",
       "<style scoped>\n",
       "    .dataframe tbody tr th:only-of-type {\n",
       "        vertical-align: middle;\n",
       "    }\n",
       "\n",
       "    .dataframe tbody tr th {\n",
       "        vertical-align: top;\n",
       "    }\n",
       "\n",
       "    .dataframe thead th {\n",
       "        text-align: right;\n",
       "    }\n",
       "</style>\n",
       "<table border=\"1\" class=\"dataframe\">\n",
       "  <thead>\n",
       "    <tr style=\"text-align: right;\">\n",
       "      <th></th>\n",
       "      <th>links</th>\n",
       "    </tr>\n",
       "  </thead>\n",
       "  <tbody>\n",
       "    <tr>\n",
       "      <th>$w \\leq 10$</th>\n",
       "      <td>129837653</td>\n",
       "    </tr>\n",
       "    <tr>\n",
       "      <th>$w &gt; 10$</th>\n",
       "      <td>1844453</td>\n",
       "    </tr>\n",
       "  </tbody>\n",
       "</table>\n",
       "</div>"
      ],
      "text/plain": [
       "                 links\n",
       "$w \\leq 10$  129837653\n",
       "$w > 10$       1844453"
      ]
     },
     "execution_count": 9,
     "metadata": {},
     "output_type": "execute_result"
    }
   ],
   "source": [
    "mtrx = pd.DataFrame(data=[[wbpg_2013], [wgpg_2013]],\n",
    "                    index=[fr'$w \\leq {ew_threshold}$', fr'$w > {ew_threshold}$'],\n",
    "                    columns=['links'])\n",
    "abs_mtrx = mtrx.applymap(len)\n",
    "abs_mtrx"
   ]
  },
  {
   "cell_type": "code",
   "execution_count": 10,
   "metadata": {
    "ExecuteTime": {
     "end_time": "2020-01-08T04:08:19.846106Z",
     "start_time": "2020-01-08T04:08:19.824896Z"
    },
    "hidden": true
   },
   "outputs": [],
   "source": [
    "del wbpg_2013\n",
    "del wgpg_2013"
   ]
  },
  {
   "cell_type": "code",
   "execution_count": 13,
   "metadata": {
    "ExecuteTime": {
     "end_time": "2020-01-07T23:07:09.545454Z",
     "start_time": "2020-01-07T23:07:09.423346Z"
    },
    "hidden": true
   },
   "outputs": [
    {
     "data": {
      "text/html": [
       "<div>\n",
       "<style scoped>\n",
       "    .dataframe tbody tr th:only-of-type {\n",
       "        vertical-align: middle;\n",
       "    }\n",
       "\n",
       "    .dataframe tbody tr th {\n",
       "        vertical-align: top;\n",
       "    }\n",
       "\n",
       "    .dataframe thead th {\n",
       "        text-align: right;\n",
       "    }\n",
       "</style>\n",
       "<table border=\"1\" class=\"dataframe\">\n",
       "  <thead>\n",
       "    <tr style=\"text-align: right;\">\n",
       "      <th></th>\n",
       "      <th>links</th>\n",
       "    </tr>\n",
       "  </thead>\n",
       "  <tbody>\n",
       "    <tr>\n",
       "      <th>$w \\leq 10$</th>\n",
       "      <td>98.599314</td>\n",
       "    </tr>\n",
       "    <tr>\n",
       "      <th>$w &gt; 10$</th>\n",
       "      <td>1.400686</td>\n",
       "    </tr>\n",
       "  </tbody>\n",
       "</table>\n",
       "</div>"
      ],
      "text/plain": [
       "                 links\n",
       "$w \\leq 10$  98.599314\n",
       "$w > 10$      1.400686"
      ]
     },
     "execution_count": 13,
     "metadata": {},
     "output_type": "execute_result"
    }
   ],
   "source": [
    "abs_mtrx / abs_mtrx.sum() * 100"
   ]
  },
  {
   "cell_type": "code",
   "execution_count": 26,
   "metadata": {
    "ExecuteTime": {
     "end_time": "2020-01-08T04:22:36.590476Z",
     "start_time": "2020-01-08T04:22:35.454740Z"
    },
    "hidden": true
   },
   "outputs": [
    {
     "data": {
      "text/html": [
       "<div>\n",
       "<style scoped>\n",
       "    .dataframe tbody tr th:only-of-type {\n",
       "        vertical-align: middle;\n",
       "    }\n",
       "\n",
       "    .dataframe tbody tr th {\n",
       "        vertical-align: top;\n",
       "    }\n",
       "\n",
       "    .dataframe thead th {\n",
       "        text-align: right;\n",
       "    }\n",
       "</style>\n",
       "<table border=\"1\" class=\"dataframe\">\n",
       "  <thead>\n",
       "    <tr style=\"text-align: right;\">\n",
       "      <th></th>\n",
       "      <th>links</th>\n",
       "    </tr>\n",
       "  </thead>\n",
       "  <tbody>\n",
       "    <tr>\n",
       "      <th>$w \\leq 10$</th>\n",
       "      <td>564330</td>\n",
       "    </tr>\n",
       "    <tr>\n",
       "      <th>$w &gt; 10$</th>\n",
       "      <td>1662432</td>\n",
       "    </tr>\n",
       "  </tbody>\n",
       "</table>\n",
       "</div>"
      ],
      "text/plain": [
       "               links\n",
       "$w \\leq 10$   564330\n",
       "$w > 10$     1662432"
      ]
     },
     "execution_count": 26,
     "metadata": {},
     "output_type": "execute_result"
    }
   ],
   "source": [
    "new_mtrx = mtrx.applymap(lambda x: x & wgpg_2015)\n",
    "new_abs_mtrx = new_mtrx.applymap(len)\n",
    "new_abs_mtrx"
   ]
  },
  {
   "cell_type": "code",
   "execution_count": 16,
   "metadata": {
    "ExecuteTime": {
     "end_time": "2020-01-07T23:10:31.399237Z",
     "start_time": "2020-01-07T23:10:31.372518Z"
    },
    "hidden": true
   },
   "outputs": [
    {
     "data": {
      "text/plain": [
       "links    2226762\n",
       "dtype: int64"
      ]
     },
     "execution_count": 16,
     "metadata": {},
     "output_type": "execute_result"
    }
   ],
   "source": [
    "new_abs_mtrx.sum()"
   ]
  },
  {
   "cell_type": "code",
   "execution_count": 15,
   "metadata": {
    "ExecuteTime": {
     "end_time": "2020-01-07T23:08:46.064714Z",
     "start_time": "2020-01-07T23:08:45.831578Z"
    },
    "collapsed": true,
    "hidden": true
   },
   "outputs": [
    {
     "data": {
      "text/html": [
       "<div>\n",
       "<style scoped>\n",
       "    .dataframe tbody tr th:only-of-type {\n",
       "        vertical-align: middle;\n",
       "    }\n",
       "\n",
       "    .dataframe tbody tr th {\n",
       "        vertical-align: top;\n",
       "    }\n",
       "\n",
       "    .dataframe thead th {\n",
       "        text-align: right;\n",
       "    }\n",
       "</style>\n",
       "<table border=\"1\" class=\"dataframe\">\n",
       "  <thead>\n",
       "    <tr style=\"text-align: right;\">\n",
       "      <th></th>\n",
       "      <th>links</th>\n",
       "    </tr>\n",
       "  </thead>\n",
       "  <tbody>\n",
       "    <tr>\n",
       "      <th>$w \\leq 10$</th>\n",
       "      <td>0.004346</td>\n",
       "    </tr>\n",
       "    <tr>\n",
       "      <th>$w &gt; 10$</th>\n",
       "      <td>0.901314</td>\n",
       "    </tr>\n",
       "  </tbody>\n",
       "</table>\n",
       "</div>"
      ],
      "text/plain": [
       "                links\n",
       "$w \\leq 10$  0.004346\n",
       "$w > 10$     0.901314"
      ]
     },
     "execution_count": 15,
     "metadata": {},
     "output_type": "execute_result"
    }
   ],
   "source": [
    "new_abs_mtrx / abs_mtrx * 100"
   ]
  },
  {
   "cell_type": "code",
   "execution_count": 33,
   "metadata": {
    "ExecuteTime": {
     "end_time": "2020-01-08T04:30:06.579135Z",
     "start_time": "2020-01-08T04:28:53.822079Z"
    },
    "hidden": true
   },
   "outputs": [
    {
     "data": {
      "text/html": [
       "<div>\n",
       "<style scoped>\n",
       "    .dataframe tbody tr th:only-of-type {\n",
       "        vertical-align: middle;\n",
       "    }\n",
       "\n",
       "    .dataframe tbody tr th {\n",
       "        vertical-align: top;\n",
       "    }\n",
       "\n",
       "    .dataframe thead th {\n",
       "        text-align: right;\n",
       "    }\n",
       "</style>\n",
       "<table border=\"1\" class=\"dataframe\">\n",
       "  <thead>\n",
       "    <tr style=\"text-align: right;\">\n",
       "      <th></th>\n",
       "      <th>$s_{emb} \\leq 0.6$</th>\n",
       "      <th>$s_{emb} &gt; 0.6$</th>\n",
       "    </tr>\n",
       "  </thead>\n",
       "  <tbody>\n",
       "    <tr>\n",
       "      <th>$w \\leq 10$</th>\n",
       "      <td>128263658</td>\n",
       "      <td>1573995</td>\n",
       "    </tr>\n",
       "    <tr>\n",
       "      <th>$w &gt; 10$</th>\n",
       "      <td>1424215</td>\n",
       "      <td>420238</td>\n",
       "    </tr>\n",
       "  </tbody>\n",
       "</table>\n",
       "</div>"
      ],
      "text/plain": [
       "             $s_{emb} \\leq 0.6$  $s_{emb} > 0.6$\n",
       "$w \\leq 10$           128263658          1573995\n",
       "$w > 10$                1424215           420238"
      ]
     },
     "execution_count": 33,
     "metadata": {},
     "output_type": "execute_result"
    }
   ],
   "source": [
    "ext_abs_mtrx = pd.concat([mtrx.applymap(lambda x: len(x & bpe_2013)), mtrx.applymap(lambda x: len(x & gpe_2013))], 1)\n",
    "ext_abs_mtrx.columns = [fr'$s_{{emb}} \\leq {emb_sim_threshold}$', f'$s_{{emb}} > {emb_sim_threshold}$']\n",
    "ext_abs_mtrx"
   ]
  },
  {
   "cell_type": "markdown",
   "metadata": {
    "hidden": true
   },
   "source": [
    "Percentage of similar ($s_{emb} > 0.6$) links"
   ]
  },
  {
   "cell_type": "code",
   "execution_count": 21,
   "metadata": {
    "ExecuteTime": {
     "end_time": "2020-01-08T04:15:10.856576Z",
     "start_time": "2020-01-08T04:15:10.816863Z"
    },
    "hidden": true
   },
   "outputs": [
    {
     "data": {
      "text/html": [
       "<div>\n",
       "<style scoped>\n",
       "    .dataframe tbody tr th:only-of-type {\n",
       "        vertical-align: middle;\n",
       "    }\n",
       "\n",
       "    .dataframe tbody tr th {\n",
       "        vertical-align: top;\n",
       "    }\n",
       "\n",
       "    .dataframe thead th {\n",
       "        text-align: right;\n",
       "    }\n",
       "</style>\n",
       "<table border=\"1\" class=\"dataframe\">\n",
       "  <thead>\n",
       "    <tr style=\"text-align: right;\">\n",
       "      <th></th>\n",
       "      <th>0</th>\n",
       "    </tr>\n",
       "  </thead>\n",
       "  <tbody>\n",
       "    <tr>\n",
       "      <th>$w \\leq 10$</th>\n",
       "      <td>1.212279</td>\n",
       "    </tr>\n",
       "    <tr>\n",
       "      <th>$w &gt; 10$</th>\n",
       "      <td>22.783882</td>\n",
       "    </tr>\n",
       "  </tbody>\n",
       "</table>\n",
       "</div>"
      ],
      "text/plain": [
       "                     0\n",
       "$w \\leq 10$   1.212279\n",
       "$w > 10$     22.783882"
      ]
     },
     "execution_count": 21,
     "metadata": {},
     "output_type": "execute_result"
    }
   ],
   "source": [
    "(ext_abs_mtrx.iloc[:,1] / ext_abs_mtrx.sum(1)).to_frame() * 100"
   ]
  },
  {
   "cell_type": "code",
   "execution_count": 28,
   "metadata": {
    "ExecuteTime": {
     "end_time": "2020-01-08T04:24:22.378676Z",
     "start_time": "2020-01-08T04:24:20.897212Z"
    },
    "hidden": true
   },
   "outputs": [
    {
     "data": {
      "text/html": [
       "<div>\n",
       "<style scoped>\n",
       "    .dataframe tbody tr th:only-of-type {\n",
       "        vertical-align: middle;\n",
       "    }\n",
       "\n",
       "    .dataframe tbody tr th {\n",
       "        vertical-align: top;\n",
       "    }\n",
       "\n",
       "    .dataframe thead th {\n",
       "        text-align: right;\n",
       "    }\n",
       "</style>\n",
       "<table border=\"1\" class=\"dataframe\">\n",
       "  <thead>\n",
       "    <tr style=\"text-align: right;\">\n",
       "      <th></th>\n",
       "      <th>$s_{emb} \\leq 0.6$</th>\n",
       "      <th>$s_{emb} &gt; 0.6$</th>\n",
       "    </tr>\n",
       "  </thead>\n",
       "  <tbody>\n",
       "    <tr>\n",
       "      <th>$w \\leq 10$</th>\n",
       "      <td>514178</td>\n",
       "      <td>50152</td>\n",
       "    </tr>\n",
       "    <tr>\n",
       "      <th>$w &gt; 10$</th>\n",
       "      <td>1265962</td>\n",
       "      <td>396470</td>\n",
       "    </tr>\n",
       "  </tbody>\n",
       "</table>\n",
       "</div>"
      ],
      "text/plain": [
       "             $s_{emb} \\leq 0.6$  $s_{emb} > 0.6$\n",
       "$w \\leq 10$              514178            50152\n",
       "$w > 10$                1265962           396470"
      ]
     },
     "execution_count": 28,
     "metadata": {},
     "output_type": "execute_result"
    }
   ],
   "source": [
    "new_ext_abs_mtrx = pd.concat([new_mtrx.applymap(lambda x: len(x & bpe_2013)), new_mtrx.applymap(lambda x: len(x & gpe_2013))], 1)\n",
    "new_ext_abs_mtrx.columns = [fr'$s_{{emb}} \\leq {emb_sim_threshold}$', f'$s_{{emb}} > {emb_sim_threshold}$']\n",
    "new_ext_abs_mtrx"
   ]
  },
  {
   "cell_type": "code",
   "execution_count": 29,
   "metadata": {
    "ExecuteTime": {
     "end_time": "2020-01-08T04:24:35.308842Z",
     "start_time": "2020-01-08T04:24:35.285124Z"
    },
    "hidden": true
   },
   "outputs": [
    {
     "data": {
      "text/plain": [
       "2226762"
      ]
     },
     "execution_count": 29,
     "metadata": {},
     "output_type": "execute_result"
    }
   ],
   "source": [
    "new_ext_abs_mtrx.sum().sum()"
   ]
  },
  {
   "cell_type": "code",
   "execution_count": 30,
   "metadata": {
    "ExecuteTime": {
     "end_time": "2020-01-08T04:25:01.177374Z",
     "start_time": "2020-01-08T04:25:01.140618Z"
    },
    "hidden": true
   },
   "outputs": [
    {
     "data": {
      "text/plain": [
       "622"
      ]
     },
     "execution_count": 30,
     "metadata": {},
     "output_type": "execute_result"
    }
   ],
   "source": [
    "len(wgpg_2015) - new_ext_abs_mtrx.sum().sum()"
   ]
  },
  {
   "cell_type": "code",
   "execution_count": 31,
   "metadata": {
    "ExecuteTime": {
     "end_time": "2020-01-08T04:25:43.865682Z",
     "start_time": "2020-01-08T04:25:43.836496Z"
    },
    "hidden": true
   },
   "outputs": [
    {
     "data": {
      "text/plain": [
       "0.0002793293580544306"
      ]
     },
     "execution_count": 31,
     "metadata": {},
     "output_type": "execute_result"
    }
   ],
   "source": [
    "(len(wgpg_2015) - new_ext_abs_mtrx.sum().sum()) / new_ext_abs_mtrx.sum().sum()"
   ]
  },
  {
   "cell_type": "code",
   "execution_count": 37,
   "metadata": {
    "ExecuteTime": {
     "end_time": "2020-01-08T04:44:16.662495Z",
     "start_time": "2020-01-08T04:44:16.522473Z"
    },
    "hidden": true
   },
   "outputs": [
    {
     "data": {
      "text/html": [
       "<div>\n",
       "<style scoped>\n",
       "    .dataframe tbody tr th:only-of-type {\n",
       "        vertical-align: middle;\n",
       "    }\n",
       "\n",
       "    .dataframe tbody tr th {\n",
       "        vertical-align: top;\n",
       "    }\n",
       "\n",
       "    .dataframe thead th {\n",
       "        text-align: right;\n",
       "    }\n",
       "</style>\n",
       "<table border=\"1\" class=\"dataframe\">\n",
       "  <thead>\n",
       "    <tr style=\"text-align: right;\">\n",
       "      <th></th>\n",
       "      <th>$s_{emb} \\leq 0.6$</th>\n",
       "      <th>$s_{emb} &gt; 0.6$</th>\n",
       "    </tr>\n",
       "  </thead>\n",
       "  <tbody>\n",
       "    <tr>\n",
       "      <th>$w \\leq 10$</th>\n",
       "      <td>0.400876</td>\n",
       "      <td>3.186287</td>\n",
       "    </tr>\n",
       "    <tr>\n",
       "      <th>$w &gt; 10$</th>\n",
       "      <td>88.888405</td>\n",
       "      <td>94.344157</td>\n",
       "    </tr>\n",
       "  </tbody>\n",
       "</table>\n",
       "</div>"
      ],
      "text/plain": [
       "             $s_{emb} \\leq 0.6$  $s_{emb} > 0.6$\n",
       "$w \\leq 10$            0.400876         3.186287\n",
       "$w > 10$              88.888405        94.344157"
      ]
     },
     "execution_count": 37,
     "metadata": {},
     "output_type": "execute_result"
    }
   ],
   "source": [
    "perc_mtrx = new_ext_abs_mtrx / ext_abs_mtrx\n",
    "perc_mtrx * 100"
   ]
  },
  {
   "cell_type": "markdown",
   "metadata": {
    "heading_collapsed": true,
    "hidden": true
   },
   "source": [
    "### alpha p-value"
   ]
  },
  {
   "cell_type": "code",
   "execution_count": 5,
   "metadata": {
    "ExecuteTime": {
     "end_time": "2020-01-08T04:58:30.573544Z",
     "start_time": "2020-01-08T04:58:04.556199Z"
    },
    "hidden": true
   },
   "outputs": [
    {
     "data": {
      "text/html": [
       "<div>\n",
       "<style scoped>\n",
       "    .dataframe tbody tr th:only-of-type {\n",
       "        vertical-align: middle;\n",
       "    }\n",
       "\n",
       "    .dataframe tbody tr th {\n",
       "        vertical-align: top;\n",
       "    }\n",
       "\n",
       "    .dataframe thead th {\n",
       "        text-align: right;\n",
       "    }\n",
       "</style>\n",
       "<table border=\"1\" class=\"dataframe\">\n",
       "  <thead>\n",
       "    <tr style=\"text-align: right;\">\n",
       "      <th></th>\n",
       "      <th>links</th>\n",
       "    </tr>\n",
       "  </thead>\n",
       "  <tbody>\n",
       "    <tr>\n",
       "      <th>$\\alpha \\geq 0.1$</th>\n",
       "      <td>130039148</td>\n",
       "    </tr>\n",
       "    <tr>\n",
       "      <th>$\\alpha &lt; 0.1$</th>\n",
       "      <td>1642958</td>\n",
       "    </tr>\n",
       "  </tbody>\n",
       "</table>\n",
       "</div>"
      ],
      "text/plain": [
       "                       links\n",
       "$\\alpha \\geq 0.1$  130039148\n",
       "$\\alpha < 0.1$       1642958"
      ]
     },
     "execution_count": 5,
     "metadata": {},
     "output_type": "execute_result"
    }
   ],
   "source": [
    "mtrx = pd.DataFrame(data=[[abpg_2013], [agpg_2013]],\n",
    "                    index=[fr'$\\alpha \\geq {ea_threshold}$', fr'$\\alpha < {ea_threshold}$'],\n",
    "                    columns=['links'])\n",
    "abs_mtrx = mtrx.applymap(len)\n",
    "abs_mtrx"
   ]
  },
  {
   "cell_type": "code",
   "execution_count": 6,
   "metadata": {
    "ExecuteTime": {
     "end_time": "2020-01-08T04:58:30.595753Z",
     "start_time": "2020-01-08T04:58:30.575053Z"
    },
    "hidden": true
   },
   "outputs": [],
   "source": [
    "del abpg_2013\n",
    "del agpg_2013"
   ]
  },
  {
   "cell_type": "code",
   "execution_count": 7,
   "metadata": {
    "ExecuteTime": {
     "end_time": "2020-01-08T04:58:30.621812Z",
     "start_time": "2020-01-08T04:58:30.597143Z"
    },
    "hidden": true
   },
   "outputs": [
    {
     "data": {
      "text/html": [
       "<div>\n",
       "<style scoped>\n",
       "    .dataframe tbody tr th:only-of-type {\n",
       "        vertical-align: middle;\n",
       "    }\n",
       "\n",
       "    .dataframe tbody tr th {\n",
       "        vertical-align: top;\n",
       "    }\n",
       "\n",
       "    .dataframe thead th {\n",
       "        text-align: right;\n",
       "    }\n",
       "</style>\n",
       "<table border=\"1\" class=\"dataframe\">\n",
       "  <thead>\n",
       "    <tr style=\"text-align: right;\">\n",
       "      <th></th>\n",
       "      <th>links</th>\n",
       "    </tr>\n",
       "  </thead>\n",
       "  <tbody>\n",
       "    <tr>\n",
       "      <th>$\\alpha \\geq 0.1$</th>\n",
       "      <td>98.75233</td>\n",
       "    </tr>\n",
       "    <tr>\n",
       "      <th>$\\alpha &lt; 0.1$</th>\n",
       "      <td>1.24767</td>\n",
       "    </tr>\n",
       "  </tbody>\n",
       "</table>\n",
       "</div>"
      ],
      "text/plain": [
       "                      links\n",
       "$\\alpha \\geq 0.1$  98.75233\n",
       "$\\alpha < 0.1$      1.24767"
      ]
     },
     "execution_count": 7,
     "metadata": {},
     "output_type": "execute_result"
    }
   ],
   "source": [
    "abs_mtrx / abs_mtrx.sum() * 100"
   ]
  },
  {
   "cell_type": "code",
   "execution_count": 8,
   "metadata": {
    "ExecuteTime": {
     "end_time": "2020-01-08T04:58:31.611174Z",
     "start_time": "2020-01-08T04:58:30.622815Z"
    },
    "hidden": true
   },
   "outputs": [
    {
     "data": {
      "text/html": [
       "<div>\n",
       "<style scoped>\n",
       "    .dataframe tbody tr th:only-of-type {\n",
       "        vertical-align: middle;\n",
       "    }\n",
       "\n",
       "    .dataframe tbody tr th {\n",
       "        vertical-align: top;\n",
       "    }\n",
       "\n",
       "    .dataframe thead th {\n",
       "        text-align: right;\n",
       "    }\n",
       "</style>\n",
       "<table border=\"1\" class=\"dataframe\">\n",
       "  <thead>\n",
       "    <tr style=\"text-align: right;\">\n",
       "      <th></th>\n",
       "      <th>links</th>\n",
       "    </tr>\n",
       "  </thead>\n",
       "  <tbody>\n",
       "    <tr>\n",
       "      <th>$\\alpha \\geq 0.1$</th>\n",
       "      <td>475788</td>\n",
       "    </tr>\n",
       "    <tr>\n",
       "      <th>$\\alpha &lt; 0.1$</th>\n",
       "      <td>1389652</td>\n",
       "    </tr>\n",
       "  </tbody>\n",
       "</table>\n",
       "</div>"
      ],
      "text/plain": [
       "                     links\n",
       "$\\alpha \\geq 0.1$   475788\n",
       "$\\alpha < 0.1$     1389652"
      ]
     },
     "execution_count": 8,
     "metadata": {},
     "output_type": "execute_result"
    }
   ],
   "source": [
    "new_mtrx = mtrx.applymap(lambda x: x & agpg_2015)\n",
    "new_abs_mtrx = new_mtrx.applymap(len)\n",
    "new_abs_mtrx"
   ]
  },
  {
   "cell_type": "code",
   "execution_count": 9,
   "metadata": {
    "ExecuteTime": {
     "end_time": "2020-01-08T04:58:31.631932Z",
     "start_time": "2020-01-08T04:58:31.613299Z"
    },
    "hidden": true
   },
   "outputs": [
    {
     "data": {
      "text/plain": [
       "links    1865440\n",
       "dtype: int64"
      ]
     },
     "execution_count": 9,
     "metadata": {},
     "output_type": "execute_result"
    }
   ],
   "source": [
    "new_abs_mtrx.sum()"
   ]
  },
  {
   "cell_type": "code",
   "execution_count": 21,
   "metadata": {
    "ExecuteTime": {
     "end_time": "2020-01-08T05:05:54.539546Z",
     "start_time": "2020-01-08T05:05:54.501662Z"
    },
    "hidden": true
   },
   "outputs": [
    {
     "data": {
      "text/html": [
       "<div>\n",
       "<style scoped>\n",
       "    .dataframe tbody tr th:only-of-type {\n",
       "        vertical-align: middle;\n",
       "    }\n",
       "\n",
       "    .dataframe tbody tr th {\n",
       "        vertical-align: top;\n",
       "    }\n",
       "\n",
       "    .dataframe thead th {\n",
       "        text-align: right;\n",
       "    }\n",
       "</style>\n",
       "<table border=\"1\" class=\"dataframe\">\n",
       "  <thead>\n",
       "    <tr style=\"text-align: right;\">\n",
       "      <th></th>\n",
       "      <th>links</th>\n",
       "    </tr>\n",
       "  </thead>\n",
       "  <tbody>\n",
       "    <tr>\n",
       "      <th>$\\alpha \\geq 0.1$</th>\n",
       "      <td>0.365881</td>\n",
       "    </tr>\n",
       "    <tr>\n",
       "      <th>$\\alpha &lt; 0.1$</th>\n",
       "      <td>84.582320</td>\n",
       "    </tr>\n",
       "  </tbody>\n",
       "</table>\n",
       "</div>"
      ],
      "text/plain": [
       "                       links\n",
       "$\\alpha \\geq 0.1$   0.365881\n",
       "$\\alpha < 0.1$     84.582320"
      ]
     },
     "execution_count": 21,
     "metadata": {},
     "output_type": "execute_result"
    }
   ],
   "source": [
    "new_abs_mtrx / abs_mtrx * 100"
   ]
  },
  {
   "cell_type": "code",
   "execution_count": 14,
   "metadata": {
    "ExecuteTime": {
     "end_time": "2020-01-08T05:00:41.718117Z",
     "start_time": "2020-01-08T04:59:29.873436Z"
    },
    "hidden": true
   },
   "outputs": [
    {
     "data": {
      "text/html": [
       "<div>\n",
       "<style scoped>\n",
       "    .dataframe tbody tr th:only-of-type {\n",
       "        vertical-align: middle;\n",
       "    }\n",
       "\n",
       "    .dataframe tbody tr th {\n",
       "        vertical-align: top;\n",
       "    }\n",
       "\n",
       "    .dataframe thead th {\n",
       "        text-align: right;\n",
       "    }\n",
       "</style>\n",
       "<table border=\"1\" class=\"dataframe\">\n",
       "  <thead>\n",
       "    <tr style=\"text-align: right;\">\n",
       "      <th></th>\n",
       "      <th>$s_{emb} \\leq 0.6$</th>\n",
       "      <th>$s_{emb} &gt; 0.6$</th>\n",
       "    </tr>\n",
       "  </thead>\n",
       "  <tbody>\n",
       "    <tr>\n",
       "      <th>$\\alpha \\geq 0.1$</th>\n",
       "      <td>128412677</td>\n",
       "      <td>1626471</td>\n",
       "    </tr>\n",
       "    <tr>\n",
       "      <th>$\\alpha &lt; 0.1$</th>\n",
       "      <td>1275196</td>\n",
       "      <td>367762</td>\n",
       "    </tr>\n",
       "  </tbody>\n",
       "</table>\n",
       "</div>"
      ],
      "text/plain": [
       "                   $s_{emb} \\leq 0.6$  $s_{emb} > 0.6$\n",
       "$\\alpha \\geq 0.1$           128412677          1626471\n",
       "$\\alpha < 0.1$                1275196           367762"
      ]
     },
     "execution_count": 14,
     "metadata": {},
     "output_type": "execute_result"
    }
   ],
   "source": [
    "ext_abs_mtrx = pd.concat([mtrx.applymap(lambda x: len(x & bpe_2013)), mtrx.applymap(lambda x: len(x & gpe_2013))], 1)\n",
    "ext_abs_mtrx.columns = [fr'$s_{{emb}} \\leq {emb_sim_threshold}$', f'$s_{{emb}} > {emb_sim_threshold}$']\n",
    "ext_abs_mtrx"
   ]
  },
  {
   "cell_type": "markdown",
   "metadata": {
    "hidden": true
   },
   "source": [
    "Percentage of similar ($s_{emb} > 0.6$) links"
   ]
  },
  {
   "cell_type": "code",
   "execution_count": 15,
   "metadata": {
    "ExecuteTime": {
     "end_time": "2020-01-08T05:00:41.751349Z",
     "start_time": "2020-01-08T05:00:41.720028Z"
    },
    "hidden": true
   },
   "outputs": [
    {
     "data": {
      "text/html": [
       "<div>\n",
       "<style scoped>\n",
       "    .dataframe tbody tr th:only-of-type {\n",
       "        vertical-align: middle;\n",
       "    }\n",
       "\n",
       "    .dataframe tbody tr th {\n",
       "        vertical-align: top;\n",
       "    }\n",
       "\n",
       "    .dataframe thead th {\n",
       "        text-align: right;\n",
       "    }\n",
       "</style>\n",
       "<table border=\"1\" class=\"dataframe\">\n",
       "  <thead>\n",
       "    <tr style=\"text-align: right;\">\n",
       "      <th></th>\n",
       "      <th>0</th>\n",
       "    </tr>\n",
       "  </thead>\n",
       "  <tbody>\n",
       "    <tr>\n",
       "      <th>$\\alpha \\geq 0.1$</th>\n",
       "      <td>1.250755</td>\n",
       "    </tr>\n",
       "    <tr>\n",
       "      <th>$\\alpha &lt; 0.1$</th>\n",
       "      <td>22.384139</td>\n",
       "    </tr>\n",
       "  </tbody>\n",
       "</table>\n",
       "</div>"
      ],
      "text/plain": [
       "                           0\n",
       "$\\alpha \\geq 0.1$   1.250755\n",
       "$\\alpha < 0.1$     22.384139"
      ]
     },
     "execution_count": 15,
     "metadata": {},
     "output_type": "execute_result"
    }
   ],
   "source": [
    "(ext_abs_mtrx.iloc[:,1] / ext_abs_mtrx.sum(1)).to_frame() * 100"
   ]
  },
  {
   "cell_type": "code",
   "execution_count": 16,
   "metadata": {
    "ExecuteTime": {
     "end_time": "2020-01-08T05:00:42.862076Z",
     "start_time": "2020-01-08T05:00:41.752584Z"
    },
    "hidden": true
   },
   "outputs": [
    {
     "data": {
      "text/html": [
       "<div>\n",
       "<style scoped>\n",
       "    .dataframe tbody tr th:only-of-type {\n",
       "        vertical-align: middle;\n",
       "    }\n",
       "\n",
       "    .dataframe tbody tr th {\n",
       "        vertical-align: top;\n",
       "    }\n",
       "\n",
       "    .dataframe thead th {\n",
       "        text-align: right;\n",
       "    }\n",
       "</style>\n",
       "<table border=\"1\" class=\"dataframe\">\n",
       "  <thead>\n",
       "    <tr style=\"text-align: right;\">\n",
       "      <th></th>\n",
       "      <th>$s_{emb} \\leq 0.6$</th>\n",
       "      <th>$s_{emb} &gt; 0.6$</th>\n",
       "    </tr>\n",
       "  </thead>\n",
       "  <tbody>\n",
       "    <tr>\n",
       "      <th>$\\alpha \\geq 0.1$</th>\n",
       "      <td>426902</td>\n",
       "      <td>48886</td>\n",
       "    </tr>\n",
       "    <tr>\n",
       "      <th>$\\alpha &lt; 0.1$</th>\n",
       "      <td>1054765</td>\n",
       "      <td>334887</td>\n",
       "    </tr>\n",
       "  </tbody>\n",
       "</table>\n",
       "</div>"
      ],
      "text/plain": [
       "                   $s_{emb} \\leq 0.6$  $s_{emb} > 0.6$\n",
       "$\\alpha \\geq 0.1$              426902            48886\n",
       "$\\alpha < 0.1$                1054765           334887"
      ]
     },
     "execution_count": 16,
     "metadata": {},
     "output_type": "execute_result"
    }
   ],
   "source": [
    "new_ext_abs_mtrx = pd.concat([new_mtrx.applymap(lambda x: len(x & bpe_2013)), new_mtrx.applymap(lambda x: len(x & gpe_2013))], 1)\n",
    "new_ext_abs_mtrx.columns = [fr'$s_{{emb}} \\leq {emb_sim_threshold}$', f'$s_{{emb}} > {emb_sim_threshold}$']\n",
    "new_ext_abs_mtrx"
   ]
  },
  {
   "cell_type": "code",
   "execution_count": 17,
   "metadata": {
    "ExecuteTime": {
     "end_time": "2020-01-08T05:00:42.881952Z",
     "start_time": "2020-01-08T05:00:42.863294Z"
    },
    "hidden": true
   },
   "outputs": [
    {
     "data": {
      "text/plain": [
       "1865440"
      ]
     },
     "execution_count": 17,
     "metadata": {},
     "output_type": "execute_result"
    }
   ],
   "source": [
    "new_ext_abs_mtrx.sum().sum()"
   ]
  },
  {
   "cell_type": "code",
   "execution_count": 18,
   "metadata": {
    "ExecuteTime": {
     "end_time": "2020-01-08T05:00:42.900211Z",
     "start_time": "2020-01-08T05:00:42.883008Z"
    },
    "hidden": true
   },
   "outputs": [
    {
     "data": {
      "text/plain": [
       "4048"
      ]
     },
     "execution_count": 18,
     "metadata": {},
     "output_type": "execute_result"
    }
   ],
   "source": [
    "len(agpg_2015) - new_ext_abs_mtrx.sum().sum()"
   ]
  },
  {
   "cell_type": "code",
   "execution_count": 19,
   "metadata": {
    "ExecuteTime": {
     "end_time": "2020-01-08T05:00:42.918485Z",
     "start_time": "2020-01-08T05:00:42.901271Z"
    },
    "hidden": true
   },
   "outputs": [
    {
     "data": {
      "text/plain": [
       "0.0021699974268805213"
      ]
     },
     "execution_count": 19,
     "metadata": {},
     "output_type": "execute_result"
    }
   ],
   "source": [
    "(len(agpg_2015) - new_ext_abs_mtrx.sum().sum()) / new_ext_abs_mtrx.sum().sum()"
   ]
  },
  {
   "cell_type": "code",
   "execution_count": 20,
   "metadata": {
    "ExecuteTime": {
     "end_time": "2020-01-08T05:00:42.939370Z",
     "start_time": "2020-01-08T05:00:42.919891Z"
    },
    "hidden": true
   },
   "outputs": [
    {
     "data": {
      "text/html": [
       "<div>\n",
       "<style scoped>\n",
       "    .dataframe tbody tr th:only-of-type {\n",
       "        vertical-align: middle;\n",
       "    }\n",
       "\n",
       "    .dataframe tbody tr th {\n",
       "        vertical-align: top;\n",
       "    }\n",
       "\n",
       "    .dataframe thead th {\n",
       "        text-align: right;\n",
       "    }\n",
       "</style>\n",
       "<table border=\"1\" class=\"dataframe\">\n",
       "  <thead>\n",
       "    <tr style=\"text-align: right;\">\n",
       "      <th></th>\n",
       "      <th>$s_{emb} \\leq 0.6$</th>\n",
       "      <th>$s_{emb} &gt; 0.6$</th>\n",
       "    </tr>\n",
       "  </thead>\n",
       "  <tbody>\n",
       "    <tr>\n",
       "      <th>$\\alpha \\geq 0.1$</th>\n",
       "      <td>0.332445</td>\n",
       "      <td>3.005648</td>\n",
       "    </tr>\n",
       "    <tr>\n",
       "      <th>$\\alpha &lt; 0.1$</th>\n",
       "      <td>82.713951</td>\n",
       "      <td>91.060795</td>\n",
       "    </tr>\n",
       "  </tbody>\n",
       "</table>\n",
       "</div>"
      ],
      "text/plain": [
       "                   $s_{emb} \\leq 0.6$  $s_{emb} > 0.6$\n",
       "$\\alpha \\geq 0.1$            0.332445         3.005648\n",
       "$\\alpha < 0.1$              82.713951        91.060795"
      ]
     },
     "execution_count": 20,
     "metadata": {},
     "output_type": "execute_result"
    }
   ],
   "source": [
    "perc_mtrx = new_ext_abs_mtrx / ext_abs_mtrx\n",
    "perc_mtrx * 100"
   ]
  },
  {
   "cell_type": "markdown",
   "metadata": {
    "heading_collapsed": true
   },
   "source": [
    "## scatterplot: embeddings similarity to weights"
   ]
  },
  {
   "cell_type": "code",
   "execution_count": 3,
   "metadata": {
    "ExecuteTime": {
     "end_time": "2020-01-08T18:24:33.368533Z",
     "start_time": "2020-01-08T18:24:33.333227Z"
    },
    "hidden": true
   },
   "outputs": [],
   "source": [
    "plt.rcParams['font.size'] = 32\n",
    "plt.rcParams['figure.facecolor'] = '1'\n",
    "plt.rcParams['xtick.bottom'] = True\n",
    "plt.rcParams['ytick.left'] = True\n",
    "# for c in ['size', 'pad', 'width']:\n",
    "#     for a in ['x', 'y']:\n",
    "#         for t in ['major', 'minor']:\n",
    "#             plt.rcParams[f'{a}tick.{t}.{c}'] *= 2\n",
    "\n",
    "# plt.rcParams['grid.color'] = '1'"
   ]
  },
  {
   "cell_type": "code",
   "execution_count": 4,
   "metadata": {
    "ExecuteTime": {
     "end_time": "2020-01-08T18:24:43.584788Z",
     "start_time": "2020-01-08T18:24:35.268948Z"
    },
    "hidden": true
   },
   "outputs": [
    {
     "data": {
      "text/html": [
       "<div>\n",
       "<style scoped>\n",
       "    .dataframe tbody tr th:only-of-type {\n",
       "        vertical-align: middle;\n",
       "    }\n",
       "\n",
       "    .dataframe tbody tr th {\n",
       "        vertical-align: top;\n",
       "    }\n",
       "\n",
       "    .dataframe thead th {\n",
       "        text-align: right;\n",
       "    }\n",
       "</style>\n",
       "<table border=\"1\" class=\"dataframe\">\n",
       "  <thead>\n",
       "    <tr style=\"text-align: right;\">\n",
       "      <th></th>\n",
       "      <th></th>\n",
       "      <th>0</th>\n",
       "      <th>1</th>\n",
       "    </tr>\n",
       "  </thead>\n",
       "  <tbody>\n",
       "    <tr>\n",
       "      <th rowspan=\"30\" valign=\"top\">3</th>\n",
       "      <th>4</th>\n",
       "      <td>0.0</td>\n",
       "      <td>-0.003013</td>\n",
       "    </tr>\n",
       "    <tr>\n",
       "      <th>5</th>\n",
       "      <td>5.0</td>\n",
       "      <td>0.391918</td>\n",
       "    </tr>\n",
       "    <tr>\n",
       "      <th>6</th>\n",
       "      <td>0.0</td>\n",
       "      <td>-0.028788</td>\n",
       "    </tr>\n",
       "    <tr>\n",
       "      <th>7</th>\n",
       "      <td>2.0</td>\n",
       "      <td>0.323505</td>\n",
       "    </tr>\n",
       "    <tr>\n",
       "      <th>9</th>\n",
       "      <td>43.0</td>\n",
       "      <td>0.462139</td>\n",
       "    </tr>\n",
       "    <tr>\n",
       "      <th>10</th>\n",
       "      <td>19.0</td>\n",
       "      <td>0.382677</td>\n",
       "    </tr>\n",
       "    <tr>\n",
       "      <th>11</th>\n",
       "      <td>104.0</td>\n",
       "      <td>0.592523</td>\n",
       "    </tr>\n",
       "    <tr>\n",
       "      <th>14</th>\n",
       "      <td>19.0</td>\n",
       "      <td>0.467974</td>\n",
       "    </tr>\n",
       "    <tr>\n",
       "      <th>15</th>\n",
       "      <td>0.0</td>\n",
       "      <td>0.131126</td>\n",
       "    </tr>\n",
       "    <tr>\n",
       "      <th>16</th>\n",
       "      <td>16.0</td>\n",
       "      <td>0.341297</td>\n",
       "    </tr>\n",
       "    <tr>\n",
       "      <th>18</th>\n",
       "      <td>46.0</td>\n",
       "      <td>0.482850</td>\n",
       "    </tr>\n",
       "    <tr>\n",
       "      <th>19</th>\n",
       "      <td>0.0</td>\n",
       "      <td>-0.066713</td>\n",
       "    </tr>\n",
       "    <tr>\n",
       "      <th>20</th>\n",
       "      <td>27.0</td>\n",
       "      <td>0.422613</td>\n",
       "    </tr>\n",
       "    <tr>\n",
       "      <th>22</th>\n",
       "      <td>6.0</td>\n",
       "      <td>0.308298</td>\n",
       "    </tr>\n",
       "    <tr>\n",
       "      <th>24</th>\n",
       "      <td>48.0</td>\n",
       "      <td>0.517950</td>\n",
       "    </tr>\n",
       "    <tr>\n",
       "      <th>25</th>\n",
       "      <td>54.0</td>\n",
       "      <td>0.526832</td>\n",
       "    </tr>\n",
       "    <tr>\n",
       "      <th>26</th>\n",
       "      <td>0.0</td>\n",
       "      <td>0.241012</td>\n",
       "    </tr>\n",
       "    <tr>\n",
       "      <th>28</th>\n",
       "      <td>29.0</td>\n",
       "      <td>0.365540</td>\n",
       "    </tr>\n",
       "    <tr>\n",
       "      <th>30</th>\n",
       "      <td>80.0</td>\n",
       "      <td>0.533499</td>\n",
       "    </tr>\n",
       "    <tr>\n",
       "      <th>31</th>\n",
       "      <td>15.0</td>\n",
       "      <td>0.402451</td>\n",
       "    </tr>\n",
       "    <tr>\n",
       "      <th>32</th>\n",
       "      <td>0.0</td>\n",
       "      <td>0.163974</td>\n",
       "    </tr>\n",
       "    <tr>\n",
       "      <th>33</th>\n",
       "      <td>87.0</td>\n",
       "      <td>0.596989</td>\n",
       "    </tr>\n",
       "    <tr>\n",
       "      <th>35</th>\n",
       "      <td>0.0</td>\n",
       "      <td>0.032201</td>\n",
       "    </tr>\n",
       "    <tr>\n",
       "      <th>37</th>\n",
       "      <td>4.0</td>\n",
       "      <td>0.144085</td>\n",
       "    </tr>\n",
       "    <tr>\n",
       "      <th>39</th>\n",
       "      <td>16.0</td>\n",
       "      <td>0.350830</td>\n",
       "    </tr>\n",
       "    <tr>\n",
       "      <th>40</th>\n",
       "      <td>43.0</td>\n",
       "      <td>0.392340</td>\n",
       "    </tr>\n",
       "    <tr>\n",
       "      <th>42</th>\n",
       "      <td>11.0</td>\n",
       "      <td>0.301705</td>\n",
       "    </tr>\n",
       "    <tr>\n",
       "      <th>43</th>\n",
       "      <td>32.0</td>\n",
       "      <td>0.426478</td>\n",
       "    </tr>\n",
       "    <tr>\n",
       "      <th>44</th>\n",
       "      <td>21.0</td>\n",
       "      <td>0.386045</td>\n",
       "    </tr>\n",
       "    <tr>\n",
       "      <th>45</th>\n",
       "      <td>89.0</td>\n",
       "      <td>0.516013</td>\n",
       "    </tr>\n",
       "    <tr>\n",
       "      <th>...</th>\n",
       "      <th>...</th>\n",
       "      <td>...</td>\n",
       "      <td>...</td>\n",
       "    </tr>\n",
       "    <tr>\n",
       "      <th rowspan=\"2\" valign=\"top\">204844</th>\n",
       "      <th>204881</th>\n",
       "      <td>0.0</td>\n",
       "      <td>0.062983</td>\n",
       "    </tr>\n",
       "    <tr>\n",
       "      <th>204883</th>\n",
       "      <td>0.0</td>\n",
       "      <td>0.125196</td>\n",
       "    </tr>\n",
       "    <tr>\n",
       "      <th rowspan=\"7\" valign=\"top\">204848</th>\n",
       "      <th>204850</th>\n",
       "      <td>0.0</td>\n",
       "      <td>0.828504</td>\n",
       "    </tr>\n",
       "    <tr>\n",
       "      <th>204851</th>\n",
       "      <td>0.0</td>\n",
       "      <td>0.783256</td>\n",
       "    </tr>\n",
       "    <tr>\n",
       "      <th>204853</th>\n",
       "      <td>0.0</td>\n",
       "      <td>0.770496</td>\n",
       "    </tr>\n",
       "    <tr>\n",
       "      <th>204856</th>\n",
       "      <td>0.0</td>\n",
       "      <td>0.779370</td>\n",
       "    </tr>\n",
       "    <tr>\n",
       "      <th>204867</th>\n",
       "      <td>0.0</td>\n",
       "      <td>0.513923</td>\n",
       "    </tr>\n",
       "    <tr>\n",
       "      <th>204881</th>\n",
       "      <td>0.0</td>\n",
       "      <td>0.247882</td>\n",
       "    </tr>\n",
       "    <tr>\n",
       "      <th>204883</th>\n",
       "      <td>0.0</td>\n",
       "      <td>0.479964</td>\n",
       "    </tr>\n",
       "    <tr>\n",
       "      <th rowspan=\"6\" valign=\"top\">204850</th>\n",
       "      <th>204851</th>\n",
       "      <td>0.0</td>\n",
       "      <td>0.721888</td>\n",
       "    </tr>\n",
       "    <tr>\n",
       "      <th>204853</th>\n",
       "      <td>0.0</td>\n",
       "      <td>0.719340</td>\n",
       "    </tr>\n",
       "    <tr>\n",
       "      <th>204856</th>\n",
       "      <td>0.0</td>\n",
       "      <td>0.751287</td>\n",
       "    </tr>\n",
       "    <tr>\n",
       "      <th>204867</th>\n",
       "      <td>0.0</td>\n",
       "      <td>0.423147</td>\n",
       "    </tr>\n",
       "    <tr>\n",
       "      <th>204881</th>\n",
       "      <td>0.0</td>\n",
       "      <td>0.234566</td>\n",
       "    </tr>\n",
       "    <tr>\n",
       "      <th>204883</th>\n",
       "      <td>0.0</td>\n",
       "      <td>0.445436</td>\n",
       "    </tr>\n",
       "    <tr>\n",
       "      <th rowspan=\"5\" valign=\"top\">204851</th>\n",
       "      <th>204853</th>\n",
       "      <td>1.0</td>\n",
       "      <td>0.990353</td>\n",
       "    </tr>\n",
       "    <tr>\n",
       "      <th>204856</th>\n",
       "      <td>0.0</td>\n",
       "      <td>0.830331</td>\n",
       "    </tr>\n",
       "    <tr>\n",
       "      <th>204867</th>\n",
       "      <td>0.0</td>\n",
       "      <td>0.380312</td>\n",
       "    </tr>\n",
       "    <tr>\n",
       "      <th>204881</th>\n",
       "      <td>0.0</td>\n",
       "      <td>0.369898</td>\n",
       "    </tr>\n",
       "    <tr>\n",
       "      <th>204883</th>\n",
       "      <td>0.0</td>\n",
       "      <td>0.424199</td>\n",
       "    </tr>\n",
       "    <tr>\n",
       "      <th rowspan=\"4\" valign=\"top\">204853</th>\n",
       "      <th>204856</th>\n",
       "      <td>0.0</td>\n",
       "      <td>0.823106</td>\n",
       "    </tr>\n",
       "    <tr>\n",
       "      <th>204867</th>\n",
       "      <td>0.0</td>\n",
       "      <td>0.367315</td>\n",
       "    </tr>\n",
       "    <tr>\n",
       "      <th>204881</th>\n",
       "      <td>0.0</td>\n",
       "      <td>0.368222</td>\n",
       "    </tr>\n",
       "    <tr>\n",
       "      <th>204883</th>\n",
       "      <td>0.0</td>\n",
       "      <td>0.412905</td>\n",
       "    </tr>\n",
       "    <tr>\n",
       "      <th rowspan=\"3\" valign=\"top\">204856</th>\n",
       "      <th>204867</th>\n",
       "      <td>0.0</td>\n",
       "      <td>0.431244</td>\n",
       "    </tr>\n",
       "    <tr>\n",
       "      <th>204881</th>\n",
       "      <td>0.0</td>\n",
       "      <td>0.329832</td>\n",
       "    </tr>\n",
       "    <tr>\n",
       "      <th>204883</th>\n",
       "      <td>0.0</td>\n",
       "      <td>0.468062</td>\n",
       "    </tr>\n",
       "    <tr>\n",
       "      <th rowspan=\"2\" valign=\"top\">204867</th>\n",
       "      <th>204881</th>\n",
       "      <td>0.0</td>\n",
       "      <td>0.251301</td>\n",
       "    </tr>\n",
       "    <tr>\n",
       "      <th>204883</th>\n",
       "      <td>0.0</td>\n",
       "      <td>0.685838</td>\n",
       "    </tr>\n",
       "    <tr>\n",
       "      <th>204881</th>\n",
       "      <th>204883</th>\n",
       "      <td>0.0</td>\n",
       "      <td>0.231877</td>\n",
       "    </tr>\n",
       "  </tbody>\n",
       "</table>\n",
       "<p>131682106 rows × 2 columns</p>\n",
       "</div>"
      ],
      "text/plain": [
       "                   0         1\n",
       "3      4         0.0 -0.003013\n",
       "       5         5.0  0.391918\n",
       "       6         0.0 -0.028788\n",
       "       7         2.0  0.323505\n",
       "       9        43.0  0.462139\n",
       "       10       19.0  0.382677\n",
       "       11      104.0  0.592523\n",
       "       14       19.0  0.467974\n",
       "       15        0.0  0.131126\n",
       "       16       16.0  0.341297\n",
       "       18       46.0  0.482850\n",
       "       19        0.0 -0.066713\n",
       "       20       27.0  0.422613\n",
       "       22        6.0  0.308298\n",
       "       24       48.0  0.517950\n",
       "       25       54.0  0.526832\n",
       "       26        0.0  0.241012\n",
       "       28       29.0  0.365540\n",
       "       30       80.0  0.533499\n",
       "       31       15.0  0.402451\n",
       "       32        0.0  0.163974\n",
       "       33       87.0  0.596989\n",
       "       35        0.0  0.032201\n",
       "       37        4.0  0.144085\n",
       "       39       16.0  0.350830\n",
       "       40       43.0  0.392340\n",
       "       42       11.0  0.301705\n",
       "       43       32.0  0.426478\n",
       "       44       21.0  0.386045\n",
       "       45       89.0  0.516013\n",
       "...              ...       ...\n",
       "204844 204881    0.0  0.062983\n",
       "       204883    0.0  0.125196\n",
       "204848 204850    0.0  0.828504\n",
       "       204851    0.0  0.783256\n",
       "       204853    0.0  0.770496\n",
       "       204856    0.0  0.779370\n",
       "       204867    0.0  0.513923\n",
       "       204881    0.0  0.247882\n",
       "       204883    0.0  0.479964\n",
       "204850 204851    0.0  0.721888\n",
       "       204853    0.0  0.719340\n",
       "       204856    0.0  0.751287\n",
       "       204867    0.0  0.423147\n",
       "       204881    0.0  0.234566\n",
       "       204883    0.0  0.445436\n",
       "204851 204853    1.0  0.990353\n",
       "       204856    0.0  0.830331\n",
       "       204867    0.0  0.380312\n",
       "       204881    0.0  0.369898\n",
       "       204883    0.0  0.424199\n",
       "204853 204856    0.0  0.823106\n",
       "       204867    0.0  0.367315\n",
       "       204881    0.0  0.368222\n",
       "       204883    0.0  0.412905\n",
       "204856 204867    0.0  0.431244\n",
       "       204881    0.0  0.329832\n",
       "       204883    0.0  0.468062\n",
       "204867 204881    0.0  0.251301\n",
       "       204883    0.0  0.685838\n",
       "204881 204883    0.0  0.231877\n",
       "\n",
       "[131682106 rows x 2 columns]"
      ]
     },
     "execution_count": 4,
     "metadata": {},
     "output_type": "execute_result"
    }
   ],
   "source": [
    "comp_df = pd.concat([ew_2013_s, emb_sim_2013_s], axis=1)\n",
    "# column_names = ['weight of the link between two concepts $w_{ij}$ for unfiltered 2013 network, $log_{10}$ scale',\n",
    "#                 'embedding similarity between the corresponding concepts']\n",
    "# comp_df.columns = column_names\n",
    "# comp_df[column_names[0]] = comp_df[column_names[0]].map(lambda x: np.log10(x) if x > 0 else None)\n",
    "comp_df"
   ]
  },
  {
   "cell_type": "code",
   "execution_count": 21,
   "metadata": {
    "ExecuteTime": {
     "end_time": "2020-01-08T02:00:28.862273Z",
     "start_time": "2020-01-08T02:00:27.553038Z"
    },
    "hidden": true
   },
   "outputs": [
    {
     "data": {
      "text/plain": [
       "(11139356, 3)"
      ]
     },
     "execution_count": 21,
     "metadata": {},
     "output_type": "execute_result"
    }
   ],
   "source": [
    "comp_df[comp_df[0] > 0].shape"
   ]
  },
  {
   "cell_type": "code",
   "execution_count": 31,
   "metadata": {
    "ExecuteTime": {
     "end_time": "2020-01-06T01:43:37.300156Z",
     "start_time": "2020-01-06T01:35:19.767458Z"
    },
    "hidden": true
   },
   "outputs": [
    {
     "data": {
      "image/png": "[encoded data removed]",
      "text/plain": [
       "<Figure size 1296x504 with 1 Axes>"
      ]
     },
     "metadata": {},
     "output_type": "display_data"
    }
   ],
   "source": [
    "comp_df[comp_df[0] > 0].plot.scatter(0, 1, alpha=.3)\n",
    "plt.xlabel('weight $w_{ij}$ of a link')\n",
    "plt.ylabel('embedding similarity $s_{ij}$')\n",
    "plt.hlines(.6, xmin=1, xmax=comp_df[0].max())\n",
    "plt.vlines(10, ymin=comp_df[1].min(), ymax=comp_df[1].max())\n",
    "plt.yticks([-.6, 0, .6, 1], [-.6, 0, .6, 1])\n",
    "plt.xscale('log')\n",
    "plt.savefig('./results/weight_emb_scatter_log10.pdf', bbox_inches='tight')"
   ]
  },
  {
   "cell_type": "code",
   "execution_count": 38,
   "metadata": {
    "ExecuteTime": {
     "end_time": "2020-01-06T01:49:57.964881Z",
     "start_time": "2020-01-06T01:49:49.150537Z"
    },
    "hidden": true
   },
   "outputs": [
    {
     "data": {
      "image/png": "[encoded data removed]",
      "text/plain": [
       "<Figure size 1296x504 with 1 Axes>"
      ]
     },
     "metadata": {},
     "output_type": "display_data"
    }
   ],
   "source": [
    "comp_df[comp_df[0] > 0].sample(100_000).plot.scatter(0, 1, alpha=.3)\n",
    "plt.xlabel('weight $w_{ij}$ of a link')\n",
    "plt.ylabel('embedding similarity $s_{ij}$')\n",
    "plt.hlines(.6, xmin=1, xmax=comp_df[0].max())\n",
    "plt.vlines(10, ymin=comp_df[1].min(), ymax=comp_df[1].max())\n",
    "plt.yticks([-.6, 0, .6, 1], [-.6, 0, .6, 1])\n",
    "plt.xscale('log')\n",
    "plt.savefig('./results/weight_emb_scatter_log10.pdf', bbox_inches='tight')"
   ]
  },
  {
   "cell_type": "code",
   "execution_count": 6,
   "metadata": {
    "ExecuteTime": {
     "end_time": "2020-01-08T18:24:54.392273Z",
     "start_time": "2020-01-08T18:24:53.288958Z"
    },
    "hidden": true
   },
   "outputs": [
    {
     "data": {
      "text/plain": [
       "False    120542750\n",
       "True      11139356\n",
       "Name: link, dtype: int64"
      ]
     },
     "execution_count": 6,
     "metadata": {},
     "output_type": "execute_result"
    }
   ],
   "source": [
    "comp_df['link'] = comp_df[0] != 0\n",
    "comp_df['link'].value_counts()"
   ]
  },
  {
   "cell_type": "code",
   "execution_count": 15,
   "metadata": {
    "ExecuteTime": {
     "end_time": "2020-01-08T18:29:10.874110Z",
     "start_time": "2020-01-08T18:29:01.733920Z"
    },
    "hidden": true
   },
   "outputs": [
    {
     "data": {
      "image/png": "[encoded data removed]",
      "text/plain": [
       "<Figure size 1296x504 with 1 Axes>"
      ]
     },
     "metadata": {},
     "output_type": "display_data"
    }
   ],
   "source": [
    "gb = comp_df.groupby('link')[1]\n",
    "ax = gb.hist(bins=100, alpha=.7)\n",
    "plt.xlabel('embedding similarity $s_{ij}$')\n",
    "plt.ylabel('$P(s)$')\n",
    "plt.yticks([], [])\n",
    "plt.grid(b=None)\n",
    "ax.map(lambda x: x.spines['top'].set_visible(False))\n",
    "ax.map(lambda x: x.spines['left'].set_visible(False))\n",
    "ax.map(lambda x: x.spines['right'].set_visible(False))\n",
    "plt.legend(['no link (zero weight)', 'link exists (weight > 0)'])\n",
    "plt.vlines(.6, ymin=0, ymax=250_000)\n",
    "plt.savefig('./results/emb_sim_distr.pdf', bbox_inches='tight')"
   ]
  },
  {
   "cell_type": "code",
   "execution_count": null,
   "metadata": {
    "hidden": true
   },
   "outputs": [],
   "source": [
    "plt.rcParams['font.size'] = 11\n",
    "plt.rcParams['figure.facecolor'] = '.75'\n",
    "plt.rcParams['xtick.bottom'] = True\n",
    "plt.rcParams['ytick.left'] = True\n",
    "for c in ['size', 'pad', 'width']:\n",
    "    for a in ['x', 'y']:\n",
    "        for t in ['major', 'minor']:\n",
    "            plt.rcParams[f'{a}tick.{t}.{c}'] /= 2\n",
    "\n",
    "# plt.rcParams['grid.color'] = '.8'"
   ]
  },
  {
   "cell_type": "markdown",
   "metadata": {
    "heading_collapsed": true
   },
   "source": [
    "## pairs"
   ]
  },
  {
   "cell_type": "code",
   "execution_count": null,
   "metadata": {
    "hidden": true
   },
   "outputs": [],
   "source": [
    "def get_pair_info(pair):\n",
    "    l_name, r_name = pair\n",
    "    ln = g_2013.vs.find(name=str(CONCEPTS_NAME_ID_DICT[l_name]))\n",
    "    rn = g_2013.vs.find(name=str(CONCEPTS_NAME_ID_DICT[r_name]))\n",
    "    e = (g_2013.subgraph([ln, rn]).es or [{'weight': 0, 'alpha': scaler_2013.index.max()}])[0]\n",
    "    r = {\n",
    "        'l_name': l_name,\n",
    "        'r_name': r_name,\n",
    "        'l_strength_2013': int(ln['strength']),\n",
    "        'l_degree_2013': int(ln.degree()),\n",
    "        'weight_2013': int(e['weight']),\n",
    "        'p_value_2013': round(e['alpha_p_value'], 4),\n",
    "        'r_degree_2013': int(rn.degree()),\n",
    "        'r_strength_2013': int(rn['strength'])\n",
    "    }\n",
    "    ln = g_2015.vs.find(name=str(CONCEPTS_NAME_ID_DICT[l_name]))\n",
    "    rn = g_2015.vs.find(name=str(CONCEPTS_NAME_ID_DICT[r_name]))\n",
    "    e = (g_2015.subgraph([ln, rn]).es or [{'weight': 0, 'alpha': scaler_2015.index.max()}])[0]\n",
    "    r.update({\n",
    "        'l_strength_2015': int(ln['strength']),\n",
    "        'l_degree_2015': int(ln.degree()),\n",
    "        'weight_2015': int(e['weight']),\n",
    "        'p_value_2015': round(e['alpha_p_value'], 4),\n",
    "        'r_degree_2015': int(rn.degree()),\n",
    "        'r_strength_2015': int(rn['strength'])\n",
    "    })\n",
    "    return r"
   ]
  },
  {
   "cell_type": "markdown",
   "metadata": {
    "heading_collapsed": true,
    "hidden": true
   },
   "source": [
    "### ggw"
   ]
  },
  {
   "cell_type": "code",
   "execution_count": null,
   "metadata": {
    "hidden": true
   },
   "outputs": [],
   "source": [
    "gg_pairs = list(gpg_2013 & gpg_2015)\n",
    "len(gg_pairs)"
   ]
  },
  {
   "cell_type": "code",
   "execution_count": null,
   "metadata": {
    "hidden": true
   },
   "outputs": [],
   "source": [
    "gg_pairs = ew_2013_s.loc[gg_pairs[:100_000]].sort_values()\n",
    "gg_pairs.describe(percentiles=[.01, .05, .1, .25, .5, .75, .9, .95, .99])"
   ]
  },
  {
   "cell_type": "code",
   "execution_count": null,
   "metadata": {
    "hidden": true
   },
   "outputs": [],
   "source": [
    "gg_pairs.map(np.log10).hist(bins='auto');"
   ]
  },
  {
   "cell_type": "code",
   "execution_count": null,
   "metadata": {
    "hidden": true
   },
   "outputs": [],
   "source": [
    "get_pair_info(gg_pairs.index[0])"
   ]
  },
  {
   "cell_type": "code",
   "execution_count": null,
   "metadata": {
    "hidden": true
   },
   "outputs": [],
   "source": [
    "curr_pairs = (gg_pairs[:5].index.tolist() +\n",
    "              gg_pairs[len(gg_pairs) // 3:len(gg_pairs) // 3 + 5].index.tolist() +\n",
    "              gg_pairs[len(gg_pairs) // 3 * 2:len(gg_pairs) // 3 * 2+ 5].index.tolist() +\n",
    "              gg_pairs[-5:].index.tolist())\n",
    "curr_pairs_table = pd.DataFrame([get_pair_info(p) for p in curr_pairs]).set_index(['l_name', 'r_name'])\n",
    "curr_pairs_table"
   ]
  },
  {
   "cell_type": "code",
   "execution_count": null,
   "metadata": {
    "hidden": true
   },
   "outputs": [],
   "source": [
    "curr_pairs_table.to_csv('./results/ggw.csv')"
   ]
  },
  {
   "cell_type": "markdown",
   "metadata": {
    "heading_collapsed": true,
    "hidden": true
   },
   "source": [
    "### bbw"
   ]
  },
  {
   "cell_type": "code",
   "execution_count": null,
   "metadata": {
    "hidden": true
   },
   "outputs": [],
   "source": [
    "bb_pairs = list(bpg_2013 & bpg_2015)\n",
    "len(bb_pairs)"
   ]
  },
  {
   "cell_type": "code",
   "execution_count": null,
   "metadata": {
    "hidden": true
   },
   "outputs": [],
   "source": [
    "bb_pairs = ew_2013_s.loc[bb_pairs[:100_000]].sort_values()\n",
    "bb_pairs.describe(percentiles=[.01, .05, .1, .25, .5, .75, .9, .95, .99])"
   ]
  },
  {
   "cell_type": "code",
   "execution_count": null,
   "metadata": {
    "hidden": true
   },
   "outputs": [],
   "source": [
    "bb_pairs[bb_pairs > 0].map(np.log10).hist(bins='auto');"
   ]
  },
  {
   "cell_type": "code",
   "execution_count": null,
   "metadata": {
    "hidden": true
   },
   "outputs": [],
   "source": [
    "get_pair_info(bb_pairs.index[0])"
   ]
  },
  {
   "cell_type": "code",
   "execution_count": null,
   "metadata": {
    "hidden": true
   },
   "outputs": [],
   "source": [
    "curr_pairs = (bb_pairs[:5].index.tolist() +\n",
    "              bb_pairs[(bb_pairs > 0) & (bb_pairs < 4)].index[:5].tolist() +\n",
    "              bb_pairs[(bb_pairs > 5) & (bb_pairs < 9)].index[:5].tolist() +\n",
    "              bb_pairs[-5:].index.tolist())\n",
    "curr_pairs_table = pd.DataFrame([get_pair_info(p) for p in curr_pairs]).set_index(['l_name', 'r_name'])\n",
    "curr_pairs_table"
   ]
  },
  {
   "cell_type": "code",
   "execution_count": null,
   "metadata": {
    "hidden": true
   },
   "outputs": [],
   "source": [
    "curr_pairs_table.to_csv('./results/bbw.csv')"
   ]
  },
  {
   "cell_type": "markdown",
   "metadata": {
    "heading_collapsed": true,
    "hidden": true
   },
   "source": [
    "### bgw"
   ]
  },
  {
   "cell_type": "code",
   "execution_count": null,
   "metadata": {
    "hidden": true
   },
   "outputs": [],
   "source": [
    "bg_pairs = list(bpg_2013 & gpg_2015)\n",
    "len(bg_pairs)"
   ]
  },
  {
   "cell_type": "code",
   "execution_count": null,
   "metadata": {
    "hidden": true
   },
   "outputs": [],
   "source": [
    "bg_pairs = ew_2013_s.loc[bg_pairs].sort_values()\n",
    "bg_pairs.describe(percentiles=[.01, .05, .1, .25, .5, .75, .9, .95, .99])"
   ]
  },
  {
   "cell_type": "code",
   "execution_count": null,
   "metadata": {
    "hidden": true
   },
   "outputs": [],
   "source": [
    "bg_pairs[bg_pairs > 0].map(np.log10).hist(bins='auto');"
   ]
  },
  {
   "cell_type": "code",
   "execution_count": null,
   "metadata": {
    "hidden": true
   },
   "outputs": [],
   "source": [
    "get_pair_info(bg_pairs.index[0])"
   ]
  },
  {
   "cell_type": "code",
   "execution_count": null,
   "metadata": {
    "hidden": true
   },
   "outputs": [],
   "source": [
    "curr_pairs = (bg_pairs[:5].index.tolist() +\n",
    "              bg_pairs[len(bg_pairs) // 3:len(bg_pairs) // 3 + 5].index.tolist() +\n",
    "              bg_pairs[len(bg_pairs) // 3 * 2:len(bg_pairs) // 3 * 2+ 5].index.tolist() +\n",
    "              bg_pairs[-5:].index.tolist())\n",
    "curr_pairs_table = pd.DataFrame([get_pair_info(p) for p in curr_pairs]).set_index(['l_name', 'r_name'])\n",
    "curr_pairs_table"
   ]
  },
  {
   "cell_type": "code",
   "execution_count": null,
   "metadata": {
    "hidden": true
   },
   "outputs": [],
   "source": [
    "curr_pairs_table.to_csv('./results/bgw.csv')"
   ]
  }
 ],
 "metadata": {
  "kernelspec": {
   "display_name": "Python 3",
   "language": "python",
   "name": "python3"
  },
  "language_info": {
   "codemirror_mode": {
    "name": "ipython",
    "version": 3
   },
   "file_extension": ".py",
   "mimetype": "text/x-python",
   "name": "python",
   "nbconvert_exporter": "python",
   "pygments_lexer": "ipython3",
   "version": "3.7.3"
  },
  "toc": {
   "base_numbering": 1,
   "nav_menu": {},
   "number_sections": true,
   "sideBar": true,
   "skip_h1_title": false,
   "title_cell": "Table of Contents",
   "title_sidebar": "Contents",
   "toc_cell": false,
   "toc_position": {},
   "toc_section_display": true,
   "toc_window_display": false
  }
 },
 "nbformat": 4,
 "nbformat_minor": 2
}
